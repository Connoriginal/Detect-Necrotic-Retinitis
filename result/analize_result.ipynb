{
 "cells": [
  {
   "cell_type": "code",
   "execution_count": 3,
   "metadata": {},
   "outputs": [],
   "source": [
    "import numpy as np\n",
    "import pandas as pd\n",
    "import matplotlib.pyplot as plt"
   ]
  },
  {
   "cell_type": "code",
   "execution_count": 4,
   "metadata": {},
   "outputs": [],
   "source": [
    "df1 = pd.read_excel('./pred_true_1.xlsx')\n",
    "df2 = pd.read_excel('./pred_true_2.xlsx')"
   ]
  },
  {
   "cell_type": "code",
   "execution_count": 5,
   "metadata": {},
   "outputs": [
    {
     "name": "stdout",
     "output_type": "stream",
     "text": [
      "df1_pred :  0    902\n",
      "1     19\n",
      "Name: pred, dtype: int64\n",
      "df1_true :  0    904\n",
      "1     17\n",
      "Name: true, dtype: int64\n",
      "df2_pred :  0    837\n",
      "1     84\n",
      "Name: pred, dtype: int64\n",
      "df2_true :  0    839\n",
      "1     82\n",
      "Name: true, dtype: int64\n"
     ]
    }
   ],
   "source": [
    "# count 'pred' & 'true'\n",
    "df1_pred = df1['pred'].value_counts()\n",
    "df1_true = df1['true'].value_counts()\n",
    "df2_pred = df2['pred'].value_counts()\n",
    "df2_true = df2['true'].value_counts()\n",
    "\n",
    "# Print\n",
    "print(\"df1_pred : \", df1_pred)\n",
    "print(\"df1_true : \", df1_true)\n",
    "print(\"df2_pred : \", df2_pred)\n",
    "print(\"df2_true : \", df2_true)\n"
   ]
  }
 ],
 "metadata": {
  "kernelspec": {
   "display_name": "Python 3.7.11 ('DL')",
   "language": "python",
   "name": "python3"
  },
  "language_info": {
   "codemirror_mode": {
    "name": "ipython",
    "version": 3
   },
   "file_extension": ".py",
   "mimetype": "text/x-python",
   "name": "python",
   "nbconvert_exporter": "python",
   "pygments_lexer": "ipython3",
   "version": "3.7.11"
  },
  "orig_nbformat": 4,
  "vscode": {
   "interpreter": {
    "hash": "99e55bba2bfd190bfffb28d55de7b9b9d0506f838e465f2cacf9c84476e1bc53"
   }
  }
 },
 "nbformat": 4,
 "nbformat_minor": 2
}
