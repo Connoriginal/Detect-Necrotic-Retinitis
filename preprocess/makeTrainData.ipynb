{
 "cells": [
  {
   "cell_type": "code",
   "execution_count": 1,
   "metadata": {},
   "outputs": [],
   "source": [
    "import pandas as pd\n",
    "import torch\n",
    "import numpy as np\n",
    "import matplotlib.pyplot as plt\n",
    "from sklearn.model_selection import train_test_split\n",
    "\n",
    "%matplotlib inline\n",
    "\n",
    "PATH = '../data/preprocess/'\n",
    "PATH_learn = '../data/'\n",
    "file_name = 'final_data_normalize.xlsx'"
   ]
  },
  {
   "cell_type": "code",
   "execution_count": 2,
   "metadata": {},
   "outputs": [
    {
     "name": "stdout",
     "output_type": "stream",
     "text": [
      "Index(['연구등록번호', 'Diagnosis', 'Gender', '진단시점나이', 'CMV IgM[Serum]',\n",
      "       'CMV IgG[Serum]', 'HSV IgM[Serum]', 'HSV IgG[Serum]', 'VZV IgM[Serum]',\n",
      "       'VZV IgG[Serum]', 'WBC COUNT[Whole blood]',\n",
      "       'Lymphocyte(#)[Whole blood]', 'Lymphocyte(%)[Whole blood]',\n",
      "       'Monocyte(#)[Whole blood]', 'Monocyte(%)[Whole blood]',\n",
      "       'Neutrophil(#)[Whole blood]', 'Neutrophil(%)[Whole blood]',\n",
      "       'ESR[Whole blood]', 'CRP[Serum]'],\n",
      "      dtype='object')\n"
     ]
    }
   ],
   "source": [
    "df = pd.read_excel(PATH + file_name)\n",
    "\n",
    "print(df.columns)"
   ]
  },
  {
   "cell_type": "markdown",
   "metadata": {},
   "source": [
    "# Split data"
   ]
  },
  {
   "cell_type": "code",
   "execution_count": 3,
   "metadata": {},
   "outputs": [],
   "source": [
    "feature_cols = ['Gender','진단시점나이','CMV IgM[Serum]', 'CMV IgG[Serum]', 'HSV IgM[Serum]', 'VZV IgM[Serum]',\n",
    "       'VZV IgG[Serum]', 'WBC COUNT[Whole blood]',\n",
    "       'Lymphocyte(#)[Whole blood]', 'Lymphocyte(%)[Whole blood]',\n",
    "       'Monocyte(#)[Whole blood]', 'Monocyte(%)[Whole blood]',\n",
    "       'Neutrophil(#)[Whole blood]', 'Neutrophil(%)[Whole blood]',\n",
    "       'ESR[Whole blood]', 'CRP[Serum]']\n",
    "\n",
    "X = df[feature_cols]\n",
    "y = df['Diagnosis']"
   ]
  },
  {
   "cell_type": "code",
   "execution_count": 4,
   "metadata": {},
   "outputs": [
    {
     "name": "stdout",
     "output_type": "stream",
     "text": [
      "0    1600\n",
      "2      86\n",
      "1      28\n",
      "Name: Diagnosis, dtype: int64\n",
      "0    528\n",
      "2     30\n",
      "1     14\n",
      "Name: Diagnosis, dtype: int64\n",
      "0    534\n",
      "2     24\n",
      "1     14\n",
      "Name: Diagnosis, dtype: int64\n"
     ]
    }
   ],
   "source": [
    "X_train, X_test, y_train, y_test = train_test_split(X, y, test_size=0.4, random_state=42)\n",
    "X_valid, X_test, y_valid, y_test = train_test_split(X_test, y_test, test_size=0.5, random_state=42)\n",
    "\n",
    "print(y_train.value_counts())\n",
    "print(y_valid.value_counts())\n",
    "print(y_test.value_counts())"
   ]
  },
  {
   "cell_type": "code",
   "execution_count": 5,
   "metadata": {},
   "outputs": [],
   "source": [
    "df_train = pd.DataFrame(X_train, columns=feature_cols)\n",
    "df_train['Diagnosis'] = y_train\n",
    "\n",
    "df_valid = pd.DataFrame(X_valid, columns=feature_cols)\n",
    "df_valid['Diagnosis'] = y_valid\n",
    "\n",
    "df_test = pd.DataFrame(X_test, columns=feature_cols)\n",
    "df_test['Diagnosis'] = y_test"
   ]
  },
  {
   "cell_type": "code",
   "execution_count": 6,
   "metadata": {},
   "outputs": [],
   "source": [
    "df_train.to_csv(PATH_learn + 'train.csv', index=False)\n",
    "df_valid.to_csv(PATH_learn + 'valid.csv', index=False)\n",
    "df_test.to_csv(PATH_learn + 'test.csv', index=False)"
   ]
  },
  {
   "cell_type": "markdown",
   "metadata": {},
   "source": [
    "# Figure Data Imbalance problem"
   ]
  },
  {
   "cell_type": "code",
   "execution_count": 7,
   "metadata": {},
   "outputs": [],
   "source": [
    "from imblearn.over_sampling import SMOTE, BorderlineSMOTE, ADASYN\n",
    "from imblearn.under_sampling import TomekLinks, CondensedNearestNeighbour, OneSidedSelection, EditedNearestNeighbours\n",
    "from imblearn.combine import SMOTETomek, SMOTEENN"
   ]
  },
  {
   "cell_type": "markdown",
   "metadata": {},
   "source": [
    "## Under Sampling"
   ]
  },
  {
   "cell_type": "code",
   "execution_count": 8,
   "metadata": {},
   "outputs": [],
   "source": [
    "tl = TomekLinks()\n",
    "cnn = CondensedNearestNeighbour()\n",
    "oss = OneSidedSelection()\n",
    "enn = EditedNearestNeighbours()\n",
    "\n",
    "x_tl, y_tl = tl.fit_resample(X_train, y_train)\n",
    "x_cnn, y_cnn = cnn.fit_resample(X_train, y_train)\n",
    "x_oss, y_oss = oss.fit_resample(X_train, y_train)\n",
    "x_enn, y_enn = enn.fit_resample(X_train, y_train)\n",
    "\n",
    "x_valid_tl, y_valid_tl = tl.fit_resample(X_valid, y_valid)\n",
    "x_valid_cnn, y_valid_cnn = cnn.fit_resample(X_valid, y_valid)\n",
    "x_valid_oss, y_valid_oss = oss.fit_resample(X_valid, y_valid)\n",
    "x_valid_enn, y_valid_enn = enn.fit_resample(X_valid, y_valid)\n"
   ]
  },
  {
   "cell_type": "code",
   "execution_count": 9,
   "metadata": {},
   "outputs": [
    {
     "name": "stdout",
     "output_type": "stream",
     "text": [
      "-----Train Data-----\n",
      "0    1592\n",
      "2      82\n",
      "1      28\n",
      "Name: Diagnosis, dtype: int64\n",
      "0    106\n",
      "2     31\n",
      "1     28\n",
      "Name: Diagnosis, dtype: int64\n",
      "0    1528\n",
      "2      75\n",
      "1      28\n",
      "Name: Diagnosis, dtype: int64\n",
      "0    1532\n",
      "1      28\n",
      "2      17\n",
      "Name: Diagnosis, dtype: int64\n",
      "-----Valid Data-----\n",
      "0    526\n",
      "2     28\n",
      "1     14\n",
      "Name: Diagnosis, dtype: int64\n",
      "0    33\n",
      "1    14\n",
      "2    13\n",
      "Name: Diagnosis, dtype: int64\n",
      "0    283\n",
      "2     22\n",
      "1     14\n",
      "Name: Diagnosis, dtype: int64\n",
      "0    501\n",
      "1     14\n",
      "Name: Diagnosis, dtype: int64\n"
     ]
    }
   ],
   "source": [
    "print('-----Train Data-----')\n",
    "print(y_tl.value_counts())\n",
    "print(y_cnn.value_counts())\n",
    "print(y_oss.value_counts())\n",
    "print(y_enn.value_counts())\n",
    "\n",
    "print('-----Valid Data-----')\n",
    "print(y_valid_tl.value_counts())\n",
    "print(y_valid_cnn.value_counts())\n",
    "print(y_valid_oss.value_counts())\n",
    "print(y_valid_enn.value_counts())"
   ]
  },
  {
   "cell_type": "markdown",
   "metadata": {},
   "source": [
    "## Over Sampling"
   ]
  },
  {
   "cell_type": "code",
   "execution_count": 10,
   "metadata": {},
   "outputs": [],
   "source": [
    "sm = SMOTE(random_state=42)\n",
    "blsm = BorderlineSMOTE(random_state=42)\n",
    "adasyn = ADASYN(random_state=42)\n",
    "\n",
    "x_sm, y_sm = sm.fit_resample(X_train, y_train)\n",
    "x_blsm, y_blsm = blsm.fit_resample(X_train, y_train)\n",
    "x_adasyn, y_adasyn = adasyn.fit_resample(X_train, y_train)\n",
    "\n",
    "x_valid_sm, y_valid_sm = sm.fit_resample(X_valid, y_valid)\n",
    "x_valid_blsm, y_valid_blsm = blsm.fit_resample(X_valid, y_valid)\n",
    "x_valid_adasyn, y_valid_adasyn = adasyn.fit_resample(X_valid, y_valid)"
   ]
  },
  {
   "cell_type": "code",
   "execution_count": 11,
   "metadata": {},
   "outputs": [
    {
     "name": "stdout",
     "output_type": "stream",
     "text": [
      "-----Train Data-----\n",
      "0    1600\n",
      "2    1600\n",
      "1    1600\n",
      "Name: Diagnosis, dtype: int64\n",
      "0    1600\n",
      "2    1600\n",
      "1    1600\n",
      "Name: Diagnosis, dtype: int64\n",
      "1    1604\n",
      "2    1602\n",
      "0    1600\n",
      "Name: Diagnosis, dtype: int64\n",
      "-----Valid Data-----\n",
      "0    528\n",
      "1    528\n",
      "2    528\n",
      "Name: Diagnosis, dtype: int64\n",
      "0    528\n",
      "1    528\n",
      "2    528\n",
      "Name: Diagnosis, dtype: int64\n",
      "1    529\n",
      "0    528\n",
      "2    526\n",
      "Name: Diagnosis, dtype: int64\n"
     ]
    }
   ],
   "source": [
    "print('-----Train Data-----')\n",
    "print(y_sm.value_counts())\n",
    "print(y_blsm.value_counts())\n",
    "print(y_adasyn.value_counts())\n",
    "\n",
    "print('-----Valid Data-----')\n",
    "print(y_valid_sm.value_counts())\n",
    "print(y_valid_blsm.value_counts())\n",
    "print(y_valid_adasyn.value_counts())"
   ]
  },
  {
   "cell_type": "markdown",
   "metadata": {},
   "source": [
    "## Combine"
   ]
  },
  {
   "cell_type": "code",
   "execution_count": 12,
   "metadata": {},
   "outputs": [],
   "source": [
    "st = SMOTETomek(random_state=42)\n",
    "stn = SMOTEENN(random_state=42)\n",
    "\n",
    "x_st, y_st = st.fit_resample(X_train, y_train)\n",
    "x_stn, y_stn = stn.fit_resample(X_train, y_train)\n",
    "\n",
    "x_valid_st, y_valid_st = st.fit_resample(X_valid, y_valid)\n",
    "x_valid_stn, y_valid_stn = stn.fit_resample(X_valid, y_valid)\n"
   ]
  },
  {
   "cell_type": "code",
   "execution_count": 13,
   "metadata": {},
   "outputs": [
    {
     "name": "stdout",
     "output_type": "stream",
     "text": [
      "-----Train Data-----\n",
      "0    1600\n",
      "2    1600\n",
      "1    1600\n",
      "Name: Diagnosis, dtype: int64\n",
      "1    1600\n",
      "2    1596\n",
      "0    1446\n",
      "Name: Diagnosis, dtype: int64\n",
      "-----Valid Data-----\n",
      "0    528\n",
      "1    528\n",
      "2    528\n",
      "Name: Diagnosis, dtype: int64\n",
      "1    528\n",
      "2    522\n",
      "0    451\n",
      "Name: Diagnosis, dtype: int64\n"
     ]
    }
   ],
   "source": [
    "print('-----Train Data-----')\n",
    "print(y_st.value_counts())\n",
    "print(y_stn.value_counts())\n",
    "\n",
    "print('-----Valid Data-----')\n",
    "print(y_valid_st.value_counts())\n",
    "print(y_valid_stn.value_counts())"
   ]
  },
  {
   "cell_type": "code",
   "execution_count": 14,
   "metadata": {},
   "outputs": [],
   "source": [
    "df_smote = pd.DataFrame(x_sm, columns=feature_cols)\n",
    "df_smote['Diagnosis'] = y_sm\n",
    "df_valid_smote = pd.DataFrame(x_valid_sm, columns=feature_cols)\n",
    "df_valid_smote['Diagnosis'] = y_valid_sm\n",
    "\n",
    "df_adasyn = pd.DataFrame(x_adasyn, columns=feature_cols)\n",
    "df_adasyn['Diagnosis'] = y_adasyn\n",
    "df_valid_adasyn = pd.DataFrame(x_valid_adasyn, columns=feature_cols)\n",
    "df_valid_adasyn['Diagnosis'] = y_valid_adasyn\n",
    "\n",
    "df_smoteenn = pd.DataFrame(x_stn, columns=feature_cols)\n",
    "df_smoteenn['Diagnosis'] = y_stn\n",
    "df_valid_smoteenn = pd.DataFrame(x_valid_stn, columns=feature_cols)\n",
    "df_valid_smoteenn['Diagnosis'] = y_valid_stn\n",
    "\n",
    "# Train\n",
    "df_smote.to_csv(PATH_learn + 'train_data/smote.csv', index=False)\n",
    "df_adasyn.to_csv(PATH_learn + 'train_data/adasyn.csv', index=False)\n",
    "df_smoteenn.to_csv(PATH_learn + 'train_data/smoteenn.csv', index=False)\n",
    "\n",
    "# Valid\n",
    "df_valid_smote.to_csv(PATH_learn + 'valid_data/smote.csv', index=False)\n",
    "df_valid_adasyn.to_csv(PATH_learn + 'valid_data/adasyn.csv', index=False)\n",
    "df_valid_smoteenn.to_csv(PATH_learn + 'valid_data/smoteenn.csv', index=False)"
   ]
  },
  {
   "cell_type": "code",
   "execution_count": null,
   "metadata": {},
   "outputs": [],
   "source": []
  }
 ],
 "metadata": {
  "interpreter": {
   "hash": "b8076bc061f97e3217ad450c1541df79973787e36f6a4169d5d3c6972128daea"
  },
  "kernelspec": {
   "display_name": "DL",
   "language": "python",
   "name": "dl"
  },
  "language_info": {
   "codemirror_mode": {
    "name": "ipython",
    "version": 3
   },
   "file_extension": ".py",
   "mimetype": "text/x-python",
   "name": "python",
   "nbconvert_exporter": "python",
   "pygments_lexer": "ipython3",
   "version": "3.7.11"
  },
  "orig_nbformat": 4
 },
 "nbformat": 4,
 "nbformat_minor": 2
}
