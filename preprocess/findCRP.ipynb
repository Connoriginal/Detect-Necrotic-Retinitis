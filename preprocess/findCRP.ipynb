{
 "cells": [
  {
   "cell_type": "code",
   "execution_count": 1,
   "metadata": {},
   "outputs": [],
   "source": [
    "import pandas as pd\n",
    "import torch\n",
    "import numpy as np\n",
    "import matplotlib.pyplot as plt\n",
    "# import seaborn as sns\n",
    "\n",
    "%matplotlib inline\n",
    "\n",
    "PATH = '../data/preprocess/'\n",
    "file_name = '2005-2022 viral uveitis_220624.xlsx'"
   ]
  },
  {
   "cell_type": "code",
   "execution_count": 3,
   "metadata": {},
   "outputs": [
    {
     "name": "stdout",
     "output_type": "stream",
     "text": [
      "24\n",
      "350\n"
     ]
    }
   ],
   "source": [
    "# Read data\n",
    "df = pd.read_excel(PATH + file_name)\n",
    "\n",
    "# 진단일자는 전처리를 위해 넣어준다.\n",
    "init_columns = ['연구등록번호','Diagnosis','CMV PCR[EYE]','HSV type I PCR[EYE]','HSV type II PCR[EYE]','VZV PCR[EYE]','진단일자','Gender','진단시점나이','CMV IgM[Serum]','CMV IgG[Serum]',\n",
    "'HSV IgM[Serum]','HSV IgG[Serum]','VZV IgM[Serum]','VZV IgG[Serum]','WBC COUNT[Whole blood]','Lymphocyte(#)[Whole blood]',\n",
    "'Lymphocyte(%)[Whole blood]','Monocyte(#)[Whole blood]','Monocyte(%)[Whole blood]','Neutrophil(#)[Whole blood]',\n",
    "'Neutrophil(%)[Whole blood]','ESR[Whole blood]','CRP[Serum]']\n",
    "\n",
    "feature_column = ['Diagnosis','진단시점나이','Gender','CMV IgM[Serum]','CMV IgG[Serum]',\n",
    "'HSV IgM[Serum]','HSV IgG[Serum]','VZV IgM[Serum]','VZV IgG[Serum]','WBC COUNT[Whole blood]','Lymphocyte(#)[Whole blood]',\n",
    "'Lymphocyte(%)[Whole blood]','Monocyte(#)[Whole blood]','Monocyte(%)[Whole blood]','Neutrophil(#)[Whole blood]',\n",
    "'Neutrophil(%)[Whole blood]','ESR[Whole blood]','CRP[Serum]']\n",
    "print(len(init_columns))\n",
    "print(len(df.columns))\n",
    "\n",
    "df_init = df[init_columns]"
   ]
  },
  {
   "cell_type": "code",
   "execution_count": 12,
   "metadata": {},
   "outputs": [],
   "source": [
    "df = df_init[['연구등록번호','Diagnosis','CRP[Serum]']].dropna()"
   ]
  },
  {
   "cell_type": "code",
   "execution_count": 13,
   "metadata": {},
   "outputs": [
    {
     "name": "stdout",
     "output_type": "stream",
     "text": [
      "        연구등록번호  Diagnosis  CRP[Serum]\n",
      "182   10671011          0        11.5\n",
      "340    9042054          0         2.7\n",
      "1208  10417875          1         2.8\n",
      "1265   9368801          2       151.4\n",
      "1357   5934475          0         0.0\n",
      "(79, 3)\n"
     ]
    }
   ],
   "source": [
    "print(df.head())\n",
    "print(df.shape)"
   ]
  },
  {
   "cell_type": "code",
   "execution_count": 14,
   "metadata": {},
   "outputs": [],
   "source": [
    "df.to_excel('./find.xlsx', index = False)"
   ]
  },
  {
   "cell_type": "code",
   "execution_count": null,
   "metadata": {},
   "outputs": [],
   "source": []
  }
 ],
 "metadata": {
  "kernelspec": {
   "display_name": "DL",
   "language": "python",
   "name": "dl"
  },
  "language_info": {
   "codemirror_mode": {
    "name": "ipython",
    "version": 3
   },
   "file_extension": ".py",
   "mimetype": "text/x-python",
   "name": "python",
   "nbconvert_exporter": "python",
   "pygments_lexer": "ipython3",
   "version": "3.7.11"
  },
  "orig_nbformat": 4
 },
 "nbformat": 4,
 "nbformat_minor": 2
}
