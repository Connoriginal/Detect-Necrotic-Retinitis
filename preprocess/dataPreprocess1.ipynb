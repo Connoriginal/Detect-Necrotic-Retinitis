{
 "cells": [
  {
   "cell_type": "code",
   "execution_count": 1,
   "metadata": {},
   "outputs": [],
   "source": [
    "import pandas as pd\n",
    "import torch\n",
    "import numpy as np\n",
    "import matplotlib.pyplot as plt\n",
    "import seaborn as sns\n",
    "\n",
    "%matplotlib inline\n",
    "\n",
    "PATH = '../data/'\n",
    "file_name = '2005-2022 viral uveitis_220624.xlsx'"
   ]
  },
  {
   "cell_type": "code",
   "execution_count": 2,
   "metadata": {},
   "outputs": [
    {
     "name": "stdout",
     "output_type": "stream",
     "text": [
      "(10000, 350)\n"
     ]
    }
   ],
   "source": [
    "# Read data\n",
    "df = pd.read_excel(PATH + file_name)\n",
    "\n",
    "# Total number\n",
    "print(df.shape)\n"
   ]
  },
  {
   "cell_type": "code",
   "execution_count": 16,
   "metadata": {},
   "outputs": [
    {
     "name": "stdout",
     "output_type": "stream",
     "text": [
      "20\n",
      "350\n"
     ]
    }
   ],
   "source": [
    "# 진단일자는 전처리를 위해 넣어준다.\n",
    "init_columns = ['연구등록번호','Diagnosis','진단일자','Gender','진단시점나이','CMV IgM[Serum]','CMV IgG[Serum]',\n",
    "'HSV IgM[Serum]','HSV IgG[Serum]','VZV IgM[Serum]','VZV IgG[Serum]','WBC COUNT[Whole blood]','Lymphocyte(#)[Whole blood]',\n",
    "'Lymphocyte(%)[Whole blood]','Monocyte(#)[Whole blood]','Monocyte(%)[Whole blood]','Neutrophil(#)[Whole blood]',\n",
    "'Neutrophil(%)[Whole blood]','ESR[Whole blood]','CRP[Serum]']\n",
    "\n",
    "feature_column = ['Diagnosis','CMV IgM[Serum]','CMV IgG[Serum]',\n",
    "'HSV IgM[Serum]','HSV IgG[Serum]','VZV IgM[Serum]','VZV IgG[Serum]','WBC COUNT[Whole blood]','Lymphocyte(#)[Whole blood]',\n",
    "'Lymphocyte(%)[Whole blood]','Monocyte(#)[Whole blood]','Monocyte(%)[Whole blood]','Neutrophil(#)[Whole blood]',\n",
    "'Neutrophil(%)[Whole blood]','ESR[Whole blood]','CRP[Serum]']\n",
    "print(len(init_columns))\n",
    "print(len(df.columns))\n",
    "\n",
    "df_init = df[init_columns]"
   ]
  },
  {
   "cell_type": "code",
   "execution_count": 4,
   "metadata": {},
   "outputs": [],
   "source": [
    "# sort by 연구등록번호\n",
    "df_init = df_init.sort_values(by=['연구등록번호','진단일자'])\n",
    "\n",
    "# save to xlsx\n",
    "df_init.to_excel(PATH + 'init_data.xlsx', index=False)"
   ]
  },
  {
   "cell_type": "markdown",
   "metadata": {},
   "source": [
    "# Information"
   ]
  },
  {
   "cell_type": "code",
   "execution_count": 5,
   "metadata": {},
   "outputs": [
    {
     "name": "stdout",
     "output_type": "stream",
     "text": [
      "<class 'pandas.core.frame.DataFrame'>\n",
      "Int64Index: 10000 entries, 9391 to 873\n",
      "Data columns (total 20 columns):\n",
      " #   Column                      Non-Null Count  Dtype  \n",
      "---  ------                      --------------  -----  \n",
      " 0   연구등록번호                      10000 non-null  int64  \n",
      " 1   Diagnosis                   10000 non-null  int64  \n",
      " 2   진단일자                        10000 non-null  object \n",
      " 3   Gender                      10000 non-null  int64  \n",
      " 4   진단시점나이                      10000 non-null  int64  \n",
      " 5   CMV IgM[Serum]              866 non-null    float64\n",
      " 6   CMV IgG[Serum]              839 non-null    float64\n",
      " 7   HSV IgM[Serum]              893 non-null    float64\n",
      " 8   HSV IgG[Serum]              0 non-null      float64\n",
      " 9   VZV IgM[Serum]              775 non-null    object \n",
      " 10  VZV IgG[Serum]              775 non-null    float64\n",
      " 11  WBC COUNT[Whole blood]      9444 non-null   float64\n",
      " 12  Lymphocyte(#)[Whole blood]  9075 non-null   float64\n",
      " 13  Lymphocyte(%)[Whole blood]  9075 non-null   float64\n",
      " 14  Monocyte(#)[Whole blood]    9075 non-null   object \n",
      " 15  Monocyte(%)[Whole blood]    9075 non-null   float64\n",
      " 16  Neutrophil(#)[Whole blood]  9075 non-null   object \n",
      " 17  Neutrophil(%)[Whole blood]  7307 non-null   float64\n",
      " 18  ESR[Whole blood]            1398 non-null   float64\n",
      " 19  CRP[Serum]                  79 non-null     float64\n",
      "dtypes: float64(12), int64(4), object(4)\n",
      "memory usage: 1.6+ MB\n",
      "0    8805\n",
      "2    1021\n",
      "1     174\n",
      "Name: Diagnosis, dtype: int64\n"
     ]
    }
   ],
   "source": [
    "df_init.info()\n",
    "\n",
    "# Count Diagnosis 0,1,2 \n",
    "print(df_init['Diagnosis'].value_counts())"
   ]
  },
  {
   "cell_type": "code",
   "execution_count": 17,
   "metadata": {},
   "outputs": [
    {
     "name": "stdout",
     "output_type": "stream",
     "text": [
      "           CMV IgM[Serum]  CMV IgG[Serum]  HSV IgM[Serum]  HSV IgG[Serum]  \\\n",
      "Diagnosis                                                                   \n",
      "0                     796             766             819               0   \n",
      "1                      27              28              31               0   \n",
      "2                      43              45              43               0   \n",
      "\n",
      "           VZV IgM[Serum]  VZV IgG[Serum]  WBC COUNT[Whole blood]  \\\n",
      "Diagnosis                                                           \n",
      "0                     715             707                    8359   \n",
      "1                      32              32                     150   \n",
      "2                      28              36                     935   \n",
      "\n",
      "           Lymphocyte(#)[Whole blood]  Lymphocyte(%)[Whole blood]  \\\n",
      "Diagnosis                                                           \n",
      "0                                8028                        8028   \n",
      "1                                 138                         138   \n",
      "2                                 909                         909   \n",
      "\n",
      "           Monocyte(#)[Whole blood]  Monocyte(%)[Whole blood]  \\\n",
      "Diagnosis                                                       \n",
      "0                              8028                      8028   \n",
      "1                               138                       138   \n",
      "2                               909                       909   \n",
      "\n",
      "           Neutrophil(#)[Whole blood]  Neutrophil(%)[Whole blood]  \\\n",
      "Diagnosis                                                           \n",
      "0                                8028                        6404   \n",
      "1                                 138                         105   \n",
      "2                                 909                         798   \n",
      "\n",
      "           ESR[Whole blood]  CRP[Serum]  \n",
      "Diagnosis                                \n",
      "0                      1279          75  \n",
      "1                        15           1  \n",
      "2                       104           3  \n"
     ]
    }
   ],
   "source": [
    "# 각 column 별 분포도 확인\n",
    "df_cluster = df[feature_column]\n",
    "\n",
    "print(df_cluster.groupby('Diagnosis').count())\n"
   ]
  },
  {
   "cell_type": "markdown",
   "metadata": {},
   "source": [
    "## 데이터 확인\n",
    "\n",
    "* '연구등록번호'는 동일하나 'Diagnosis' 가 다른 케이스 확인"
   ]
  },
  {
   "cell_type": "code",
   "execution_count": 74,
   "metadata": {},
   "outputs": [],
   "source": [
    "df_check = df_init.groupby('연구등록번호')\n",
    "\n",
    "flag_list = []\n",
    "\n",
    "# group마다 다 동일한 'Diagnosis'이 있는지 확인\n",
    "for name, group in df_check:\n",
    "    flag = False\n",
    "    for i in range(len(group)-1):\n",
    "        if group.iloc[i]['Diagnosis'] != group.iloc[i+1]['Diagnosis']:\n",
    "            flag = True\n",
    "        break\n",
    "    \n",
    "    if flag :\n",
    "        flag_list.append(name)\n",
    "\n"
   ]
  },
  {
   "cell_type": "code",
   "execution_count": 75,
   "metadata": {},
   "outputs": [
    {
     "name": "stdout",
     "output_type": "stream",
     "text": [
      "34\n",
      "[1650597, 1651044, 1787320, 2255608, 2580939, 2928404, 2999386, 3020526, 3071154, 3322426, 3380351, 3593450, 3810313, 3888182, 4024186, 4074938, 4117045, 4127695, 4129131, 4297907, 4320777, 4448924, 4515988, 4532082, 4567104, 4660852, 4776068, 4876243, 4940693, 5939457, 8769082, 9470306, 9824777, 10404588]\n"
     ]
    }
   ],
   "source": [
    "print(len(flag_list))\n",
    "print(flag_list)\n"
   ]
  },
  {
   "cell_type": "markdown",
   "metadata": {},
   "source": [
    "* 휴먼 어노테이트 후 \n",
    "* 검사관련 feature 가 다 비어 있는 row 제거"
   ]
  },
  {
   "cell_type": "code",
   "execution_count": 79,
   "metadata": {},
   "outputs": [
    {
     "name": "stdout",
     "output_type": "stream",
     "text": [
      "<class 'pandas.core.frame.DataFrame'>\n",
      "RangeIndex: 9852 entries, 0 to 9851\n",
      "Data columns (total 20 columns):\n",
      " #   Column                      Non-Null Count  Dtype  \n",
      "---  ------                      --------------  -----  \n",
      " 0   연구등록번호                      9852 non-null   int64  \n",
      " 1   Diagnosis                   9852 non-null   int64  \n",
      " 2   진단일자                        9852 non-null   object \n",
      " 3   Gender                      9852 non-null   int64  \n",
      " 4   진단시점나이                      9852 non-null   int64  \n",
      " 5   CMV IgM[Serum]              858 non-null    float64\n",
      " 6   CMV IgG[Serum]              831 non-null    float64\n",
      " 7   HSV IgM[Serum]              885 non-null    float64\n",
      " 8   HSV IgG[Serum]              0 non-null      float64\n",
      " 9   VZV IgM[Serum]              768 non-null    object \n",
      " 10  VZV IgG[Serum]              769 non-null    float64\n",
      " 11  WBC COUNT[Whole blood]      9359 non-null   float64\n",
      " 12  Lymphocyte(#)[Whole blood]  9006 non-null   float64\n",
      " 13  Lymphocyte(%)[Whole blood]  9006 non-null   float64\n",
      " 14  Monocyte(#)[Whole blood]    9006 non-null   object \n",
      " 15  Monocyte(%)[Whole blood]    9006 non-null   float64\n",
      " 16  Neutrophil(#)[Whole blood]  9006 non-null   object \n",
      " 17  Neutrophil(%)[Whole blood]  7255 non-null   float64\n",
      " 18  ESR[Whole blood]            1378 non-null   float64\n",
      " 19  CRP[Serum]                  79 non-null     float64\n",
      "dtypes: float64(12), int64(4), object(4)\n",
      "memory usage: 1.5+ MB\n",
      "None\n",
      "0    8699\n",
      "2     995\n",
      "1     158\n",
      "Name: Diagnosis, dtype: int64\n"
     ]
    }
   ],
   "source": [
    "# after 인간 annotation\n",
    "df_snd = pd.read_excel(PATH + 'snd_data.xlsx')\n",
    "print(df_snd.info())\n",
    "\n",
    "# Count Diagnosis 0,1,2 \n",
    "print(df_snd['Diagnosis'].value_counts())"
   ]
  },
  {
   "cell_type": "code",
   "execution_count": 80,
   "metadata": {},
   "outputs": [],
   "source": [
    "feature_column = ['CMV IgM[Serum]','CMV IgG[Serum]',\n",
    "'HSV IgM[Serum]','HSV IgG[Serum]','VZV IgM[Serum]','VZV IgG[Serum]','WBC COUNT[Whole blood]','Lymphocyte(#)[Whole blood]',\n",
    "'Lymphocyte(%)[Whole blood]','Monocyte(#)[Whole blood]','Monocyte(%)[Whole blood]','Neutrophil(#)[Whole blood]',\n",
    "'Neutrophil(%)[Whole blood]','ESR[Whole blood]','CRP[Serum]']\n"
   ]
  },
  {
   "cell_type": "code",
   "execution_count": 82,
   "metadata": {},
   "outputs": [
    {
     "name": "stdout",
     "output_type": "stream",
     "text": [
      "<class 'pandas.core.frame.DataFrame'>\n",
      "Int64Index: 9566 entries, 0 to 9851\n",
      "Data columns (total 20 columns):\n",
      " #   Column                      Non-Null Count  Dtype  \n",
      "---  ------                      --------------  -----  \n",
      " 0   연구등록번호                      9566 non-null   int64  \n",
      " 1   Diagnosis                   9566 non-null   int64  \n",
      " 2   진단일자                        9566 non-null   object \n",
      " 3   Gender                      9566 non-null   int64  \n",
      " 4   진단시점나이                      9566 non-null   int64  \n",
      " 5   CMV IgM[Serum]              858 non-null    float64\n",
      " 6   CMV IgG[Serum]              831 non-null    float64\n",
      " 7   HSV IgM[Serum]              885 non-null    float64\n",
      " 8   HSV IgG[Serum]              0 non-null      float64\n",
      " 9   VZV IgM[Serum]              768 non-null    object \n",
      " 10  VZV IgG[Serum]              769 non-null    float64\n",
      " 11  WBC COUNT[Whole blood]      9359 non-null   float64\n",
      " 12  Lymphocyte(#)[Whole blood]  9006 non-null   float64\n",
      " 13  Lymphocyte(%)[Whole blood]  9006 non-null   float64\n",
      " 14  Monocyte(#)[Whole blood]    9006 non-null   object \n",
      " 15  Monocyte(%)[Whole blood]    9006 non-null   float64\n",
      " 16  Neutrophil(#)[Whole blood]  9006 non-null   object \n",
      " 17  Neutrophil(%)[Whole blood]  7255 non-null   float64\n",
      " 18  ESR[Whole blood]            1378 non-null   float64\n",
      " 19  CRP[Serum]                  79 non-null     float64\n",
      "dtypes: float64(12), int64(4), object(4)\n",
      "memory usage: 1.5+ MB\n",
      "None\n",
      "0    8472\n",
      "2     950\n",
      "1     144\n",
      "Name: Diagnosis, dtype: int64\n"
     ]
    }
   ],
   "source": [
    "df_snd.dropna(subset=feature_column, inplace=True, how=\"all\")\n",
    "\n",
    "print(df_snd.info())\n",
    "# Count Diagnosis 0,1,2 \n",
    "print(df_snd['Diagnosis'].value_counts())"
   ]
  },
  {
   "cell_type": "code",
   "execution_count": 84,
   "metadata": {},
   "outputs": [
    {
     "name": "stdout",
     "output_type": "stream",
     "text": [
      "<class 'pandas.core.frame.DataFrame'>\n",
      "Int64Index: 9204 entries, 0 to 9851\n",
      "Data columns (total 20 columns):\n",
      " #   Column                      Non-Null Count  Dtype  \n",
      "---  ------                      --------------  -----  \n",
      " 0   연구등록번호                      9204 non-null   int64  \n",
      " 1   Diagnosis                   9204 non-null   int64  \n",
      " 2   진단일자                        9204 non-null   object \n",
      " 3   Gender                      9204 non-null   int64  \n",
      " 4   진단시점나이                      9204 non-null   int64  \n",
      " 5   CMV IgM[Serum]              858 non-null    float64\n",
      " 6   CMV IgG[Serum]              831 non-null    float64\n",
      " 7   HSV IgM[Serum]              885 non-null    float64\n",
      " 8   HSV IgG[Serum]              0 non-null      float64\n",
      " 9   VZV IgM[Serum]              768 non-null    object \n",
      " 10  VZV IgG[Serum]              769 non-null    float64\n",
      " 11  WBC COUNT[Whole blood]      8997 non-null   float64\n",
      " 12  Lymphocyte(#)[Whole blood]  9006 non-null   float64\n",
      " 13  Lymphocyte(%)[Whole blood]  9006 non-null   float64\n",
      " 14  Monocyte(#)[Whole blood]    9006 non-null   object \n",
      " 15  Monocyte(%)[Whole blood]    9006 non-null   float64\n",
      " 16  Neutrophil(#)[Whole blood]  9006 non-null   object \n",
      " 17  Neutrophil(%)[Whole blood]  7255 non-null   float64\n",
      " 18  ESR[Whole blood]            1378 non-null   float64\n",
      " 19  CRP[Serum]                  79 non-null     float64\n",
      "dtypes: float64(12), int64(4), object(4)\n",
      "memory usage: 1.5+ MB\n",
      "None\n",
      "0    8147\n",
      "2     920\n",
      "1     137\n",
      "Name: Diagnosis, dtype: int64\n"
     ]
    }
   ],
   "source": [
    "# WBC COUNT[Whole blood] 제거\n",
    "feature_column2 = ['CMV IgM[Serum]','CMV IgG[Serum]',\n",
    "'HSV IgM[Serum]','HSV IgG[Serum]','VZV IgM[Serum]','VZV IgG[Serum]','Lymphocyte(#)[Whole blood]',\n",
    "'Lymphocyte(%)[Whole blood]','Monocyte(#)[Whole blood]','Monocyte(%)[Whole blood]','Neutrophil(#)[Whole blood]',\n",
    "'Neutrophil(%)[Whole blood]','ESR[Whole blood]','CRP[Serum]']\n",
    "\n",
    "df_snd.dropna(subset=feature_column2, inplace=True, how=\"all\")\n",
    "\n",
    "print(df_snd.info())\n",
    "# Count Diagnosis 0,1,2 \n",
    "print(df_snd['Diagnosis'].value_counts())"
   ]
  },
  {
   "cell_type": "code",
   "execution_count": 86,
   "metadata": {},
   "outputs": [],
   "source": [
    "df_snd.to_excel(PATH + 'third_data.xlsx', index=False)"
   ]
  },
  {
   "cell_type": "code",
   "execution_count": null,
   "metadata": {},
   "outputs": [],
   "source": []
  }
 ],
 "metadata": {
  "interpreter": {
   "hash": "b8076bc061f97e3217ad450c1541df79973787e36f6a4169d5d3c6972128daea"
  },
  "kernelspec": {
   "display_name": "Python 3.7.11 ('NLP')",
   "language": "python",
   "name": "python3"
  },
  "language_info": {
   "codemirror_mode": {
    "name": "ipython",
    "version": 3
   },
   "file_extension": ".py",
   "mimetype": "text/x-python",
   "name": "python",
   "nbconvert_exporter": "python",
   "pygments_lexer": "ipython3",
   "version": "3.7.11"
  },
  "orig_nbformat": 4,
  "vscode": {
   "interpreter": {
    "hash": "99e55bba2bfd190bfffb28d55de7b9b9d0506f838e465f2cacf9c84476e1bc53"
   }
  }
 },
 "nbformat": 4,
 "nbformat_minor": 2
}
