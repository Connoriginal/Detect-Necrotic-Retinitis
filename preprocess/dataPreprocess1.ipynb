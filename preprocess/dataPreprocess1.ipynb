{
 "cells": [
  {
   "cell_type": "code",
   "execution_count": 3,
   "metadata": {},
   "outputs": [],
   "source": [
    "import pandas as pd\n",
    "import torch\n",
    "import numpy as np\n",
    "import matplotlib.pyplot as plt\n",
    "# import seaborn as sns\n",
    "\n",
    "%matplotlib inline\n",
    "\n",
    "PATH = '../data/preprocess/'\n",
    "file_name = '2005-2022 viral uveitis_220624.xlsx'"
   ]
  },
  {
   "cell_type": "code",
   "execution_count": 4,
   "metadata": {},
   "outputs": [
    {
     "name": "stdout",
     "output_type": "stream",
     "text": [
      "(10000, 350)\n"
     ]
    }
   ],
   "source": [
    "# Read data\n",
    "df = pd.read_excel(PATH + file_name)\n",
    "\n",
    "# Total number\n",
    "print(df.shape)\n"
   ]
  },
  {
   "cell_type": "code",
   "execution_count": 5,
   "metadata": {},
   "outputs": [
    {
     "name": "stdout",
     "output_type": "stream",
     "text": [
      "24\n",
      "350\n"
     ]
    }
   ],
   "source": [
    "# 진단일자는 전처리를 위해 넣어준다.\n",
    "init_columns = ['연구등록번호','Diagnosis','CMV PCR[EYE]','HSV type I PCR[EYE]','HSV type II PCR[EYE]','VZV PCR[EYE]','진단일자','Gender','진단시점나이','CMV IgM[Serum]','CMV IgG[Serum]',\n",
    "'HSV IgM[Serum]','HSV IgG[Serum]','VZV IgM[Serum]','VZV IgG[Serum]','WBC COUNT[Whole blood]','Lymphocyte(#)[Whole blood]',\n",
    "'Lymphocyte(%)[Whole blood]','Monocyte(#)[Whole blood]','Monocyte(%)[Whole blood]','Neutrophil(#)[Whole blood]',\n",
    "'Neutrophil(%)[Whole blood]','ESR[Whole blood]','CRP[Serum]']\n",
    "\n",
    "feature_column = ['Diagnosis','진단시점나이','Gender','CMV IgM[Serum]','CMV IgG[Serum]',\n",
    "'HSV IgM[Serum]','HSV IgG[Serum]','VZV IgM[Serum]','VZV IgG[Serum]','WBC COUNT[Whole blood]','Lymphocyte(#)[Whole blood]',\n",
    "'Lymphocyte(%)[Whole blood]','Monocyte(#)[Whole blood]','Monocyte(%)[Whole blood]','Neutrophil(#)[Whole blood]',\n",
    "'Neutrophil(%)[Whole blood]','ESR[Whole blood]','CRP[Serum]']\n",
    "print(len(init_columns))\n",
    "print(len(df.columns))\n",
    "\n",
    "df_init = df[init_columns]"
   ]
  },
  {
   "cell_type": "code",
   "execution_count": 6,
   "metadata": {},
   "outputs": [],
   "source": [
    "# sort by 연구등록번호\n",
    "df_init = df_init.sort_values(by=['연구등록번호','진단일자'])\n",
    "\n",
    "# save to xlsx\n",
    "# df_init.to_excel(PATH + 'init_data.xlsx', index=False)"
   ]
  },
  {
   "cell_type": "markdown",
   "metadata": {},
   "source": [
    "# Information"
   ]
  },
  {
   "cell_type": "code",
   "execution_count": 7,
   "metadata": {},
   "outputs": [
    {
     "name": "stdout",
     "output_type": "stream",
     "text": [
      "<class 'pandas.core.frame.DataFrame'>\n",
      "Int64Index: 10000 entries, 9391 to 873\n",
      "Data columns (total 24 columns):\n",
      " #   Column                      Non-Null Count  Dtype  \n",
      "---  ------                      --------------  -----  \n",
      " 0   연구등록번호                      10000 non-null  int64  \n",
      " 1   Diagnosis                   10000 non-null  int64  \n",
      " 2   CMV PCR[EYE]                295 non-null    object \n",
      " 3   HSV type I PCR[EYE]         22 non-null     float64\n",
      " 4   HSV type II PCR[EYE]        191 non-null    float64\n",
      " 5   VZV PCR[EYE]                18 non-null     float64\n",
      " 6   진단일자                        10000 non-null  object \n",
      " 7   Gender                      10000 non-null  int64  \n",
      " 8   진단시점나이                      10000 non-null  int64  \n",
      " 9   CMV IgM[Serum]              866 non-null    float64\n",
      " 10  CMV IgG[Serum]              839 non-null    float64\n",
      " 11  HSV IgM[Serum]              893 non-null    float64\n",
      " 12  HSV IgG[Serum]              0 non-null      float64\n",
      " 13  VZV IgM[Serum]              775 non-null    object \n",
      " 14  VZV IgG[Serum]              775 non-null    float64\n",
      " 15  WBC COUNT[Whole blood]      9444 non-null   float64\n",
      " 16  Lymphocyte(#)[Whole blood]  9075 non-null   float64\n",
      " 17  Lymphocyte(%)[Whole blood]  9075 non-null   float64\n",
      " 18  Monocyte(#)[Whole blood]    9075 non-null   object \n",
      " 19  Monocyte(%)[Whole blood]    9075 non-null   float64\n",
      " 20  Neutrophil(#)[Whole blood]  9075 non-null   object \n",
      " 21  Neutrophil(%)[Whole blood]  7307 non-null   float64\n",
      " 22  ESR[Whole blood]            1398 non-null   float64\n",
      " 23  CRP[Serum]                  79 non-null     float64\n",
      "dtypes: float64(15), int64(4), object(5)\n",
      "memory usage: 1.9+ MB\n",
      "연구등록번호                            0\n",
      "Diagnosis                         0\n",
      "CMV PCR[EYE]                   9705\n",
      "HSV type I PCR[EYE]            9978\n",
      "HSV type II PCR[EYE]           9809\n",
      "VZV PCR[EYE]                   9982\n",
      "진단일자                              0\n",
      "Gender                            0\n",
      "진단시점나이                            0\n",
      "CMV IgM[Serum]                 9134\n",
      "CMV IgG[Serum]                 9161\n",
      "HSV IgM[Serum]                 9107\n",
      "HSV IgG[Serum]                10000\n",
      "VZV IgM[Serum]                 9225\n",
      "VZV IgG[Serum]                 9225\n",
      "WBC COUNT[Whole blood]          556\n",
      "Lymphocyte(#)[Whole blood]      925\n",
      "Lymphocyte(%)[Whole blood]      925\n",
      "Monocyte(#)[Whole blood]        925\n",
      "Monocyte(%)[Whole blood]        925\n",
      "Neutrophil(#)[Whole blood]      925\n",
      "Neutrophil(%)[Whole blood]     2693\n",
      "ESR[Whole blood]               8602\n",
      "CRP[Serum]                     9921\n",
      "dtype: int64\n",
      "0    88.05\n",
      "2    10.21\n",
      "1     1.74\n",
      "Name: Diagnosis, dtype: float64\n",
      "0    8805\n",
      "2    1021\n",
      "1     174\n",
      "Name: Diagnosis, dtype: int64\n"
     ]
    }
   ],
   "source": [
    "df_init.info()\n",
    "# Count missing values\n",
    "print(df_init.isnull().sum())\n",
    "# Count Diagnosis 0,1,2 \n",
    "print(df_init['Diagnosis'].value_counts(normalize=True) * 100)\n",
    "print(df_init['Diagnosis'].value_counts())"
   ]
  },
  {
   "cell_type": "code",
   "execution_count": 37,
   "metadata": {},
   "outputs": [
    {
     "name": "stdout",
     "output_type": "stream",
     "text": [
      "          Diagnosis        진단시점나이        Gender  CMV IgM[Serum]  \\\n",
      "count  10000.000000  10000.000000  10000.000000      866.000000   \n",
      "mean       0.221600     45.348400      0.519700        0.099351   \n",
      "std        0.613784     16.291586      0.499637        0.368809   \n",
      "min        0.000000      0.000000      0.000000        0.000000   \n",
      "25%        0.000000     34.000000      0.000000        0.000000   \n",
      "50%        0.000000     46.000000      1.000000        0.000000   \n",
      "75%        0.000000     57.000000      1.000000        0.109250   \n",
      "max        2.000000     92.000000      1.000000        6.640000   \n",
      "\n",
      "       CMV IgG[Serum]  HSV IgM[Serum]  HSV IgG[Serum]  VZV IgG[Serum]  \\\n",
      "count      839.000000      893.000000             0.0      775.000000   \n",
      "mean        41.009743        0.264057             NaN      837.857535   \n",
      "std         32.879870        0.428801             NaN     1034.776210   \n",
      "min          0.000000        0.000000             NaN        0.000000   \n",
      "25%         17.850000        0.000000             NaN        6.050000   \n",
      "50%         37.000000        0.100000             NaN      520.000000   \n",
      "75%         54.000000        0.500000             NaN     1249.000000   \n",
      "max        267.000000        5.100000             NaN     8500.000000   \n",
      "\n",
      "       WBC COUNT[Whole blood]  Lymphocyte(#)[Whole blood]  \\\n",
      "count             9444.000000                 9075.000000   \n",
      "mean                 7.556950                    2.142188   \n",
      "std                  5.538762                    0.932051   \n",
      "min                  0.050000                    0.000000   \n",
      "25%                  5.460000                    1.540000   \n",
      "50%                  6.880000                    2.060000   \n",
      "75%                  8.820000                    2.620000   \n",
      "max                356.800000                   20.400000   \n",
      "\n",
      "       Lymphocyte(%)[Whole blood]  Monocyte(%)[Whole blood]  \\\n",
      "count                 9075.000000               9075.000000   \n",
      "mean                    31.106204                  7.149862   \n",
      "std                     11.772975                  3.537378   \n",
      "min                      0.000000                  0.000000   \n",
      "25%                     23.800000                  5.300000   \n",
      "50%                     31.200000                  6.700000   \n",
      "75%                     38.200000                  8.500000   \n",
      "max                    100.000000                 94.900000   \n",
      "\n",
      "       Neutrophil(%)[Whole blood]  ESR[Whole blood]  CRP[Serum]  \n",
      "count                 7307.000000       1398.000000   79.000000  \n",
      "mean                    60.016532         16.635908    4.274051  \n",
      "std                     13.702798         16.967223   17.116231  \n",
      "min                      0.000000          2.000000    0.000000  \n",
      "25%                     51.100000          5.000000    0.400000  \n",
      "50%                     59.000000         11.000000    1.400000  \n",
      "75%                     68.000000         22.000000    2.900000  \n",
      "max                    100.000000        120.000000  151.400000  \n"
     ]
    }
   ],
   "source": [
    "# 각 column 별 특징 판단\n",
    "df_cluster = df[feature_column]\n",
    "\n",
    "print(df_cluster.describe())\n"
   ]
  },
  {
   "cell_type": "code",
   "execution_count": 38,
   "metadata": {},
   "outputs": [
    {
     "name": "stdout",
     "output_type": "stream",
     "text": [
      "           진단시점나이  Gender  CMV IgM[Serum]  CMV IgG[Serum]  HSV IgM[Serum]  \\\n",
      "Diagnosis                                                                   \n",
      "0           88.05   88.05       91.916859       91.299166       91.713326   \n",
      "1            1.74    1.74        3.117783        3.337306        3.471445   \n",
      "2           10.21   10.21        4.965358        5.363528        4.815230   \n",
      "\n",
      "           HSV IgG[Serum]  VZV IgM[Serum]  VZV IgG[Serum]  \\\n",
      "Diagnosis                                                   \n",
      "0                     NaN       92.258065       91.225806   \n",
      "1                     NaN        4.129032        4.129032   \n",
      "2                     NaN        3.612903        4.645161   \n",
      "\n",
      "           WBC COUNT[Whole blood]  Lymphocyte(#)[Whole blood]  \\\n",
      "Diagnosis                                                       \n",
      "0                       88.511224                   88.462810   \n",
      "1                        1.588310                    1.520661   \n",
      "2                        9.900466                   10.016529   \n",
      "\n",
      "           Lymphocyte(%)[Whole blood]  Monocyte(#)[Whole blood]  \\\n",
      "Diagnosis                                                         \n",
      "0                           88.462810                 88.462810   \n",
      "1                            1.520661                  1.520661   \n",
      "2                           10.016529                 10.016529   \n",
      "\n",
      "           Monocyte(%)[Whole blood]  Neutrophil(#)[Whole blood]  \\\n",
      "Diagnosis                                                         \n",
      "0                         88.462810                   88.462810   \n",
      "1                          1.520661                    1.520661   \n",
      "2                         10.016529                   10.016529   \n",
      "\n",
      "           Neutrophil(%)[Whole blood]  ESR[Whole blood]  CRP[Serum]  \n",
      "Diagnosis                                                            \n",
      "0                           87.641987         91.487840   94.936709  \n",
      "1                            1.436978          1.072961    1.265823  \n",
      "2                           10.921035          7.439199    3.797468  \n"
     ]
    }
   ],
   "source": [
    "df_cluster_portion = df_cluster.groupby('Diagnosis').count()\n",
    "df_cluster_portion = df_cluster_portion / df_cluster_portion.sum() * 100\n",
    "print(df_cluster_portion)"
   ]
  },
  {
   "cell_type": "markdown",
   "metadata": {},
   "source": [
    "## 데이터 확인\n",
    "\n",
    "* '연구등록번호'는 동일하나 'Diagnosis' 가 다른 케이스 확인"
   ]
  },
  {
   "cell_type": "code",
   "execution_count": 43,
   "metadata": {},
   "outputs": [],
   "source": [
    "df_check = df_init.groupby('연구등록번호')\n",
    "\n",
    "flag_list = []\n",
    "\n",
    "# group마다 다 동일한 'Diagnosis'이 있는지 확인\n",
    "for name, group in df_check:\n",
    "    flag = False\n",
    "    for i in range(len(group)-1):\n",
    "        if group.iloc[i]['Diagnosis'] != group.iloc[i+1]['Diagnosis']:\n",
    "            flag = True\n",
    "            break\n",
    "    \n",
    "    if flag :\n",
    "        flag_list.append(name)\n",
    "\n"
   ]
  },
  {
   "cell_type": "code",
   "execution_count": 44,
   "metadata": {},
   "outputs": [
    {
     "name": "stdout",
     "output_type": "stream",
     "text": [
      "54\n",
      "[1340694, 1650597, 1651044, 1787320, 2019670, 2255608, 2263768, 2580939, 2708467, 2928404, 2999386, 3020526, 3071154, 3249107, 3322426, 3380351, 3403218, 3593450, 3617531, 3767153, 3810313, 3850619, 3888182, 3924853, 4013778, 4024186, 4074938, 4117045, 4127695, 4129131, 4153111, 4297907, 4320777, 4441436, 4448924, 4515988, 4532082, 4540113, 4567104, 4660852, 4776068, 4867817, 4876243, 4940693, 5939457, 8488929, 8769082, 8918959, 9470306, 9824777, 9899921, 10392399, 10404588, 10417875]\n"
     ]
    }
   ],
   "source": [
    "print(len(flag_list))\n",
    "print(flag_list)\n"
   ]
  },
  {
   "cell_type": "markdown",
   "metadata": {},
   "source": [
    "* 휴먼 어노테이트 후 \n",
    "* 검사관련 feature 가 다 비어 있는 row 제거"
   ]
  },
  {
   "cell_type": "code",
   "execution_count": 45,
   "metadata": {},
   "outputs": [
    {
     "name": "stdout",
     "output_type": "stream",
     "text": [
      "<class 'pandas.core.frame.DataFrame'>\n",
      "RangeIndex: 9803 entries, 0 to 9802\n",
      "Data columns (total 24 columns):\n",
      " #   Column                      Non-Null Count  Dtype  \n",
      "---  ------                      --------------  -----  \n",
      " 0   연구등록번호                      9803 non-null   int64  \n",
      " 1   Diagnosis                   9803 non-null   int64  \n",
      " 2   CMV PCR[EYE]                233 non-null    object \n",
      " 3   HSV type I PCR[EYE]         15 non-null     float64\n",
      " 4   HSV type II PCR[EYE]        157 non-null    float64\n",
      " 5   VZV PCR[EYE]                15 non-null     float64\n",
      " 6   진단일자                        9803 non-null   object \n",
      " 7   Gender                      9803 non-null   int64  \n",
      " 8   진단시점나이                      9803 non-null   int64  \n",
      " 9   CMV IgM[Serum]              850 non-null    float64\n",
      " 10  CMV IgG[Serum]              823 non-null    float64\n",
      " 11  HSV IgM[Serum]              876 non-null    float64\n",
      " 12  HSV IgG[Serum]              0 non-null      float64\n",
      " 13  VZV IgM[Serum]              760 non-null    object \n",
      " 14  VZV IgG[Serum]              761 non-null    float64\n",
      " 15  WBC COUNT[Whole blood]      9328 non-null   float64\n",
      " 16  Lymphocyte(#)[Whole blood]  8976 non-null   float64\n",
      " 17  Lymphocyte(%)[Whole blood]  8976 non-null   float64\n",
      " 18  Monocyte(#)[Whole blood]    8976 non-null   object \n",
      " 19  Monocyte(%)[Whole blood]    8976 non-null   float64\n",
      " 20  Neutrophil(#)[Whole blood]  8976 non-null   object \n",
      " 21  Neutrophil(%)[Whole blood]  7229 non-null   float64\n",
      " 22  ESR[Whole blood]            1376 non-null   float64\n",
      " 23  CRP[Serum]                  78 non-null     float64\n",
      "dtypes: float64(15), int64(4), object(5)\n",
      "memory usage: 1.8+ MB\n",
      "None\n",
      "0    8648\n",
      "2    1007\n",
      "1     148\n",
      "Name: Diagnosis, dtype: int64\n"
     ]
    }
   ],
   "source": [
    "# after 인간 annotation\n",
    "df_snd = pd.read_excel(PATH + 'snd_data2.xlsx')\n",
    "print(df_snd.info())\n",
    "\n",
    "# Count Diagnosis 0,1,2 \n",
    "print(df_snd['Diagnosis'].value_counts())"
   ]
  },
  {
   "cell_type": "code",
   "execution_count": 46,
   "metadata": {},
   "outputs": [],
   "source": [
    "feature_column = ['CMV IgM[Serum]','CMV IgG[Serum]',\n",
    "'HSV IgM[Serum]','HSV IgG[Serum]','VZV IgM[Serum]','VZV IgG[Serum]','WBC COUNT[Whole blood]','Lymphocyte(#)[Whole blood]',\n",
    "'Lymphocyte(%)[Whole blood]','Monocyte(#)[Whole blood]','Monocyte(%)[Whole blood]','Neutrophil(#)[Whole blood]',\n",
    "'Neutrophil(%)[Whole blood]','ESR[Whole blood]','CRP[Serum]']\n"
   ]
  },
  {
   "cell_type": "code",
   "execution_count": 47,
   "metadata": {},
   "outputs": [
    {
     "name": "stdout",
     "output_type": "stream",
     "text": [
      "<class 'pandas.core.frame.DataFrame'>\n",
      "Int64Index: 9534 entries, 0 to 9802\n",
      "Data columns (total 24 columns):\n",
      " #   Column                      Non-Null Count  Dtype  \n",
      "---  ------                      --------------  -----  \n",
      " 0   연구등록번호                      9534 non-null   int64  \n",
      " 1   Diagnosis                   9534 non-null   int64  \n",
      " 2   CMV PCR[EYE]                102 non-null    object \n",
      " 3   HSV type I PCR[EYE]         5 non-null      float64\n",
      " 4   HSV type II PCR[EYE]        81 non-null     float64\n",
      " 5   VZV PCR[EYE]                7 non-null      float64\n",
      " 6   진단일자                        9534 non-null   object \n",
      " 7   Gender                      9534 non-null   int64  \n",
      " 8   진단시점나이                      9534 non-null   int64  \n",
      " 9   CMV IgM[Serum]              850 non-null    float64\n",
      " 10  CMV IgG[Serum]              823 non-null    float64\n",
      " 11  HSV IgM[Serum]              876 non-null    float64\n",
      " 12  HSV IgG[Serum]              0 non-null      float64\n",
      " 13  VZV IgM[Serum]              760 non-null    object \n",
      " 14  VZV IgG[Serum]              761 non-null    float64\n",
      " 15  WBC COUNT[Whole blood]      9328 non-null   float64\n",
      " 16  Lymphocyte(#)[Whole blood]  8976 non-null   float64\n",
      " 17  Lymphocyte(%)[Whole blood]  8976 non-null   float64\n",
      " 18  Monocyte(#)[Whole blood]    8976 non-null   object \n",
      " 19  Monocyte(%)[Whole blood]    8976 non-null   float64\n",
      " 20  Neutrophil(#)[Whole blood]  8976 non-null   object \n",
      " 21  Neutrophil(%)[Whole blood]  7229 non-null   float64\n",
      " 22  ESR[Whole blood]            1376 non-null   float64\n",
      " 23  CRP[Serum]                  78 non-null     float64\n",
      "dtypes: float64(15), int64(4), object(5)\n",
      "memory usage: 1.8+ MB\n",
      "None\n",
      "0    8434\n",
      "2     962\n",
      "1     138\n",
      "Name: Diagnosis, dtype: int64\n"
     ]
    }
   ],
   "source": [
    "df_snd.dropna(subset=feature_column, inplace=True, how=\"all\")\n",
    "\n",
    "print(df_snd.info())\n",
    "# Count Diagnosis 0,1,2 \n",
    "print(df_snd['Diagnosis'].value_counts())"
   ]
  },
  {
   "cell_type": "code",
   "execution_count": 48,
   "metadata": {},
   "outputs": [
    {
     "name": "stdout",
     "output_type": "stream",
     "text": [
      "<class 'pandas.core.frame.DataFrame'>\n",
      "Int64Index: 9172 entries, 0 to 9802\n",
      "Data columns (total 24 columns):\n",
      " #   Column                      Non-Null Count  Dtype  \n",
      "---  ------                      --------------  -----  \n",
      " 0   연구등록번호                      9172 non-null   int64  \n",
      " 1   Diagnosis                   9172 non-null   int64  \n",
      " 2   CMV PCR[EYE]                101 non-null    object \n",
      " 3   HSV type I PCR[EYE]         5 non-null      float64\n",
      " 4   HSV type II PCR[EYE]        81 non-null     float64\n",
      " 5   VZV PCR[EYE]                7 non-null      float64\n",
      " 6   진단일자                        9172 non-null   object \n",
      " 7   Gender                      9172 non-null   int64  \n",
      " 8   진단시점나이                      9172 non-null   int64  \n",
      " 9   CMV IgM[Serum]              850 non-null    float64\n",
      " 10  CMV IgG[Serum]              823 non-null    float64\n",
      " 11  HSV IgM[Serum]              876 non-null    float64\n",
      " 12  HSV IgG[Serum]              0 non-null      float64\n",
      " 13  VZV IgM[Serum]              760 non-null    object \n",
      " 14  VZV IgG[Serum]              761 non-null    float64\n",
      " 15  WBC COUNT[Whole blood]      8966 non-null   float64\n",
      " 16  Lymphocyte(#)[Whole blood]  8976 non-null   float64\n",
      " 17  Lymphocyte(%)[Whole blood]  8976 non-null   float64\n",
      " 18  Monocyte(#)[Whole blood]    8976 non-null   object \n",
      " 19  Monocyte(%)[Whole blood]    8976 non-null   float64\n",
      " 20  Neutrophil(#)[Whole blood]  8976 non-null   object \n",
      " 21  Neutrophil(%)[Whole blood]  7229 non-null   float64\n",
      " 22  ESR[Whole blood]            1376 non-null   float64\n",
      " 23  CRP[Serum]                  78 non-null     float64\n",
      "dtypes: float64(15), int64(4), object(5)\n",
      "memory usage: 1.7+ MB\n",
      "None\n",
      "0    8111\n",
      "2     931\n",
      "1     130\n",
      "Name: Diagnosis, dtype: int64\n"
     ]
    }
   ],
   "source": [
    "# WBC COUNT[Whole blood] 제거\n",
    "feature_column2 = ['CMV IgM[Serum]','CMV IgG[Serum]',\n",
    "'HSV IgM[Serum]','HSV IgG[Serum]','VZV IgM[Serum]','VZV IgG[Serum]','Lymphocyte(#)[Whole blood]',\n",
    "'Lymphocyte(%)[Whole blood]','Monocyte(#)[Whole blood]','Monocyte(%)[Whole blood]','Neutrophil(#)[Whole blood]',\n",
    "'Neutrophil(%)[Whole blood]','ESR[Whole blood]','CRP[Serum]']\n",
    "\n",
    "df_snd.dropna(subset=feature_column2, inplace=True, how=\"all\")\n",
    "\n",
    "print(df_snd.info())\n",
    "# Count Diagnosis 0,1,2 \n",
    "print(df_snd['Diagnosis'].value_counts())"
   ]
  },
  {
   "cell_type": "code",
   "execution_count": 49,
   "metadata": {},
   "outputs": [],
   "source": [
    "df_snd.to_excel(PATH + 'third_data.xlsx', index=False)"
   ]
  },
  {
   "cell_type": "code",
   "execution_count": null,
   "metadata": {},
   "outputs": [],
   "source": []
  }
 ],
 "metadata": {
  "interpreter": {
   "hash": "b8076bc061f97e3217ad450c1541df79973787e36f6a4169d5d3c6972128daea"
  },
  "kernelspec": {
   "display_name": "DL",
   "language": "python",
   "name": "dl"
  },
  "language_info": {
   "codemirror_mode": {
    "name": "ipython",
    "version": 3
   },
   "file_extension": ".py",
   "mimetype": "text/x-python",
   "name": "python",
   "nbconvert_exporter": "python",
   "pygments_lexer": "ipython3",
   "version": "3.7.11"
  },
  "orig_nbformat": 4,
  "vscode": {
   "interpreter": {
    "hash": "99e55bba2bfd190bfffb28d55de7b9b9d0506f838e465f2cacf9c84476e1bc53"
   }
  }
 },
 "nbformat": 4,
 "nbformat_minor": 2
}
