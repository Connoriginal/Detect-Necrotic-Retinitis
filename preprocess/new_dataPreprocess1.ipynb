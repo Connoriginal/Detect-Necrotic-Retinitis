{
 "cells": [
  {
   "cell_type": "code",
   "execution_count": 1,
   "metadata": {},
   "outputs": [],
   "source": [
    "import pandas as pd\n",
    "import torch\n",
    "import numpy as np\n",
    "import matplotlib.pyplot as plt\n",
    "# import seaborn as sns\n",
    "\n",
    "%matplotlib inline\n",
    "\n",
    "PATH = '../data/preprocess/'\n",
    "file_name = '2005-2022 viral uveitis_220624.xlsx'"
   ]
  },
  {
   "cell_type": "code",
   "execution_count": 36,
   "metadata": {},
   "outputs": [
    {
     "name": "stdout",
     "output_type": "stream",
     "text": [
      "63\n",
      "19\n"
     ]
    }
   ],
   "source": [
    "initial_column = \"C,G,Y,AC,AJ,H,BH,BK,BO,CU,K,L,S,V,AM,EO,EZ,GM,GO,GP,GQ,GR,GT,GX\"\n",
    "\n",
    "print(len(initial_column))"
   ]
  },
  {
   "cell_type": "code",
   "execution_count": 37,
   "metadata": {},
   "outputs": [],
   "source": [
    "# read xlsx file\n",
    "df = pd.read_excel(PATH + file_name, sheet_name='_피봇데이터_1', usecols=initial_column)"
   ]
  },
  {
   "cell_type": "code",
   "execution_count": 39,
   "metadata": {},
   "outputs": [
    {
     "name": "stdout",
     "output_type": "stream",
     "text": [
      "연구등록번호                           4024186\n",
      "Diagnosis                              1\n",
      "진단일자                          2019-02-18\n",
      "Gender                                 0\n",
      "진단시점나이                                33\n",
      "CMV IgM[Serum]                       NaN\n",
      "CMV IgG[Serum]                       NaN\n",
      "HSV IgM[Serum]                      1.11\n",
      "HSV IgG[Serum].4                     NaN\n",
      "VZV IgM[Serum]                       NaN\n",
      "VZV IgG[Serum]                       NaN\n",
      "CMV PCR[EYE]                         250\n",
      "HSV type I PCR[EYE].1                0.0\n",
      "HSV type II PCR[EYE]                 1.0\n",
      "VZV PCR[EYE].2                       0.0\n",
      "WBC COUNT[Whole blood]             15.56\n",
      "Lymphocyte(#)[Whole blood]          2.62\n",
      "Lymphocyte(%)[Whole blood]          27.0\n",
      "Monocyte(#)[Whole blood]            0.56\n",
      "Monocyte(%)[Whole blood]             6.9\n",
      "Neutrophil(#)[Whole blood]          9.49\n",
      "Neutrophil(%)[Whole blood]          91.8\n",
      "ESR[Whole blood].1                  16.0\n",
      "CRP[Serum].2                         8.8\n",
      "Name: 1, dtype: object\n",
      "<class 'pandas.core.frame.DataFrame'>\n",
      "RangeIndex: 10000 entries, 0 to 9999\n",
      "Data columns (total 24 columns):\n",
      " #   Column                      Non-Null Count  Dtype  \n",
      "---  ------                      --------------  -----  \n",
      " 0   연구등록번호                      10000 non-null  int64  \n",
      " 1   Diagnosis                   10000 non-null  int64  \n",
      " 2   진단일자                        10000 non-null  object \n",
      " 3   Gender                      10000 non-null  int64  \n",
      " 4   진단시점나이                      10000 non-null  int64  \n",
      " 5   CMV IgM[Serum]              866 non-null    float64\n",
      " 6   CMV IgG[Serum]              839 non-null    float64\n",
      " 7   HSV IgM[Serum]              893 non-null    float64\n",
      " 8   HSV IgG[Serum].4            667 non-null    float64\n",
      " 9   VZV IgM[Serum]              775 non-null    object \n",
      " 10  VZV IgG[Serum]              775 non-null    float64\n",
      " 11  CMV PCR[EYE]                295 non-null    object \n",
      " 12  HSV type I PCR[EYE].1       208 non-null    float64\n",
      " 13  HSV type II PCR[EYE]        191 non-null    float64\n",
      " 14  VZV PCR[EYE].2              180 non-null    float64\n",
      " 15  WBC COUNT[Whole blood]      9444 non-null   float64\n",
      " 16  Lymphocyte(#)[Whole blood]  9075 non-null   float64\n",
      " 17  Lymphocyte(%)[Whole blood]  9075 non-null   float64\n",
      " 18  Monocyte(#)[Whole blood]    9075 non-null   object \n",
      " 19  Monocyte(%)[Whole blood]    9075 non-null   float64\n",
      " 20  Neutrophil(#)[Whole blood]  9075 non-null   object \n",
      " 21  Neutrophil(%)[Whole blood]  7307 non-null   float64\n",
      " 22  ESR[Whole blood].1          4965 non-null   float64\n",
      " 23  CRP[Serum].2                4866 non-null   float64\n",
      "dtypes: float64(15), int64(4), object(5)\n",
      "memory usage: 1.8+ MB\n",
      "None\n",
      "Index(['연구등록번호', 'Diagnosis', '진단일자', 'Gender', '진단시점나이', 'CMV IgM[Serum]',\n",
      "       'CMV IgG[Serum]', 'HSV IgM[Serum]', 'HSV IgG[Serum].4',\n",
      "       'VZV IgM[Serum]', 'VZV IgG[Serum]', 'CMV PCR[EYE]',\n",
      "       'HSV type I PCR[EYE].1', 'HSV type II PCR[EYE]', 'VZV PCR[EYE].2',\n",
      "       'WBC COUNT[Whole blood]', 'Lymphocyte(#)[Whole blood]',\n",
      "       'Lymphocyte(%)[Whole blood]', 'Monocyte(#)[Whole blood]',\n",
      "       'Monocyte(%)[Whole blood]', 'Neutrophil(#)[Whole blood]',\n",
      "       'Neutrophil(%)[Whole blood]', 'ESR[Whole blood].1', 'CRP[Serum].2'],\n",
      "      dtype='object')\n"
     ]
    }
   ],
   "source": [
    "print(df.iloc[1])\n",
    "print(df.info())\n",
    "print(df.columns)"
   ]
  },
  {
   "cell_type": "code",
   "execution_count": 48,
   "metadata": {},
   "outputs": [],
   "source": [
    "change_column = ['연구등록번호', 'Diagnosis', 'CMV PCR[EYE]',\n",
    "       'HSV type I PCR[EYE].1', 'HSV type II PCR[EYE]', 'VZV PCR[EYE].2',\n",
    "       '진단일자', 'Gender', '진단시점나이', 'CMV IgM[Serum]',\n",
    "       'CMV IgG[Serum]', 'HSV IgM[Serum]', 'HSV IgG[Serum].4',\n",
    "       'VZV IgM[Serum]', 'VZV IgG[Serum]', \n",
    "       'WBC COUNT[Whole blood]', 'Lymphocyte(#)[Whole blood]',\n",
    "       'Lymphocyte(%)[Whole blood]', 'Monocyte(#)[Whole blood]',\n",
    "       'Monocyte(%)[Whole blood]', 'Neutrophil(#)[Whole blood]',\n",
    "       'Neutrophil(%)[Whole blood]', 'ESR[Whole blood].1', 'CRP[Serum].2']\n",
    "\n",
    "new_column = ['연구등록번호', 'Diagnosis', 'CMV PCR[EYE]',\n",
    "       'HSV type I PCR[EYE]', 'HSV type II PCR[EYE]', 'VZV PCR[EYE]',\n",
    "       '진단일자', 'Gender', '진단시점나이', 'CMV IgM[Serum]',\n",
    "       'CMV IgG[Serum]', 'HSV IgM[Serum]', 'HSV IgG[Serum]',\n",
    "       'VZV IgM[Serum]', 'VZV IgG[Serum]', \n",
    "       'WBC COUNT[Whole blood]', 'Lymphocyte(#)[Whole blood]',\n",
    "       'Lymphocyte(%)[Whole blood]', 'Monocyte(#)[Whole blood]',\n",
    "       'Monocyte(%)[Whole blood]', 'Neutrophil(#)[Whole blood]',\n",
    "       'Neutrophil(%)[Whole blood]', 'ESR[Whole blood]', 'CRP[Serum]']\n",
    "\n",
    "df_init = df[change_column]\n",
    "df_init.columns = new_column"
   ]
  },
  {
   "cell_type": "code",
   "execution_count": 49,
   "metadata": {},
   "outputs": [
    {
     "name": "stdout",
     "output_type": "stream",
     "text": [
      "<class 'pandas.core.frame.DataFrame'>\n",
      "RangeIndex: 10000 entries, 0 to 9999\n",
      "Data columns (total 24 columns):\n",
      " #   Column                      Non-Null Count  Dtype  \n",
      "---  ------                      --------------  -----  \n",
      " 0   연구등록번호                      10000 non-null  int64  \n",
      " 1   Diagnosis                   10000 non-null  int64  \n",
      " 2   CMV PCR[EYE]                295 non-null    object \n",
      " 3   HSV type I PCR[EYE]         208 non-null    float64\n",
      " 4   HSV type II PCR[EYE]        191 non-null    float64\n",
      " 5   VZV PCR[EYE]                180 non-null    float64\n",
      " 6   진단일자                        10000 non-null  object \n",
      " 7   Gender                      10000 non-null  int64  \n",
      " 8   진단시점나이                      10000 non-null  int64  \n",
      " 9   CMV IgM[Serum]              866 non-null    float64\n",
      " 10  CMV IgG[Serum]              839 non-null    float64\n",
      " 11  HSV IgM[Serum]              893 non-null    float64\n",
      " 12  HSV IgG[Serum]              667 non-null    float64\n",
      " 13  VZV IgM[Serum]              775 non-null    object \n",
      " 14  VZV IgG[Serum]              775 non-null    float64\n",
      " 15  WBC COUNT[Whole blood]      9444 non-null   float64\n",
      " 16  Lymphocyte(#)[Whole blood]  9075 non-null   float64\n",
      " 17  Lymphocyte(%)[Whole blood]  9075 non-null   float64\n",
      " 18  Monocyte(#)[Whole blood]    9075 non-null   object \n",
      " 19  Monocyte(%)[Whole blood]    9075 non-null   float64\n",
      " 20  Neutrophil(#)[Whole blood]  9075 non-null   object \n",
      " 21  Neutrophil(%)[Whole blood]  7307 non-null   float64\n",
      " 22  ESR[Whole blood]            4965 non-null   float64\n",
      " 23  CRP[Serum]                  4866 non-null   float64\n",
      "dtypes: float64(15), int64(4), object(5)\n",
      "memory usage: 1.8+ MB\n"
     ]
    }
   ],
   "source": [
    "df_init.info()"
   ]
  },
  {
   "cell_type": "code",
   "execution_count": 59,
   "metadata": {},
   "outputs": [],
   "source": [
    "# sort by 연구등록번호\n",
    "df_init = df_init.sort_values(by=['연구등록번호', '진단일자'])\n",
    "\n",
    "# save to xlsx\n",
    "df_init.to_excel(PATH + 'initial_data.xlsx', index=False)"
   ]
  },
  {
   "cell_type": "markdown",
   "metadata": {},
   "source": [
    "# Information"
   ]
  },
  {
   "cell_type": "code",
   "execution_count": 60,
   "metadata": {},
   "outputs": [
    {
     "name": "stdout",
     "output_type": "stream",
     "text": [
      "<class 'pandas.core.frame.DataFrame'>\n",
      "Int64Index: 10000 entries, 9391 to 873\n",
      "Data columns (total 24 columns):\n",
      " #   Column                      Non-Null Count  Dtype  \n",
      "---  ------                      --------------  -----  \n",
      " 0   연구등록번호                      10000 non-null  int64  \n",
      " 1   Diagnosis                   10000 non-null  int64  \n",
      " 2   CMV PCR[EYE]                295 non-null    object \n",
      " 3   HSV type I PCR[EYE]         208 non-null    float64\n",
      " 4   HSV type II PCR[EYE]        191 non-null    float64\n",
      " 5   VZV PCR[EYE]                180 non-null    float64\n",
      " 6   진단일자                        10000 non-null  object \n",
      " 7   Gender                      10000 non-null  int64  \n",
      " 8   진단시점나이                      10000 non-null  int64  \n",
      " 9   CMV IgM[Serum]              866 non-null    float64\n",
      " 10  CMV IgG[Serum]              839 non-null    float64\n",
      " 11  HSV IgM[Serum]              893 non-null    float64\n",
      " 12  HSV IgG[Serum]              667 non-null    float64\n",
      " 13  VZV IgM[Serum]              775 non-null    object \n",
      " 14  VZV IgG[Serum]              775 non-null    float64\n",
      " 15  WBC COUNT[Whole blood]      9444 non-null   float64\n",
      " 16  Lymphocyte(#)[Whole blood]  9075 non-null   float64\n",
      " 17  Lymphocyte(%)[Whole blood]  9075 non-null   float64\n",
      " 18  Monocyte(#)[Whole blood]    9075 non-null   object \n",
      " 19  Monocyte(%)[Whole blood]    9075 non-null   float64\n",
      " 20  Neutrophil(#)[Whole blood]  9075 non-null   object \n",
      " 21  Neutrophil(%)[Whole blood]  7307 non-null   float64\n",
      " 22  ESR[Whole blood]            4965 non-null   float64\n",
      " 23  CRP[Serum]                  4866 non-null   float64\n",
      "dtypes: float64(15), int64(4), object(5)\n",
      "memory usage: 1.9+ MB\n"
     ]
    }
   ],
   "source": [
    "df_init.info()"
   ]
  },
  {
   "cell_type": "code",
   "execution_count": 61,
   "metadata": {},
   "outputs": [],
   "source": [
    "feature_column = ['연구등록번호', 'Diagnosis',\n",
    "       '진단일자', 'Gender', '진단시점나이', 'CMV IgM[Serum]',\n",
    "       'CMV IgG[Serum]', 'HSV IgM[Serum]', 'HSV IgG[Serum]',\n",
    "       'VZV IgM[Serum]', 'VZV IgG[Serum]', \n",
    "       'WBC COUNT[Whole blood]', 'Lymphocyte(#)[Whole blood]',\n",
    "       'Lymphocyte(%)[Whole blood]', 'Monocyte(#)[Whole blood]',\n",
    "       'Monocyte(%)[Whole blood]', 'Neutrophil(#)[Whole blood]',\n",
    "       'Neutrophil(%)[Whole blood]', 'ESR[Whole blood]', 'CRP[Serum]']\n",
    "\n",
    "df_feature = df_init[feature_column]"
   ]
  },
  {
   "cell_type": "markdown",
   "metadata": {},
   "source": [
    "## column 별 특징 판단"
   ]
  },
  {
   "cell_type": "code",
   "execution_count": 62,
   "metadata": {},
   "outputs": [
    {
     "name": "stdout",
     "output_type": "stream",
     "text": [
      "             연구등록번호     Diagnosis        Gender        진단시점나이  CMV IgM[Serum]  \\\n",
      "count  1.000000e+04  10000.000000  10000.000000  10000.000000      866.000000   \n",
      "mean   4.158546e+06      0.221600      0.519700     45.348400        0.099351   \n",
      "std    2.288325e+06      0.613784      0.499637     16.291586        0.368809   \n",
      "min    1.041500e+05      0.000000      0.000000      0.000000        0.000000   \n",
      "25%    2.544943e+06      0.000000      0.000000     34.000000        0.000000   \n",
      "50%    3.631836e+06      0.000000      1.000000     46.000000        0.000000   \n",
      "75%    4.743394e+06      0.000000      1.000000     57.000000        0.109250   \n",
      "max    1.071937e+07      2.000000      1.000000     92.000000        6.640000   \n",
      "\n",
      "       CMV IgG[Serum]  HSV IgM[Serum]  HSV IgG[Serum]  VZV IgG[Serum]  \\\n",
      "count      839.000000      893.000000      667.000000      775.000000   \n",
      "mean        41.009743        0.264057       48.279385      837.857535   \n",
      "std         32.879870        0.428801       47.598559     1034.776210   \n",
      "min          0.000000        0.000000        0.000000        0.000000   \n",
      "25%         17.850000        0.000000        7.985000        6.050000   \n",
      "50%         37.000000        0.100000       30.000000      520.000000   \n",
      "75%         54.000000        0.500000       78.000000     1249.000000   \n",
      "max        267.000000        5.100000      244.000000     8500.000000   \n",
      "\n",
      "       WBC COUNT[Whole blood]  Lymphocyte(#)[Whole blood]  \\\n",
      "count             9444.000000                 9075.000000   \n",
      "mean                 7.556950                    2.142188   \n",
      "std                  5.538762                    0.932051   \n",
      "min                  0.050000                    0.000000   \n",
      "25%                  5.460000                    1.540000   \n",
      "50%                  6.880000                    2.060000   \n",
      "75%                  8.820000                    2.620000   \n",
      "max                356.800000                   20.400000   \n",
      "\n",
      "       Lymphocyte(%)[Whole blood]  Monocyte(%)[Whole blood]  \\\n",
      "count                 9075.000000               9075.000000   \n",
      "mean                    31.106204                  7.149862   \n",
      "std                     11.772975                  3.537378   \n",
      "min                      0.000000                  0.000000   \n",
      "25%                     23.800000                  5.300000   \n",
      "50%                     31.200000                  6.700000   \n",
      "75%                     38.200000                  8.500000   \n",
      "max                    100.000000                 94.900000   \n",
      "\n",
      "       Neutrophil(%)[Whole blood]  ESR[Whole blood]   CRP[Serum]  \n",
      "count                 7307.000000       4965.000000  4866.000000  \n",
      "mean                    60.016532         23.863243     9.380880  \n",
      "std                     13.702798         25.658641    35.022373  \n",
      "min                      0.000000          2.000000     0.000000  \n",
      "25%                     51.100000          6.000000     0.400000  \n",
      "50%                     59.000000         15.000000     1.200000  \n",
      "75%                     68.000000         31.000000     4.000000  \n",
      "max                    100.000000        120.000000   569.300000  \n"
     ]
    }
   ],
   "source": [
    "# count, mean, std, min, max\n",
    "print(df_feature.describe())"
   ]
  },
  {
   "cell_type": "code",
   "execution_count": 63,
   "metadata": {},
   "outputs": [
    {
     "name": "stdout",
     "output_type": "stream",
     "text": [
      "           연구등록번호  진단일자  Gender  진단시점나이  CMV IgM[Serum]  CMV IgG[Serum]  \\\n",
      "Diagnosis                                                                 \n",
      "0            8805  8805    8805    8805             796             766   \n",
      "1             174   174     174     174              27              28   \n",
      "2            1021  1021    1021    1021              43              45   \n",
      "\n",
      "           HSV IgM[Serum]  HSV IgG[Serum]  VZV IgM[Serum]  VZV IgG[Serum]  \\\n",
      "Diagnosis                                                                   \n",
      "0                     819             608             715             707   \n",
      "1                      31              29              32              32   \n",
      "2                      43              30              28              36   \n",
      "\n",
      "           WBC COUNT[Whole blood]  Lymphocyte(#)[Whole blood]  \\\n",
      "Diagnosis                                                       \n",
      "0                            8359                        8028   \n",
      "1                             150                         138   \n",
      "2                             935                         909   \n",
      "\n",
      "           Lymphocyte(%)[Whole blood]  Monocyte(#)[Whole blood]  \\\n",
      "Diagnosis                                                         \n",
      "0                                8028                      8028   \n",
      "1                                 138                       138   \n",
      "2                                 909                       909   \n",
      "\n",
      "           Monocyte(%)[Whole blood]  Neutrophil(#)[Whole blood]  \\\n",
      "Diagnosis                                                         \n",
      "0                              8028                        8028   \n",
      "1                               138                         138   \n",
      "2                               909                         909   \n",
      "\n",
      "           Neutrophil(%)[Whole blood]  ESR[Whole blood]  CRP[Serum]  \n",
      "Diagnosis                                                            \n",
      "0                                6404              4643        4424  \n",
      "1                                 105                56          53  \n",
      "2                                 798               266         389  \n",
      "----------------------------------------------------------------------\n",
      "           연구등록번호   진단일자  Gender  진단시점나이  CMV IgM[Serum]  CMV IgG[Serum]  \\\n",
      "Diagnosis                                                                  \n",
      "0           88.05  88.05   88.05   88.05       91.916859       91.299166   \n",
      "1            1.74   1.74    1.74    1.74        3.117783        3.337306   \n",
      "2           10.21  10.21   10.21   10.21        4.965358        5.363528   \n",
      "\n",
      "           HSV IgM[Serum]  HSV IgG[Serum]  VZV IgM[Serum]  VZV IgG[Serum]  \\\n",
      "Diagnosis                                                                   \n",
      "0               91.713326       91.154423       92.258065       91.225806   \n",
      "1                3.471445        4.347826        4.129032        4.129032   \n",
      "2                4.815230        4.497751        3.612903        4.645161   \n",
      "\n",
      "           WBC COUNT[Whole blood]  Lymphocyte(#)[Whole blood]  \\\n",
      "Diagnosis                                                       \n",
      "0                       88.511224                   88.462810   \n",
      "1                        1.588310                    1.520661   \n",
      "2                        9.900466                   10.016529   \n",
      "\n",
      "           Lymphocyte(%)[Whole blood]  Monocyte(#)[Whole blood]  \\\n",
      "Diagnosis                                                         \n",
      "0                           88.462810                 88.462810   \n",
      "1                            1.520661                  1.520661   \n",
      "2                           10.016529                 10.016529   \n",
      "\n",
      "           Monocyte(%)[Whole blood]  Neutrophil(#)[Whole blood]  \\\n",
      "Diagnosis                                                         \n",
      "0                         88.462810                   88.462810   \n",
      "1                          1.520661                    1.520661   \n",
      "2                         10.016529                   10.016529   \n",
      "\n",
      "           Neutrophil(%)[Whole blood]  ESR[Whole blood]  CRP[Serum]  \n",
      "Diagnosis                                                            \n",
      "0                           87.641987         93.514602   90.916564  \n",
      "1                            1.436978          1.127895    1.089190  \n",
      "2                           10.921035          5.357503    7.994246  \n"
     ]
    }
   ],
   "source": [
    "# diagnosis 별 개수 & 비율\n",
    "df_feature_portion = df_feature.groupby(['Diagnosis']).count()\n",
    "print(df_feature_portion)\n",
    "print('----------------------------------------------------------------------')\n",
    "df_feature_portion = df_feature_portion / df_feature_portion.sum() * 100\n",
    "print(df_feature_portion)"
   ]
  },
  {
   "cell_type": "markdown",
   "metadata": {},
   "source": [
    "## Human annotation 을 위한 작업"
   ]
  },
  {
   "cell_type": "markdown",
   "metadata": {},
   "source": [
    "* '연구등록번호' 는 동일하나 'Diagnosis' 가 다른 케이스 확인"
   ]
  },
  {
   "cell_type": "code",
   "execution_count": 64,
   "metadata": {},
   "outputs": [],
   "source": [
    "df_check = df_init.groupby('연구등록번호')\n",
    "\n",
    "flag_list = []\n",
    "\n",
    "# group마다 다 동일한 'Diagnosis'이 있는지 확인\n",
    "for name, group in df_check:\n",
    "    flag = False\n",
    "    for i in range(len(group)-1):\n",
    "        if group.iloc[i]['Diagnosis'] != group.iloc[i+1]['Diagnosis']:\n",
    "            flag = True\n",
    "            break\n",
    "    \n",
    "    if flag :\n",
    "        flag_list.append(name)"
   ]
  },
  {
   "cell_type": "code",
   "execution_count": 65,
   "metadata": {},
   "outputs": [
    {
     "name": "stdout",
     "output_type": "stream",
     "text": [
      "54\n",
      "[1340694, 1650597, 1651044, 1787320, 2019670, 2255608, 2263768, 2580939, 2708467, 2928404, 2999386, 3020526, 3071154, 3249107, 3322426, 3380351, 3403218, 3593450, 3617531, 3767153, 3810313, 3850619, 3888182, 3924853, 4013778, 4024186, 4074938, 4117045, 4127695, 4129131, 4153111, 4297907, 4320777, 4441436, 4448924, 4515988, 4532082, 4540113, 4567104, 4660852, 4776068, 4867817, 4876243, 4940693, 5939457, 8488929, 8769082, 8918959, 9470306, 9824777, 9899921, 10392399, 10404588, 10417875]\n"
     ]
    }
   ],
   "source": [
    "print(len(flag_list))\n",
    "print(flag_list)"
   ]
  },
  {
   "cell_type": "markdown",
   "metadata": {},
   "source": [
    "## After Human annotation"
   ]
  },
  {
   "cell_type": "code",
   "execution_count": 80,
   "metadata": {},
   "outputs": [],
   "source": [
    "df_snd = pd.read_excel(PATH + '2nd_data.xlsx')"
   ]
  },
  {
   "cell_type": "code",
   "execution_count": 81,
   "metadata": {},
   "outputs": [
    {
     "name": "stdout",
     "output_type": "stream",
     "text": [
      "<class 'pandas.core.frame.DataFrame'>\n",
      "RangeIndex: 9814 entries, 0 to 9813\n",
      "Data columns (total 24 columns):\n",
      " #   Column                      Non-Null Count  Dtype  \n",
      "---  ------                      --------------  -----  \n",
      " 0   연구등록번호                      9814 non-null   int64  \n",
      " 1   Diagnosis                   9814 non-null   int64  \n",
      " 2   CMV PCR[EYE]                223 non-null    object \n",
      " 3   HSV type I PCR[EYE]         173 non-null    float64\n",
      " 4   HSV type II PCR[EYE]        157 non-null    float64\n",
      " 5   VZV PCR[EYE]                139 non-null    float64\n",
      " 6   진단일자                        9814 non-null   object \n",
      " 7   Gender                      9814 non-null   int64  \n",
      " 8   진단시점나이                      9814 non-null   int64  \n",
      " 9   CMV IgM[Serum]              854 non-null    float64\n",
      " 10  CMV IgG[Serum]              827 non-null    float64\n",
      " 11  HSV IgM[Serum]              882 non-null    float64\n",
      " 12  HSV IgG[Serum]              658 non-null    float64\n",
      " 13  VZV IgM[Serum]              764 non-null    object \n",
      " 14  VZV IgG[Serum]              765 non-null    float64\n",
      " 15  WBC COUNT[Whole blood]      9354 non-null   float64\n",
      " 16  Lymphocyte(#)[Whole blood]  9009 non-null   float64\n",
      " 17  Lymphocyte(%)[Whole blood]  9009 non-null   float64\n",
      " 18  Monocyte(#)[Whole blood]    9009 non-null   object \n",
      " 19  Monocyte(%)[Whole blood]    9009 non-null   float64\n",
      " 20  Neutrophil(#)[Whole blood]  9009 non-null   object \n",
      " 21  Neutrophil(%)[Whole blood]  7255 non-null   float64\n",
      " 22  ESR[Whole blood]            4931 non-null   float64\n",
      " 23  CRP[Serum]                  4820 non-null   float64\n",
      "dtypes: float64(15), int64(4), object(5)\n",
      "memory usage: 1.8+ MB\n",
      "None\n",
      "0    8638\n",
      "2     992\n",
      "1     184\n",
      "Name: Diagnosis, dtype: int64\n"
     ]
    }
   ],
   "source": [
    "print(df_snd.info())\n",
    "print(df_snd[\"Diagnosis\"].value_counts())"
   ]
  },
  {
   "cell_type": "markdown",
   "metadata": {},
   "source": [
    "* 동일한 검사 값 제거"
   ]
  },
  {
   "cell_type": "code",
   "execution_count": 82,
   "metadata": {},
   "outputs": [
    {
     "name": "stdout",
     "output_type": "stream",
     "text": [
      "88\n"
     ]
    }
   ],
   "source": [
    "# 'WBC COUNT[Whole blood]' 가 동일한 값이 있는지 확인\n",
    "df_snd_check = df_snd.groupby('연구등록번호')\n",
    "name_list = []\n",
    "\n",
    "for name, group in df_snd_check:\n",
    "    flag = False\n",
    "    for i in range(len(group)-1):\n",
    "        if group.iloc[i]['WBC COUNT[Whole blood]'] == group.iloc[i+1]['WBC COUNT[Whole blood]']:\n",
    "            flag = True\n",
    "            break\n",
    "    \n",
    "    if flag :\n",
    "        name_list.append(name)\n",
    "\n",
    "print(len(name_list))"
   ]
  },
  {
   "cell_type": "code",
   "execution_count": 83,
   "metadata": {},
   "outputs": [
    {
     "name": "stdout",
     "output_type": "stream",
     "text": [
      "211\n",
      "[276, 356, 517, 519, 536, 808, 869, 1132, 1160, 1162, 1166, 1169, 1173, 1175, 1294, 1296, 1298, 1301, 1303, 1305, 1459, 1463, 1465, 1467, 1470, 1473, 1475, 1476, 1477, 1480, 1483, 1746, 1896, 2199, 2202, 2441, 2487, 2653, 2724, 2850, 2932, 2934, 3006, 3010, 3012, 3014, 3016, 3018, 3021, 3023, 3044, 3072, 3075, 3087, 3089, 3093, 3095, 3097, 3100, 3102, 3106, 3108, 3118, 3290, 3292, 3295, 3378, 3525, 3528, 3531, 3533, 3535, 3537, 3592, 3787, 3923, 3953, 4011, 4041, 4141, 4142, 4143, 4216, 4366, 4414, 4420, 4423, 4425, 4429, 4439, 4441, 4702, 4764, 4766, 4769, 4772, 4917, 4931, 5070, 5071, 5072, 5304, 5306, 5308, 5310, 5316, 5318, 5320, 5544, 5631, 5669, 5672, 5676, 5784, 5786, 5788, 5913, 5916, 6057, 6290, 6308, 6468, 6675, 6689, 6699, 6749, 6753, 6756, 6781, 6783, 6785, 6787, 6789, 6792, 6795, 6797, 6799, 6801, 6803, 7169, 7201, 7296, 7298, 7302, 7304, 7493, 7494, 7496, 7498, 7500, 7502, 7504, 7506, 7697, 7700, 7709, 7714, 7729, 7805, 7807, 7809, 7932, 8047, 8067, 8069, 8071, 8073, 8075, 8076, 8077, 8081, 8083, 8084, 8085, 8291, 8297, 8386, 8417, 8418, 8419, 8421, 8423, 8425, 8427, 8440, 8806, 9037, 9146, 9173, 9178, 9180, 9225, 9228, 9276, 9303, 9381, 9395, 9402, 9424, 9426, 9444, 9545, 9547, 9548, 9550, 9567, 9570, 9572, 9574, 9700, 9702]\n"
     ]
    }
   ],
   "source": [
    "idx_list = []\n",
    "for idx in range(len(df_snd)-1):\n",
    "    if df_snd.iloc[idx]['WBC COUNT[Whole blood]'] == df_snd.iloc[idx+1]['WBC COUNT[Whole blood]']:\n",
    "        idx_list.append(idx)\n",
    "\n",
    "print(len(idx_list))\n",
    "print(idx_list)"
   ]
  },
  {
   "cell_type": "code",
   "execution_count": 84,
   "metadata": {},
   "outputs": [
    {
     "name": "stdout",
     "output_type": "stream",
     "text": [
      "9603\n"
     ]
    }
   ],
   "source": [
    "# drop idx_list \n",
    "df_snd = df_snd.drop(idx_list)\n",
    "print(len(df_snd))"
   ]
  },
  {
   "cell_type": "markdown",
   "metadata": {},
   "source": [
    "* 검사결과가 다 비어있는 케이스 삭제\n",
    "* WBC COUNT[Whole blood] 만 있는 케이스도 삭제"
   ]
  },
  {
   "cell_type": "code",
   "execution_count": 85,
   "metadata": {},
   "outputs": [],
   "source": [
    "input_feature_column = ['CMV IgM[Serum]','CMV IgG[Serum]',\n",
    "'HSV IgM[Serum]','HSV IgG[Serum]','VZV IgM[Serum]','VZV IgG[Serum]','WBC COUNT[Whole blood]','Lymphocyte(#)[Whole blood]',\n",
    "'Lymphocyte(%)[Whole blood]','Monocyte(#)[Whole blood]','Monocyte(%)[Whole blood]','Neutrophil(#)[Whole blood]',\n",
    "'Neutrophil(%)[Whole blood]','ESR[Whole blood]','CRP[Serum]']\n",
    "\n",
    "df_snd.dropna(subset=feature_column, inplace=True, how=\"all\")"
   ]
  },
  {
   "cell_type": "code",
   "execution_count": 86,
   "metadata": {},
   "outputs": [
    {
     "name": "stdout",
     "output_type": "stream",
     "text": [
      "<class 'pandas.core.frame.DataFrame'>\n",
      "Int64Index: 9603 entries, 0 to 9813\n",
      "Data columns (total 24 columns):\n",
      " #   Column                      Non-Null Count  Dtype  \n",
      "---  ------                      --------------  -----  \n",
      " 0   연구등록번호                      9603 non-null   int64  \n",
      " 1   Diagnosis                   9603 non-null   int64  \n",
      " 2   CMV PCR[EYE]                220 non-null    object \n",
      " 3   HSV type I PCR[EYE]         170 non-null    float64\n",
      " 4   HSV type II PCR[EYE]        155 non-null    float64\n",
      " 5   VZV PCR[EYE]                137 non-null    float64\n",
      " 6   진단일자                        9603 non-null   object \n",
      " 7   Gender                      9603 non-null   int64  \n",
      " 8   진단시점나이                      9603 non-null   int64  \n",
      " 9   CMV IgM[Serum]              844 non-null    float64\n",
      " 10  CMV IgG[Serum]              817 non-null    float64\n",
      " 11  HSV IgM[Serum]              872 non-null    float64\n",
      " 12  HSV IgG[Serum]              649 non-null    float64\n",
      " 13  VZV IgM[Serum]              757 non-null    object \n",
      " 14  VZV IgG[Serum]              757 non-null    float64\n",
      " 15  WBC COUNT[Whole blood]      9143 non-null   float64\n",
      " 16  Lymphocyte(#)[Whole blood]  8804 non-null   float64\n",
      " 17  Lymphocyte(%)[Whole blood]  8804 non-null   float64\n",
      " 18  Monocyte(#)[Whole blood]    8804 non-null   object \n",
      " 19  Monocyte(%)[Whole blood]    8804 non-null   float64\n",
      " 20  Neutrophil(#)[Whole blood]  8804 non-null   object \n",
      " 21  Neutrophil(%)[Whole blood]  7107 non-null   float64\n",
      " 22  ESR[Whole blood]            4891 non-null   float64\n",
      " 23  CRP[Serum]                  4785 non-null   float64\n",
      "dtypes: float64(15), int64(4), object(5)\n",
      "memory usage: 1.8+ MB\n",
      "None\n",
      "0    8436\n",
      "2     987\n",
      "1     180\n",
      "Name: Diagnosis, dtype: int64\n"
     ]
    }
   ],
   "source": [
    "print(df_snd.info())\n",
    "# Count Diagnosis 0,1,2 \n",
    "print(df_snd['Diagnosis'].value_counts())"
   ]
  },
  {
   "cell_type": "code",
   "execution_count": 87,
   "metadata": {},
   "outputs": [
    {
     "name": "stdout",
     "output_type": "stream",
     "text": [
      "<class 'pandas.core.frame.DataFrame'>\n",
      "Int64Index: 9148 entries, 0 to 9813\n",
      "Data columns (total 24 columns):\n",
      " #   Column                      Non-Null Count  Dtype  \n",
      "---  ------                      --------------  -----  \n",
      " 0   연구등록번호                      9148 non-null   int64  \n",
      " 1   Diagnosis                   9148 non-null   int64  \n",
      " 2   CMV PCR[EYE]                98 non-null     object \n",
      " 3   HSV type I PCR[EYE]         91 non-null     float64\n",
      " 4   HSV type II PCR[EYE]        82 non-null     float64\n",
      " 5   VZV PCR[EYE]                62 non-null     float64\n",
      " 6   진단일자                        9148 non-null   object \n",
      " 7   Gender                      9148 non-null   int64  \n",
      " 8   진단시점나이                      9148 non-null   int64  \n",
      " 9   CMV IgM[Serum]              844 non-null    float64\n",
      " 10  CMV IgG[Serum]              817 non-null    float64\n",
      " 11  HSV IgM[Serum]              872 non-null    float64\n",
      " 12  HSV IgG[Serum]              649 non-null    float64\n",
      " 13  VZV IgM[Serum]              757 non-null    object \n",
      " 14  VZV IgG[Serum]              757 non-null    float64\n",
      " 15  WBC COUNT[Whole blood]      8852 non-null   float64\n",
      " 16  Lymphocyte(#)[Whole blood]  8804 non-null   float64\n",
      " 17  Lymphocyte(%)[Whole blood]  8804 non-null   float64\n",
      " 18  Monocyte(#)[Whole blood]    8804 non-null   object \n",
      " 19  Monocyte(%)[Whole blood]    8804 non-null   float64\n",
      " 20  Neutrophil(#)[Whole blood]  8804 non-null   object \n",
      " 21  Neutrophil(%)[Whole blood]  7107 non-null   float64\n",
      " 22  ESR[Whole blood]            4891 non-null   float64\n",
      " 23  CRP[Serum]                  4785 non-null   float64\n",
      "dtypes: float64(15), int64(4), object(5)\n",
      "memory usage: 1.7+ MB\n",
      "None\n",
      "0    8053\n",
      "2     930\n",
      "1     165\n",
      "Name: Diagnosis, dtype: int64\n"
     ]
    }
   ],
   "source": [
    "feature_column2 = ['CMV IgM[Serum]','CMV IgG[Serum]',\n",
    "'HSV IgM[Serum]','HSV IgG[Serum]','VZV IgM[Serum]','VZV IgG[Serum]','Lymphocyte(#)[Whole blood]',\n",
    "'Lymphocyte(%)[Whole blood]','Monocyte(#)[Whole blood]','Monocyte(%)[Whole blood]','Neutrophil(#)[Whole blood]',\n",
    "'Neutrophil(%)[Whole blood]','ESR[Whole blood]','CRP[Serum]']\n",
    "\n",
    "df_snd.dropna(subset=feature_column2, inplace=True, how=\"all\")\n",
    "\n",
    "print(df_snd.info())\n",
    "# Count Diagnosis 0,1,2 \n",
    "print(df_snd['Diagnosis'].value_counts())"
   ]
  },
  {
   "cell_type": "code",
   "execution_count": 88,
   "metadata": {},
   "outputs": [],
   "source": [
    "df_snd.to_excel(PATH + 'third_data.xlsx', index=False)"
   ]
  },
  {
   "cell_type": "markdown",
   "metadata": {},
   "source": [
    "## 환자 기준 개수 구하기"
   ]
  },
  {
   "cell_type": "code",
   "execution_count": 92,
   "metadata": {},
   "outputs": [
    {
     "name": "stdout",
     "output_type": "stream",
     "text": [
      "<class 'pandas.core.frame.DataFrame'>\n",
      "RangeIndex: 9148 entries, 0 to 9147\n",
      "Data columns (total 24 columns):\n",
      " #   Column                      Non-Null Count  Dtype  \n",
      "---  ------                      --------------  -----  \n",
      " 0   연구등록번호                      9148 non-null   int64  \n",
      " 1   Diagnosis                   9148 non-null   int64  \n",
      " 2   CMV PCR[EYE]                98 non-null     object \n",
      " 3   HSV type I PCR[EYE]         91 non-null     float64\n",
      " 4   HSV type II PCR[EYE]        82 non-null     float64\n",
      " 5   VZV PCR[EYE]                62 non-null     float64\n",
      " 6   진단일자                        9148 non-null   object \n",
      " 7   Gender                      9148 non-null   int64  \n",
      " 8   진단시점나이                      9148 non-null   int64  \n",
      " 9   CMV IgM[Serum]              844 non-null    float64\n",
      " 10  CMV IgG[Serum]              817 non-null    float64\n",
      " 11  HSV IgM[Serum]              872 non-null    float64\n",
      " 12  HSV IgG[Serum]              649 non-null    float64\n",
      " 13  VZV IgM[Serum]              757 non-null    float64\n",
      " 14  VZV IgG[Serum]              757 non-null    float64\n",
      " 15  WBC COUNT[Whole blood]      8852 non-null   float64\n",
      " 16  Lymphocyte(#)[Whole blood]  8804 non-null   float64\n",
      " 17  Lymphocyte(%)[Whole blood]  8804 non-null   float64\n",
      " 18  Monocyte(#)[Whole blood]    8803 non-null   float64\n",
      " 19  Monocyte(%)[Whole blood]    8804 non-null   float64\n",
      " 20  Neutrophil(#)[Whole blood]  8803 non-null   float64\n",
      " 21  Neutrophil(%)[Whole blood]  7107 non-null   float64\n",
      " 22  ESR[Whole blood]            4891 non-null   float64\n",
      " 23  CRP[Serum]                  4785 non-null   float64\n",
      "dtypes: float64(18), int64(4), object(2)\n",
      "memory usage: 1.7+ MB\n",
      "None\n"
     ]
    }
   ],
   "source": [
    "df_snd = pd.read_excel(PATH + 'third_data.xlsx')\n",
    "\n",
    "print(df_snd.info())"
   ]
  },
  {
   "cell_type": "code",
   "execution_count": 93,
   "metadata": {},
   "outputs": [
    {
     "name": "stdout",
     "output_type": "stream",
     "text": [
      "0\n",
      "[]\n"
     ]
    }
   ],
   "source": [
    "\n",
    "df_check2 = df_snd.groupby('연구등록번호')\n",
    "\n",
    "flag_list = []\n",
    "\n",
    "# group마다 다 동일한 'Diagnosis'이 있는지 확인\n",
    "for name, group in df_check2:\n",
    "    flag = False\n",
    "    for i in range(len(group)-1):\n",
    "        if group.iloc[i]['Diagnosis'] != group.iloc[i+1]['Diagnosis']:\n",
    "            flag = True\n",
    "            break\n",
    "    \n",
    "    if flag :\n",
    "        flag_list.append(name)\n",
    "\n",
    "print(len(flag_list))\n",
    "print(flag_list)"
   ]
  },
  {
   "cell_type": "code",
   "execution_count": 94,
   "metadata": {},
   "outputs": [
    {
     "name": "stdout",
     "output_type": "stream",
     "text": [
      "<class 'pandas.core.frame.DataFrame'>\n",
      "Int64Index: 2914 entries, 104150 to 10719371\n",
      "Data columns (total 21 columns):\n",
      " #   Column                      Non-Null Count  Dtype  \n",
      "---  ------                      --------------  -----  \n",
      " 0   Diagnosis                   2914 non-null   float64\n",
      " 1   HSV type I PCR[EYE]         88 non-null     float64\n",
      " 2   HSV type II PCR[EYE]        79 non-null     float64\n",
      " 3   VZV PCR[EYE]                59 non-null     float64\n",
      " 4   Gender                      2914 non-null   float64\n",
      " 5   진단시점나이                      2914 non-null   float64\n",
      " 6   CMV IgM[Serum]              830 non-null    float64\n",
      " 7   CMV IgG[Serum]              804 non-null    float64\n",
      " 8   HSV IgM[Serum]              853 non-null    float64\n",
      " 9   HSV IgG[Serum]              632 non-null    float64\n",
      " 10  VZV IgM[Serum]              742 non-null    float64\n",
      " 11  VZV IgG[Serum]              739 non-null    float64\n",
      " 12  WBC COUNT[Whole blood]      2800 non-null   float64\n",
      " 13  Lymphocyte(#)[Whole blood]  2771 non-null   float64\n",
      " 14  Lymphocyte(%)[Whole blood]  2771 non-null   float64\n",
      " 15  Monocyte(#)[Whole blood]    2770 non-null   float64\n",
      " 16  Monocyte(%)[Whole blood]    2771 non-null   float64\n",
      " 17  Neutrophil(#)[Whole blood]  2770 non-null   float64\n",
      " 18  Neutrophil(%)[Whole blood]  2145 non-null   float64\n",
      " 19  ESR[Whole blood]            1646 non-null   float64\n",
      " 20  CRP[Serum]                  1438 non-null   float64\n",
      "dtypes: float64(21)\n",
      "memory usage: 500.8 KB\n",
      "None\n"
     ]
    }
   ],
   "source": [
    "# groupby '연구등록번호'  and mean the rest of columns\n",
    "df_snd_group = df_snd.groupby('연구등록번호')\n",
    "df_snd_group_mean = df_snd_group.mean()\n",
    "print(df_snd_group_mean.info())"
   ]
  },
  {
   "cell_type": "code",
   "execution_count": 95,
   "metadata": {},
   "outputs": [
    {
     "name": "stdout",
     "output_type": "stream",
     "text": [
      "0.0    2717\n",
      "2.0     140\n",
      "1.0      57\n",
      "Name: Diagnosis, dtype: int64\n",
      "0.0    93.239533\n",
      "2.0     4.804393\n",
      "1.0     1.956074\n",
      "Name: Diagnosis, dtype: float64\n"
     ]
    }
   ],
   "source": [
    "# 'Diagnosis' 개수 세기\n",
    "print(df_snd_group_mean['Diagnosis'].value_counts())\n",
    "\n",
    "# 'Diagnosis' 비율 세기\n",
    "df_snd_group_mean_portion = df_snd_group_mean['Diagnosis'].value_counts() / df_snd_group_mean['Diagnosis'].value_counts().sum() * 100\n",
    "print(df_snd_group_mean_portion)\n"
   ]
  },
  {
   "cell_type": "code",
   "execution_count": 96,
   "metadata": {},
   "outputs": [
    {
     "name": "stdout",
     "output_type": "stream",
     "text": [
      "           HSV type I PCR[EYE]  HSV type II PCR[EYE]  VZV PCR[EYE]  Gender  \\\n",
      "Diagnosis                                                                    \n",
      "0.0                         40                    34            27    2717   \n",
      "1.0                         26                    26            24      57   \n",
      "2.0                         22                    19             8     140   \n",
      "\n",
      "           진단시점나이  CMV IgM[Serum]  CMV IgG[Serum]  HSV IgM[Serum]  \\\n",
      "Diagnosis                                                           \n",
      "0.0          2717             756             726             776   \n",
      "1.0            57              27              28              31   \n",
      "2.0           140              47              50              46   \n",
      "\n",
      "           HSV IgG[Serum]  VZV IgM[Serum]  VZV IgG[Serum]  \\\n",
      "Diagnosis                                                   \n",
      "0.0                   572             680             669   \n",
      "1.0                    27              30              30   \n",
      "2.0                    33              32              40   \n",
      "\n",
      "           WBC COUNT[Whole blood]  Lymphocyte(#)[Whole blood]  \\\n",
      "Diagnosis                                                       \n",
      "0.0                          2607                        2578   \n",
      "1.0                            56                          56   \n",
      "2.0                           137                         137   \n",
      "\n",
      "           Lymphocyte(%)[Whole blood]  Monocyte(#)[Whole blood]  \\\n",
      "Diagnosis                                                         \n",
      "0.0                              2578                      2577   \n",
      "1.0                                56                        56   \n",
      "2.0                               137                       137   \n",
      "\n",
      "           Monocyte(%)[Whole blood]  Neutrophil(#)[Whole blood]  \\\n",
      "Diagnosis                                                         \n",
      "0.0                            2578                        2577   \n",
      "1.0                              56                          56   \n",
      "2.0                             137                         137   \n",
      "\n",
      "           Neutrophil(%)[Whole blood]  ESR[Whole blood]  CRP[Serum]  \n",
      "Diagnosis                                                            \n",
      "0.0                              1980              1520        1299  \n",
      "1.0                                44                36          33  \n",
      "2.0                               121                90         106  \n"
     ]
    }
   ],
   "source": [
    "# Diagnosis 당 feature 개수 세기\n",
    "df_snd_group2 = df_snd_group_mean.groupby('Diagnosis')\n",
    "\n",
    "# 'Diagnosis' 당 feature 개수 세기\n",
    "df_snd_group2_count = df_snd_group2.count()\n",
    "print(df_snd_group2_count)"
   ]
  },
  {
   "cell_type": "code",
   "execution_count": null,
   "metadata": {},
   "outputs": [],
   "source": []
  }
 ],
 "metadata": {
  "kernelspec": {
   "display_name": "DL",
   "language": "python",
   "name": "dl"
  },
  "language_info": {
   "codemirror_mode": {
    "name": "ipython",
    "version": 3
   },
   "file_extension": ".py",
   "mimetype": "text/x-python",
   "name": "python",
   "nbconvert_exporter": "python",
   "pygments_lexer": "ipython3",
   "version": "3.7.11"
  },
  "orig_nbformat": 4
 },
 "nbformat": 4,
 "nbformat_minor": 2
}
