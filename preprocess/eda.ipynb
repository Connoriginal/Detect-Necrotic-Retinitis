{
 "cells": [
  {
   "cell_type": "code",
   "execution_count": 4,
   "metadata": {},
   "outputs": [],
   "source": [
    "import pandas as pd\n",
    "import torch\n",
    "import numpy as np\n",
    "import matplotlib.pyplot as plt\n",
    "\n",
    "PATH = '../data/'\n",
    "file_name = '2005-2022 viral uveitis_220624.xlsx'"
   ]
  },
  {
   "cell_type": "code",
   "execution_count": 11,
   "metadata": {},
   "outputs": [
    {
     "name": "stdout",
     "output_type": "stream",
     "text": [
      "(10000, 350)\n"
     ]
    }
   ],
   "source": [
    "# Read data\n",
    "df = pd.read_excel(PATH + file_name)\n",
    "\n",
    "# Total number\n",
    "print(df.shape)\n"
   ]
  },
  {
   "cell_type": "code",
   "execution_count": 8,
   "metadata": {},
   "outputs": [
    {
     "name": "stdout",
     "output_type": "stream",
     "text": [
      "20\n",
      "350\n"
     ]
    }
   ],
   "source": [
    "# 진단일자는 전처리를 위해 넣어준다.\n",
    "init_columns = ['연구등록번호','Diagnosis','진단일자','Gender','진단시점나이','CMV IgM[Serum]','CMV IgG[Serum]',\n",
    "'HSV IgM[Serum]','HSV IgG[Serum]','VZV IgM[Serum]','VZV IgG[Serum]','WBC COUNT[Whole blood]','Lymphocyte(#)[Whole blood]',\n",
    "'Lymphocyte(%)[Whole blood]','Monocyte(#)[Whole blood]','Monocyte(%)[Whole blood]','Neutrophil(#)[Whole blood]',\n",
    "'Neutrophil(%)[Whole blood]','ESR[Whole blood]','CRP[Serum]']\n",
    "print(len(init_columns))\n",
    "print(len(df.columns))\n",
    "\n",
    "df_init = df[init_columns]"
   ]
  },
  {
   "cell_type": "code",
   "execution_count": 12,
   "metadata": {},
   "outputs": [
    {
     "name": "stdout",
     "output_type": "stream",
     "text": [
      "0    8805\n",
      "2    1021\n",
      "1     174\n",
      "Name: Diagnosis, dtype: int64\n"
     ]
    }
   ],
   "source": [
    "# Count Diagnosis 0,1,2 \n",
    "print(df_init['Diagnosis'].value_counts())\n"
   ]
  },
  {
   "cell_type": "code",
   "execution_count": 9,
   "metadata": {},
   "outputs": [],
   "source": [
    "# sort by 연구등록번호\n",
    "df_init = df_init.sort_values(by=['연구등록번호'])"
   ]
  },
  {
   "cell_type": "code",
   "execution_count": 10,
   "metadata": {},
   "outputs": [
    {
     "name": "stdout",
     "output_type": "stream",
     "text": [
      "연구등록번호\n",
      "104150      2\n",
      "261562      6\n",
      "282509      1\n",
      "349440      1\n",
      "386599      2\n",
      "           ..\n",
      "10686460    1\n",
      "10692195    1\n",
      "10698320    2\n",
      "10700099    1\n",
      "10719371    1\n",
      "Length: 3021, dtype: int64\n"
     ]
    }
   ],
   "source": [
    "# 같은 연구등록번호를 가진 사람을 하나로 묶는다.\n",
    "df_groupby = df_init.groupby(['연구등록번호'])\n",
    "print(df_groupby.size())"
   ]
  },
  {
   "cell_type": "code",
   "execution_count": null,
   "metadata": {},
   "outputs": [],
   "source": []
  }
 ],
 "metadata": {
  "kernelspec": {
   "display_name": "Python 3.7.11 ('DL')",
   "language": "python",
   "name": "python3"
  },
  "language_info": {
   "codemirror_mode": {
    "name": "ipython",
    "version": 3
   },
   "file_extension": ".py",
   "mimetype": "text/x-python",
   "name": "python",
   "nbconvert_exporter": "python",
   "pygments_lexer": "ipython3",
   "version": "3.7.11"
  },
  "orig_nbformat": 4,
  "vscode": {
   "interpreter": {
    "hash": "99e55bba2bfd190bfffb28d55de7b9b9d0506f838e465f2cacf9c84476e1bc53"
   }
  }
 },
 "nbformat": 4,
 "nbformat_minor": 2
}
