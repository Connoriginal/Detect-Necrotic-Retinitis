{
 "cells": [
  {
   "cell_type": "code",
   "execution_count": 9,
   "metadata": {},
   "outputs": [],
   "source": [
    "import pandas as pd\n",
    "import torch\n",
    "import numpy as np\n",
    "import matplotlib.pyplot as plt\n",
    "# import seaborn as sns\n",
    "\n",
    "%matplotlib inline\n",
    "\n",
    "PATH = '../data/preprocess/'\n",
    "PATH_new = '../data/'\n",
    "file_name = 'third_data2.xlsx'"
   ]
  },
  {
   "cell_type": "code",
   "execution_count": 10,
   "metadata": {},
   "outputs": [],
   "source": [
    "# 진단일자는 전처리를 위해 넣어준다.\n",
    "init_columns = ['연구등록번호','Diagnosis','진단일자','Gender','진단시점나이','CMV IgM[Serum]','CMV IgG[Serum]',\n",
    "'HSV IgM[Serum]','HSV IgG[Serum]','VZV IgM[Serum]','VZV IgG[Serum]','WBC COUNT[Whole blood]','Lymphocyte(#)[Whole blood]',\n",
    "'Lymphocyte(%)[Whole blood]','Monocyte(#)[Whole blood]','Monocyte(%)[Whole blood]','Neutrophil(#)[Whole blood]',\n",
    "'Neutrophil(%)[Whole blood]','ESR[Whole blood]','CRP[Serum]']\n",
    "\n",
    "feature_column = ['Diagnosis','CMV IgM[Serum]','CMV IgG[Serum]',\n",
    "'HSV IgM[Serum]','HSV IgG[Serum]','VZV IgM[Serum]','VZV IgG[Serum]','WBC COUNT[Whole blood]','Lymphocyte(#)[Whole blood]',\n",
    "'Lymphocyte(%)[Whole blood]','Monocyte(#)[Whole blood]','Monocyte(%)[Whole blood]','Neutrophil(#)[Whole blood]',\n",
    "'Neutrophil(%)[Whole blood]','ESR[Whole blood]','CRP[Serum]']"
   ]
  },
  {
   "cell_type": "code",
   "execution_count": 11,
   "metadata": {},
   "outputs": [
    {
     "name": "stdout",
     "output_type": "stream",
     "text": [
      "(8984, 20)\n",
      "<class 'pandas.core.frame.DataFrame'>\n",
      "RangeIndex: 8984 entries, 0 to 8983\n",
      "Data columns (total 20 columns):\n",
      " #   Column                      Non-Null Count  Dtype  \n",
      "---  ------                      --------------  -----  \n",
      " 0   연구등록번호                      8984 non-null   int64  \n",
      " 1   Diagnosis                   8984 non-null   int64  \n",
      " 2   진단일자                        8984 non-null   object \n",
      " 3   Gender                      8984 non-null   int64  \n",
      " 4   진단시점나이                      8984 non-null   int64  \n",
      " 5   CMV IgM[Serum]              843 non-null    float64\n",
      " 6   CMV IgG[Serum]              816 non-null    float64\n",
      " 7   HSV IgM[Serum]              871 non-null    float64\n",
      " 8   HSV IgG[Serum]              0 non-null      float64\n",
      " 9   VZV IgM[Serum]              756 non-null    float64\n",
      " 10  VZV IgG[Serum]              756 non-null    float64\n",
      " 11  WBC COUNT[Whole blood]      8781 non-null   float64\n",
      " 12  Lymphocyte(#)[Whole blood]  8791 non-null   float64\n",
      " 13  Lymphocyte(%)[Whole blood]  8791 non-null   float64\n",
      " 14  Monocyte(#)[Whole blood]    8790 non-null   float64\n",
      " 15  Monocyte(%)[Whole blood]    8791 non-null   float64\n",
      " 16  Neutrophil(#)[Whole blood]  8790 non-null   float64\n",
      " 17  Neutrophil(%)[Whole blood]  7097 non-null   float64\n",
      " 18  ESR[Whole blood]            1360 non-null   float64\n",
      " 19  CRP[Serum]                  78 non-null     float64\n",
      "dtypes: float64(15), int64(4), object(1)\n",
      "memory usage: 1.4+ MB\n",
      "None\n",
      "0    7908\n",
      "2     915\n",
      "1     161\n",
      "Name: Diagnosis, dtype: int64\n",
      "           연구등록번호  진단일자  Gender  진단시점나이  CMV IgM[Serum]  CMV IgG[Serum]  \\\n",
      "Diagnosis                                                                 \n",
      "0            7908  7908    7908    7908             764             734   \n",
      "1             161   161     161     161              30              31   \n",
      "2             915   915     915     915              49              51   \n",
      "\n",
      "           HSV IgM[Serum]  HSV IgG[Serum]  VZV IgM[Serum]  VZV IgG[Serum]  \\\n",
      "Diagnosis                                                                   \n",
      "0                     788               0             689             681   \n",
      "1                      36               0              36              36   \n",
      "2                      47               0              31              39   \n",
      "\n",
      "           WBC COUNT[Whole blood]  Lymphocyte(#)[Whole blood]  \\\n",
      "Diagnosis                                                       \n",
      "0                            7727                        7730   \n",
      "1                             154                         158   \n",
      "2                             900                         903   \n",
      "\n",
      "           Lymphocyte(%)[Whole blood]  Monocyte(#)[Whole blood]  \\\n",
      "Diagnosis                                                         \n",
      "0                                7730                      7729   \n",
      "1                                 158                       158   \n",
      "2                                 903                       903   \n",
      "\n",
      "           Monocyte(%)[Whole blood]  Neutrophil(#)[Whole blood]  \\\n",
      "Diagnosis                                                         \n",
      "0                              7730                        7729   \n",
      "1                               158                         158   \n",
      "2                               903                         903   \n",
      "\n",
      "           Neutrophil(%)[Whole blood]  ESR[Whole blood]  CRP[Serum]  \n",
      "Diagnosis                                                            \n",
      "0                                6182              1242          75  \n",
      "1                                 123                15           0  \n",
      "2                                 792               103           3  \n"
     ]
    }
   ],
   "source": [
    "# Read data\n",
    "df = pd.read_excel(PATH + file_name)\n",
    "df = df[init_columns]\n",
    "# Total number\n",
    "print(df.shape)\n",
    "\n",
    "# Info\n",
    "print(df.info())\n",
    "\n",
    "# Count Diagnosis 0,1,2 \n",
    "print(df['Diagnosis'].value_counts())\n",
    "\n",
    "# Diagnosis 기준 count\n",
    "print(df.groupby('Diagnosis').count())"
   ]
  },
  {
   "cell_type": "code",
   "execution_count": 12,
   "metadata": {},
   "outputs": [
    {
     "name": "stdout",
     "output_type": "stream",
     "text": [
      "<class 'pandas.core.frame.DataFrame'>\n",
      "RangeIndex: 8984 entries, 0 to 8983\n",
      "Data columns (total 20 columns):\n",
      " #   Column                      Non-Null Count  Dtype  \n",
      "---  ------                      --------------  -----  \n",
      " 0   연구등록번호                      8984 non-null   int64  \n",
      " 1   Diagnosis                   8984 non-null   int64  \n",
      " 2   진단일자                        8984 non-null   object \n",
      " 3   Gender                      8984 non-null   int64  \n",
      " 4   진단시점나이                      8984 non-null   int64  \n",
      " 5   CMV IgM[Serum]              843 non-null    float64\n",
      " 6   CMV IgG[Serum]              816 non-null    float64\n",
      " 7   HSV IgM[Serum]              871 non-null    float64\n",
      " 8   HSV IgG[Serum]              0 non-null      float64\n",
      " 9   VZV IgM[Serum]              756 non-null    float64\n",
      " 10  VZV IgG[Serum]              756 non-null    float64\n",
      " 11  WBC COUNT[Whole blood]      8781 non-null   float64\n",
      " 12  Lymphocyte(#)[Whole blood]  8791 non-null   float64\n",
      " 13  Lymphocyte(%)[Whole blood]  8791 non-null   float64\n",
      " 14  Monocyte(#)[Whole blood]    8790 non-null   float64\n",
      " 15  Monocyte(%)[Whole blood]    8791 non-null   float64\n",
      " 16  Neutrophil(#)[Whole blood]  8790 non-null   float64\n",
      " 17  Neutrophil(%)[Whole blood]  7097 non-null   float64\n",
      " 18  ESR[Whole blood]            1360 non-null   float64\n",
      " 19  CRP[Serum]                  78 non-null     float64\n",
      "dtypes: float64(15), int64(4), object(1)\n",
      "memory usage: 1.4+ MB\n",
      "None\n"
     ]
    }
   ],
   "source": [
    "# change 'VZV IgM[Serum]' and 'Monocyte(#)[Whole blood]' and 'Neutrophil(#)[Whole blood]' into float64\n",
    "df[['VZV IgM[Serum]','Monocyte(#)[Whole blood]','Neutrophil(#)[Whole blood]']] = df[['VZV IgM[Serum]','Monocyte(#)[Whole blood]','Neutrophil(#)[Whole blood]']].astype(float)\n",
    "\n",
    "print(df.info())\n"
   ]
  },
  {
   "cell_type": "markdown",
   "metadata": {},
   "source": [
    "## 연구등록번호 기준 결측치 처리"
   ]
  },
  {
   "cell_type": "code",
   "execution_count": 13,
   "metadata": {},
   "outputs": [
    {
     "name": "stdout",
     "output_type": "stream",
     "text": [
      "2872\n"
     ]
    }
   ],
   "source": [
    "# group by '연구등록번호' and 'Diagnosis'\n",
    "df_group = df.groupby(['연구등록번호'])\n",
    "print(len(df_group.groups))\n"
   ]
  },
  {
   "cell_type": "code",
   "execution_count": 14,
   "metadata": {},
   "outputs": [
    {
     "name": "stderr",
     "output_type": "stream",
     "text": [
      "/Users/kwontaeyoon/opt/anaconda3/envs/DL/lib/python3.7/site-packages/ipykernel_launcher.py:1: FutureWarning: Dropping of nuisance columns in DataFrame reductions (with 'numeric_only=None') is deprecated; in a future version this will raise TypeError.  Select only valid columns before calling the reduction.\n",
      "  \"\"\"Entry point for launching an IPython kernel.\n"
     ]
    }
   ],
   "source": [
    "df_fill_group = df_group.apply(lambda x: x.fillna(x.mean()))"
   ]
  },
  {
   "cell_type": "code",
   "execution_count": 15,
   "metadata": {},
   "outputs": [
    {
     "name": "stdout",
     "output_type": "stream",
     "text": [
      "<class 'pandas.core.frame.DataFrame'>\n",
      "MultiIndex: 8984 entries, (104150, 0) to (10719371, 8983)\n",
      "Data columns (total 20 columns):\n",
      " #   Column                      Non-Null Count  Dtype  \n",
      "---  ------                      --------------  -----  \n",
      " 0   연구등록번호                      8984 non-null   int64  \n",
      " 1   Diagnosis                   8984 non-null   int64  \n",
      " 2   진단일자                        8984 non-null   object \n",
      " 3   Gender                      8984 non-null   int64  \n",
      " 4   진단시점나이                      8984 non-null   int64  \n",
      " 5   CMV IgM[Serum]              1898 non-null   float64\n",
      " 6   CMV IgG[Serum]              1854 non-null   float64\n",
      " 7   HSV IgM[Serum]              2094 non-null   float64\n",
      " 8   HSV IgG[Serum]              0 non-null      float64\n",
      " 9   VZV IgM[Serum]              1758 non-null   float64\n",
      " 10  VZV IgG[Serum]              1850 non-null   float64\n",
      " 11  WBC COUNT[Whole blood]      8896 non-null   float64\n",
      " 12  Lymphocyte(#)[Whole blood]  8881 non-null   float64\n",
      " 13  Lymphocyte(%)[Whole blood]  8881 non-null   float64\n",
      " 14  Monocyte(#)[Whole blood]    8880 non-null   float64\n",
      " 15  Monocyte(%)[Whole blood]    8881 non-null   float64\n",
      " 16  Neutrophil(#)[Whole blood]  8880 non-null   float64\n",
      " 17  Neutrophil(%)[Whole blood]  7199 non-null   float64\n",
      " 18  ESR[Whole blood]            1575 non-null   float64\n",
      " 19  CRP[Serum]                  91 non-null     float64\n",
      "dtypes: float64(15), int64(4), object(1)\n",
      "memory usage: 1.8+ MB\n"
     ]
    }
   ],
   "source": [
    "df_fill_group.info()"
   ]
  },
  {
   "cell_type": "code",
   "execution_count": 16,
   "metadata": {},
   "outputs": [],
   "source": [
    "# df 에 df_fill_group 적용하기\n",
    "df = df_fill_group\n",
    "# df.to_excel(PATH + 'third_data_fill.xlsx')"
   ]
  },
  {
   "cell_type": "code",
   "execution_count": 17,
   "metadata": {},
   "outputs": [
    {
     "name": "stdout",
     "output_type": "stream",
     "text": [
      "<class 'pandas.core.frame.DataFrame'>\n",
      "MultiIndex: 8984 entries, (104150, 0) to (10719371, 8983)\n",
      "Data columns (total 20 columns):\n",
      " #   Column                      Non-Null Count  Dtype  \n",
      "---  ------                      --------------  -----  \n",
      " 0   연구등록번호                      8984 non-null   int64  \n",
      " 1   Diagnosis                   8984 non-null   int64  \n",
      " 2   진단일자                        8984 non-null   object \n",
      " 3   Gender                      8984 non-null   int64  \n",
      " 4   진단시점나이                      8984 non-null   int64  \n",
      " 5   CMV IgM[Serum]              1898 non-null   float64\n",
      " 6   CMV IgG[Serum]              1854 non-null   float64\n",
      " 7   HSV IgM[Serum]              2094 non-null   float64\n",
      " 8   HSV IgG[Serum]              0 non-null      float64\n",
      " 9   VZV IgM[Serum]              1758 non-null   float64\n",
      " 10  VZV IgG[Serum]              1850 non-null   float64\n",
      " 11  WBC COUNT[Whole blood]      8896 non-null   float64\n",
      " 12  Lymphocyte(#)[Whole blood]  8881 non-null   float64\n",
      " 13  Lymphocyte(%)[Whole blood]  8881 non-null   float64\n",
      " 14  Monocyte(#)[Whole blood]    8880 non-null   float64\n",
      " 15  Monocyte(%)[Whole blood]    8881 non-null   float64\n",
      " 16  Neutrophil(#)[Whole blood]  8880 non-null   float64\n",
      " 17  Neutrophil(%)[Whole blood]  7199 non-null   float64\n",
      " 18  ESR[Whole blood]            1575 non-null   float64\n",
      " 19  CRP[Serum]                  91 non-null     float64\n",
      "dtypes: float64(15), int64(4), object(1)\n",
      "memory usage: 1.8+ MB\n",
      "Index(['연구등록번호', 'Diagnosis', '진단일자', 'Gender', '진단시점나이', 'CMV IgM[Serum]',\n",
      "       'CMV IgG[Serum]', 'HSV IgM[Serum]', 'HSV IgG[Serum]', 'VZV IgM[Serum]',\n",
      "       'VZV IgG[Serum]', 'WBC COUNT[Whole blood]',\n",
      "       'Lymphocyte(#)[Whole blood]', 'Lymphocyte(%)[Whole blood]',\n",
      "       'Monocyte(#)[Whole blood]', 'Monocyte(%)[Whole blood]',\n",
      "       'Neutrophil(#)[Whole blood]', 'Neutrophil(%)[Whole blood]',\n",
      "       'ESR[Whole blood]', 'CRP[Serum]'],\n",
      "      dtype='object')\n"
     ]
    }
   ],
   "source": [
    "df.info()\n",
    "print(df.columns)"
   ]
  },
  {
   "cell_type": "markdown",
   "metadata": {},
   "source": [
    "## Diagnosis 기준 결측치 처리"
   ]
  },
  {
   "cell_type": "code",
   "execution_count": 18,
   "metadata": {},
   "outputs": [
    {
     "name": "stdout",
     "output_type": "stream",
     "text": [
      "3\n"
     ]
    }
   ],
   "source": [
    "df_group = df.groupby('Diagnosis')\n",
    "print(len(df_group.groups))"
   ]
  },
  {
   "cell_type": "code",
   "execution_count": 19,
   "metadata": {},
   "outputs": [],
   "source": [
    "# 각 Group 마다 mean, median, std, min, max 계산\n",
    "df_group_mean = df_group.mean()\n",
    "df_group_median = df_group.median()\n",
    "df_group_std = df_group.std()\n",
    "df_group_min = df_group.min()\n",
    "df_group_max = df_group.max()\n",
    "\n",
    "# Write all into text file\n",
    "detail_string = '''\n",
    "--------------------Mean--------------------\n",
    "{df_group_mean}\n",
    "--------------------Median--------------------\n",
    "{df_group_median}\n",
    "--------------------Std--------------------\n",
    "{df_group_std}\n",
    "--------------------Min--------------------\n",
    "{df_group_min}\n",
    "--------------------Max--------------------\n",
    "{df_group_max}\n",
    "'''\n",
    "\n",
    "# Write all into text file\n",
    "# write_file = open(PATH + 'third_data_detail.txt', 'w')\n",
    "# write_file.write(detail_string.format(df_group_mean=df_group_mean,\n",
    "#                                         df_group_median=df_group_median,\n",
    "#                                         df_group_std=df_group_std,\n",
    "#                                         df_group_min=df_group_min,\n",
    "#                                         df_group_max=df_group_max))\n"
   ]
  },
  {
   "cell_type": "code",
   "execution_count": 20,
   "metadata": {},
   "outputs": [
    {
     "name": "stdout",
     "output_type": "stream",
     "text": [
      "<class 'pandas.core.frame.DataFrame'>\n",
      "MultiIndex: 8984 entries, (104150, 0) to (10719371, 8983)\n",
      "Data columns (total 20 columns):\n",
      " #   Column                      Non-Null Count  Dtype  \n",
      "---  ------                      --------------  -----  \n",
      " 0   연구등록번호                      8984 non-null   int64  \n",
      " 1   Diagnosis                   8984 non-null   int64  \n",
      " 2   진단일자                        8984 non-null   object \n",
      " 3   Gender                      8984 non-null   int64  \n",
      " 4   진단시점나이                      8984 non-null   int64  \n",
      " 5   CMV IgM[Serum]              8984 non-null   float64\n",
      " 6   CMV IgG[Serum]              8984 non-null   float64\n",
      " 7   HSV IgM[Serum]              8984 non-null   float64\n",
      " 8   HSV IgG[Serum]              0 non-null      float64\n",
      " 9   VZV IgM[Serum]              8984 non-null   float64\n",
      " 10  VZV IgG[Serum]              8984 non-null   float64\n",
      " 11  WBC COUNT[Whole blood]      8984 non-null   float64\n",
      " 12  Lymphocyte(#)[Whole blood]  8984 non-null   float64\n",
      " 13  Lymphocyte(%)[Whole blood]  8984 non-null   float64\n",
      " 14  Monocyte(#)[Whole blood]    8984 non-null   float64\n",
      " 15  Monocyte(%)[Whole blood]    8984 non-null   float64\n",
      " 16  Neutrophil(#)[Whole blood]  8984 non-null   float64\n",
      " 17  Neutrophil(%)[Whole blood]  8984 non-null   float64\n",
      " 18  ESR[Whole blood]            8984 non-null   float64\n",
      " 19  CRP[Serum]                  8823 non-null   float64\n",
      "dtypes: float64(15), int64(4), object(1)\n",
      "memory usage: 2.1+ MB\n",
      "None\n",
      "           연구등록번호  진단일자  Gender  진단시점나이  CMV IgM[Serum]  CMV IgG[Serum]  \\\n",
      "Diagnosis                                                                 \n",
      "0            7908  7908    7908    7908            7908            7908   \n",
      "1             161   161     161     161             161             161   \n",
      "2             915   915     915     915             915             915   \n",
      "\n",
      "           HSV IgM[Serum]  HSV IgG[Serum]  VZV IgM[Serum]  VZV IgG[Serum]  \\\n",
      "Diagnosis                                                                   \n",
      "0                    7908               0            7908            7908   \n",
      "1                     161               0             161             161   \n",
      "2                     915               0             915             915   \n",
      "\n",
      "           WBC COUNT[Whole blood]  Lymphocyte(#)[Whole blood]  \\\n",
      "Diagnosis                                                       \n",
      "0                            7908                        7908   \n",
      "1                             161                         161   \n",
      "2                             915                         915   \n",
      "\n",
      "           Lymphocyte(%)[Whole blood]  Monocyte(#)[Whole blood]  \\\n",
      "Diagnosis                                                         \n",
      "0                                7908                      7908   \n",
      "1                                 161                       161   \n",
      "2                                 915                       915   \n",
      "\n",
      "           Monocyte(%)[Whole blood]  Neutrophil(#)[Whole blood]  \\\n",
      "Diagnosis                                                         \n",
      "0                              7908                        7908   \n",
      "1                               161                         161   \n",
      "2                               915                         915   \n",
      "\n",
      "           Neutrophil(%)[Whole blood]  ESR[Whole blood]  CRP[Serum]  \n",
      "Diagnosis                                                            \n",
      "0                                7908              7908        7908  \n",
      "1                                 161               161           0  \n",
      "2                                 915               915         915  \n"
     ]
    },
    {
     "name": "stderr",
     "output_type": "stream",
     "text": [
      "/Users/kwontaeyoon/opt/anaconda3/envs/DL/lib/python3.7/site-packages/ipykernel_launcher.py:2: FutureWarning: Dropping of nuisance columns in DataFrame reductions (with 'numeric_only=None') is deprecated; in a future version this will raise TypeError.  Select only valid columns before calling the reduction.\n",
      "  \n"
     ]
    }
   ],
   "source": [
    "# median 값으로 채우기\n",
    "df_fill_group2 = df_group.apply(lambda x: x.fillna(x.median()))\n",
    "print(df_fill_group2.info())\n",
    "# Diagnosis 기준 count\n",
    "df_diagnosis_count = df_fill_group2.groupby('Diagnosis').count()\n",
    "print(df_diagnosis_count)"
   ]
  },
  {
   "cell_type": "code",
   "execution_count": 21,
   "metadata": {},
   "outputs": [],
   "source": [
    "# 'CRP[Serum]' 에서 NaN 값을 0으로 채우기\n",
    "df_fill_group2['CRP[Serum]'] = df_fill_group2['CRP[Serum]'].fillna(0)"
   ]
  },
  {
   "cell_type": "code",
   "execution_count": 22,
   "metadata": {},
   "outputs": [
    {
     "name": "stdout",
     "output_type": "stream",
     "text": [
      "<class 'pandas.core.frame.DataFrame'>\n",
      "MultiIndex: 8984 entries, (104150, 0) to (10719371, 8983)\n",
      "Data columns (total 20 columns):\n",
      " #   Column                      Non-Null Count  Dtype  \n",
      "---  ------                      --------------  -----  \n",
      " 0   연구등록번호                      8984 non-null   int64  \n",
      " 1   Diagnosis                   8984 non-null   int64  \n",
      " 2   진단일자                        8984 non-null   object \n",
      " 3   Gender                      8984 non-null   int64  \n",
      " 4   진단시점나이                      8984 non-null   int64  \n",
      " 5   CMV IgM[Serum]              8984 non-null   float64\n",
      " 6   CMV IgG[Serum]              8984 non-null   float64\n",
      " 7   HSV IgM[Serum]              8984 non-null   float64\n",
      " 8   HSV IgG[Serum]              0 non-null      float64\n",
      " 9   VZV IgM[Serum]              8984 non-null   float64\n",
      " 10  VZV IgG[Serum]              8984 non-null   float64\n",
      " 11  WBC COUNT[Whole blood]      8984 non-null   float64\n",
      " 12  Lymphocyte(#)[Whole blood]  8984 non-null   float64\n",
      " 13  Lymphocyte(%)[Whole blood]  8984 non-null   float64\n",
      " 14  Monocyte(#)[Whole blood]    8984 non-null   float64\n",
      " 15  Monocyte(%)[Whole blood]    8984 non-null   float64\n",
      " 16  Neutrophil(#)[Whole blood]  8984 non-null   float64\n",
      " 17  Neutrophil(%)[Whole blood]  8984 non-null   float64\n",
      " 18  ESR[Whole blood]            8984 non-null   float64\n",
      " 19  CRP[Serum]                  8984 non-null   float64\n",
      "dtypes: float64(15), int64(4), object(1)\n",
      "memory usage: 2.1+ MB\n",
      "None\n"
     ]
    }
   ],
   "source": [
    "print(df_fill_group2.info())"
   ]
  },
  {
   "cell_type": "code",
   "execution_count": 23,
   "metadata": {},
   "outputs": [],
   "source": [
    "df = df_fill_group2\n",
    "df.to_excel(PATH + 'fourth_data2.xlsx')"
   ]
  },
  {
   "cell_type": "markdown",
   "metadata": {},
   "source": [
    "## 결측치 분석"
   ]
  },
  {
   "cell_type": "code",
   "execution_count": 24,
   "metadata": {},
   "outputs": [
    {
     "name": "stdout",
     "output_type": "stream",
     "text": [
      "연구등록번호                           0\n",
      "Diagnosis                        0\n",
      "진단일자                             0\n",
      "Gender                           0\n",
      "진단시점나이                           0\n",
      "CMV IgM[Serum]                   0\n",
      "CMV IgG[Serum]                   0\n",
      "HSV IgM[Serum]                   0\n",
      "HSV IgG[Serum]                8984\n",
      "VZV IgM[Serum]                   0\n",
      "VZV IgG[Serum]                   0\n",
      "WBC COUNT[Whole blood]           0\n",
      "Lymphocyte(#)[Whole blood]       0\n",
      "Lymphocyte(%)[Whole blood]       0\n",
      "Monocyte(#)[Whole blood]         0\n",
      "Monocyte(%)[Whole blood]         0\n",
      "Neutrophil(#)[Whole blood]       0\n",
      "Neutrophil(%)[Whole blood]       0\n",
      "ESR[Whole blood]                 0\n",
      "CRP[Serum]                       0\n",
      "dtype: int64\n"
     ]
    }
   ],
   "source": [
    "# 결측치 확인\n",
    "print(df.isnull().sum())"
   ]
  },
  {
   "cell_type": "code",
   "execution_count": 25,
   "metadata": {},
   "outputs": [],
   "source": [
    "final_column = ['Diagnosis','Gender','진단시점나이','CMV IgM[Serum]','CMV IgG[Serum]',\n",
    "'HSV IgM[Serum]','VZV IgM[Serum]','VZV IgG[Serum]','WBC COUNT[Whole blood]','Lymphocyte(#)[Whole blood]',\n",
    "'Lymphocyte(%)[Whole blood]','Monocyte(#)[Whole blood]','Monocyte(%)[Whole blood]','Neutrophil(#)[Whole blood]',\n",
    "'Neutrophil(%)[Whole blood]','ESR[Whole blood]','CRP[Serum]']\n",
    "\n",
    "df_final = df[final_column]"
   ]
  },
  {
   "cell_type": "code",
   "execution_count": 57,
   "metadata": {},
   "outputs": [
    {
     "name": "stdout",
     "output_type": "stream",
     "text": [
      "<class 'pandas.core.frame.DataFrame'>\n",
      "MultiIndex: 9172 entries, (104150, 0) to (10719371, 9171)\n",
      "Data columns (total 17 columns):\n",
      " #   Column                      Non-Null Count  Dtype  \n",
      "---  ------                      --------------  -----  \n",
      " 0   Diagnosis                   9172 non-null   int64  \n",
      " 1   Gender                      9172 non-null   int64  \n",
      " 2   진단시점나이                      9172 non-null   int64  \n",
      " 3   CMV IgM[Serum]              9172 non-null   float64\n",
      " 4   CMV IgG[Serum]              9172 non-null   float64\n",
      " 5   HSV IgM[Serum]              9172 non-null   float64\n",
      " 6   VZV IgM[Serum]              9172 non-null   float64\n",
      " 7   VZV IgG[Serum]              9172 non-null   float64\n",
      " 8   WBC COUNT[Whole blood]      9172 non-null   float64\n",
      " 9   Lymphocyte(#)[Whole blood]  9172 non-null   float64\n",
      " 10  Lymphocyte(%)[Whole blood]  9172 non-null   float64\n",
      " 11  Monocyte(#)[Whole blood]    9172 non-null   float64\n",
      " 12  Monocyte(%)[Whole blood]    9172 non-null   float64\n",
      " 13  Neutrophil(#)[Whole blood]  9172 non-null   float64\n",
      " 14  Neutrophil(%)[Whole blood]  9172 non-null   float64\n",
      " 15  ESR[Whole blood]            9172 non-null   float64\n",
      " 16  CRP[Serum]                  9172 non-null   float64\n",
      "dtypes: float64(14), int64(3)\n",
      "memory usage: 1.9 MB\n",
      "None\n"
     ]
    }
   ],
   "source": [
    "print(df_final.info())\n",
    "df_final.to_excel(PATH + 'final_data.xlsx')\n",
    "\n"
   ]
  },
  {
   "cell_type": "code",
   "execution_count": 59,
   "metadata": {},
   "outputs": [
    {
     "data": {
      "text/plain": [
       "3581"
      ]
     },
     "execution_count": 59,
     "metadata": {},
     "output_type": "execute_result"
    }
   ],
   "source": [
    "# final data mean, median, std, min, max 저장\n",
    "df_final_mean = df_final.mean()\n",
    "df_final_median = df_final.median()\n",
    "df_final_std = df_final.std()\n",
    "df_final_min = df_final.min()\n",
    "df_final_max = df_final.max()\n",
    "\n",
    "# Write all into text file\n",
    "detail_string = '''\n",
    "--------------------Mean--------------------\n",
    "{df_final_mean}\n",
    "--------------------Median--------------------\n",
    "{df_final_median}\n",
    "--------------------Std--------------------\n",
    "{df_final_std}\n",
    "--------------------Min--------------------\n",
    "{df_final_min}\n",
    "--------------------Max--------------------\n",
    "{df_final_max}\n",
    "'''\n",
    "write_file = open(PATH + 'final_data_detail.txt', 'w')\n",
    "write_file.write(detail_string.format(df_final_mean=df_final_mean,\n",
    "                                      df_final_median=df_final_median,\n",
    "                                      df_final_std=df_final_std,\n",
    "                                      df_final_min=df_final_min,\n",
    "                                      df_final_max=df_final_max))\n"
   ]
  },
  {
   "cell_type": "markdown",
   "metadata": {},
   "source": [
    "## 데이터 표준화"
   ]
  },
  {
   "cell_type": "code",
   "execution_count": 60,
   "metadata": {},
   "outputs": [],
   "source": [
    "normalization_feature = ['진단시점나이','CMV IgM[Serum]','CMV IgG[Serum]','HSV IgM[Serum]','VZV IgM[Serum]','VZV IgG[Serum]','WBC COUNT[Whole blood]','Lymphocyte(#)[Whole blood]','Lymphocyte(%)[Whole blood]','Monocyte(#)[Whole blood]','Monocyte(%)[Whole blood]','Neutrophil(#)[Whole blood]','Neutrophil(%)[Whole blood]','ESR[Whole blood]','CRP[Serum]']\n",
    "\n",
    "# normalize features\n",
    "df_normalize = df_final.copy()\n",
    "\n",
    "df_normalize[normalization_feature] = df_normalize[normalization_feature].apply(lambda x: (x - x.mean()) / (x.std()))"
   ]
  },
  {
   "cell_type": "code",
   "execution_count": 61,
   "metadata": {},
   "outputs": [
    {
     "data": {
      "text/html": [
       "<div>\n",
       "<style scoped>\n",
       "    .dataframe tbody tr th:only-of-type {\n",
       "        vertical-align: middle;\n",
       "    }\n",
       "\n",
       "    .dataframe tbody tr th {\n",
       "        vertical-align: top;\n",
       "    }\n",
       "\n",
       "    .dataframe thead th {\n",
       "        text-align: right;\n",
       "    }\n",
       "</style>\n",
       "<table border=\"1\" class=\"dataframe\">\n",
       "  <thead>\n",
       "    <tr style=\"text-align: right;\">\n",
       "      <th></th>\n",
       "      <th></th>\n",
       "      <th>Diagnosis</th>\n",
       "      <th>Gender</th>\n",
       "      <th>진단시점나이</th>\n",
       "      <th>CMV IgM[Serum]</th>\n",
       "      <th>CMV IgG[Serum]</th>\n",
       "      <th>HSV IgM[Serum]</th>\n",
       "      <th>VZV IgM[Serum]</th>\n",
       "      <th>VZV IgG[Serum]</th>\n",
       "      <th>WBC COUNT[Whole blood]</th>\n",
       "      <th>Lymphocyte(#)[Whole blood]</th>\n",
       "      <th>Lymphocyte(%)[Whole blood]</th>\n",
       "      <th>Monocyte(#)[Whole blood]</th>\n",
       "      <th>Monocyte(%)[Whole blood]</th>\n",
       "      <th>Neutrophil(#)[Whole blood]</th>\n",
       "      <th>Neutrophil(%)[Whole blood]</th>\n",
       "      <th>ESR[Whole blood]</th>\n",
       "      <th>CRP[Serum]</th>\n",
       "    </tr>\n",
       "    <tr>\n",
       "      <th>연구등록번호</th>\n",
       "      <th></th>\n",
       "      <th></th>\n",
       "      <th></th>\n",
       "      <th></th>\n",
       "      <th></th>\n",
       "      <th></th>\n",
       "      <th></th>\n",
       "      <th></th>\n",
       "      <th></th>\n",
       "      <th></th>\n",
       "      <th></th>\n",
       "      <th></th>\n",
       "      <th></th>\n",
       "      <th></th>\n",
       "      <th></th>\n",
       "      <th></th>\n",
       "      <th></th>\n",
       "      <th></th>\n",
       "    </tr>\n",
       "  </thead>\n",
       "  <tbody>\n",
       "    <tr>\n",
       "      <th rowspan=\"2\" valign=\"top\">104150</th>\n",
       "      <th>0</th>\n",
       "      <td>0</td>\n",
       "      <td>1</td>\n",
       "      <td>0.526106</td>\n",
       "      <td>-0.125714</td>\n",
       "      <td>-0.132718</td>\n",
       "      <td>-0.207219</td>\n",
       "      <td>-0.189877</td>\n",
       "      <td>-0.067589</td>\n",
       "      <td>0.237740</td>\n",
       "      <td>-1.114502</td>\n",
       "      <td>-1.548119</td>\n",
       "      <td>-0.429733</td>\n",
       "      <td>-0.751144</td>\n",
       "      <td>0.938459</td>\n",
       "      <td>-0.061935</td>\n",
       "      <td>-0.006667</td>\n",
       "      <td>-0.197637</td>\n",
       "    </tr>\n",
       "    <tr>\n",
       "      <th>1</th>\n",
       "      <td>0</td>\n",
       "      <td>1</td>\n",
       "      <td>0.526106</td>\n",
       "      <td>-0.125714</td>\n",
       "      <td>-0.132718</td>\n",
       "      <td>-0.207219</td>\n",
       "      <td>-0.189877</td>\n",
       "      <td>-0.067589</td>\n",
       "      <td>-0.472525</td>\n",
       "      <td>0.155989</td>\n",
       "      <td>0.838458</td>\n",
       "      <td>-0.233326</td>\n",
       "      <td>0.235499</td>\n",
       "      <td>-0.720025</td>\n",
       "      <td>-0.061935</td>\n",
       "      <td>-0.006667</td>\n",
       "      <td>-0.197637</td>\n",
       "    </tr>\n",
       "    <tr>\n",
       "      <th rowspan=\"3\" valign=\"top\">261562</th>\n",
       "      <th>2</th>\n",
       "      <td>1</td>\n",
       "      <td>0</td>\n",
       "      <td>1.583882</td>\n",
       "      <td>0.756131</td>\n",
       "      <td>-1.565007</td>\n",
       "      <td>0.267912</td>\n",
       "      <td>0.922669</td>\n",
       "      <td>-1.294243</td>\n",
       "      <td>1.187960</td>\n",
       "      <td>0.796664</td>\n",
       "      <td>-0.080116</td>\n",
       "      <td>0.552304</td>\n",
       "      <td>0.175703</td>\n",
       "      <td>1.838560</td>\n",
       "      <td>0.208979</td>\n",
       "      <td>0.378758</td>\n",
       "      <td>-0.622844</td>\n",
       "    </tr>\n",
       "    <tr>\n",
       "      <th>3</th>\n",
       "      <td>1</td>\n",
       "      <td>0</td>\n",
       "      <td>1.583882</td>\n",
       "      <td>0.756131</td>\n",
       "      <td>-1.565007</td>\n",
       "      <td>0.267912</td>\n",
       "      <td>0.922669</td>\n",
       "      <td>-1.294243</td>\n",
       "      <td>2.658881</td>\n",
       "      <td>-0.929901</td>\n",
       "      <td>-2.080377</td>\n",
       "      <td>0.866555</td>\n",
       "      <td>-0.960432</td>\n",
       "      <td>4.600145</td>\n",
       "      <td>0.208979</td>\n",
       "      <td>0.378758</td>\n",
       "      <td>-0.622844</td>\n",
       "    </tr>\n",
       "    <tr>\n",
       "      <th>4</th>\n",
       "      <td>1</td>\n",
       "      <td>0</td>\n",
       "      <td>1.583882</td>\n",
       "      <td>0.756131</td>\n",
       "      <td>-1.565007</td>\n",
       "      <td>0.267912</td>\n",
       "      <td>0.922669</td>\n",
       "      <td>-1.294243</td>\n",
       "      <td>1.351129</td>\n",
       "      <td>-0.158919</td>\n",
       "      <td>-1.367838</td>\n",
       "      <td>0.748711</td>\n",
       "      <td>-0.571754</td>\n",
       "      <td>2.229242</td>\n",
       "      <td>0.208979</td>\n",
       "      <td>0.378758</td>\n",
       "      <td>-0.622844</td>\n",
       "    </tr>\n",
       "  </tbody>\n",
       "</table>\n",
       "</div>"
      ],
      "text/plain": [
       "          Diagnosis  Gender    진단시점나이  CMV IgM[Serum]  CMV IgG[Serum]  \\\n",
       "연구등록번호                                                                  \n",
       "104150 0          0       1  0.526106       -0.125714       -0.132718   \n",
       "       1          0       1  0.526106       -0.125714       -0.132718   \n",
       "261562 2          1       0  1.583882        0.756131       -1.565007   \n",
       "       3          1       0  1.583882        0.756131       -1.565007   \n",
       "       4          1       0  1.583882        0.756131       -1.565007   \n",
       "\n",
       "          HSV IgM[Serum]  VZV IgM[Serum]  VZV IgG[Serum]  \\\n",
       "연구등록번호                                                     \n",
       "104150 0       -0.207219       -0.189877       -0.067589   \n",
       "       1       -0.207219       -0.189877       -0.067589   \n",
       "261562 2        0.267912        0.922669       -1.294243   \n",
       "       3        0.267912        0.922669       -1.294243   \n",
       "       4        0.267912        0.922669       -1.294243   \n",
       "\n",
       "          WBC COUNT[Whole blood]  Lymphocyte(#)[Whole blood]  \\\n",
       "연구등록번호                                                         \n",
       "104150 0                0.237740                   -1.114502   \n",
       "       1               -0.472525                    0.155989   \n",
       "261562 2                1.187960                    0.796664   \n",
       "       3                2.658881                   -0.929901   \n",
       "       4                1.351129                   -0.158919   \n",
       "\n",
       "          Lymphocyte(%)[Whole blood]  Monocyte(#)[Whole blood]  \\\n",
       "연구등록번호                                                           \n",
       "104150 0                   -1.548119                 -0.429733   \n",
       "       1                    0.838458                 -0.233326   \n",
       "261562 2                   -0.080116                  0.552304   \n",
       "       3                   -2.080377                  0.866555   \n",
       "       4                   -1.367838                  0.748711   \n",
       "\n",
       "          Monocyte(%)[Whole blood]  Neutrophil(#)[Whole blood]  \\\n",
       "연구등록번호                                                           \n",
       "104150 0                 -0.751144                    0.938459   \n",
       "       1                  0.235499                   -0.720025   \n",
       "261562 2                  0.175703                    1.838560   \n",
       "       3                 -0.960432                    4.600145   \n",
       "       4                 -0.571754                    2.229242   \n",
       "\n",
       "          Neutrophil(%)[Whole blood]  ESR[Whole blood]  CRP[Serum]  \n",
       "연구등록번호                                                              \n",
       "104150 0                   -0.061935         -0.006667   -0.197637  \n",
       "       1                   -0.061935         -0.006667   -0.197637  \n",
       "261562 2                    0.208979          0.378758   -0.622844  \n",
       "       3                    0.208979          0.378758   -0.622844  \n",
       "       4                    0.208979          0.378758   -0.622844  "
      ]
     },
     "execution_count": 61,
     "metadata": {},
     "output_type": "execute_result"
    }
   ],
   "source": [
    "df_normalize.head()"
   ]
  },
  {
   "cell_type": "code",
   "execution_count": 62,
   "metadata": {},
   "outputs": [],
   "source": [
    "df_normalize.to_excel(PATH + 'final_data_normalize.xlsx')"
   ]
  },
  {
   "cell_type": "code",
   "execution_count": null,
   "metadata": {},
   "outputs": [],
   "source": []
  }
 ],
 "metadata": {
  "kernelspec": {
   "display_name": "DL",
   "language": "python",
   "name": "dl"
  },
  "language_info": {
   "codemirror_mode": {
    "name": "ipython",
    "version": 3
   },
   "file_extension": ".py",
   "mimetype": "text/x-python",
   "name": "python",
   "nbconvert_exporter": "python",
   "pygments_lexer": "ipython3",
   "version": "3.7.11"
  },
  "orig_nbformat": 4,
  "vscode": {
   "interpreter": {
    "hash": "31f2aee4e71d21fbe5cf8b01ff0e069b9275f58929596ceb00d14d90e3e16cd6"
   }
  }
 },
 "nbformat": 4,
 "nbformat_minor": 2
}
