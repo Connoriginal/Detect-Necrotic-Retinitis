{
 "cells": [
  {
   "cell_type": "code",
   "execution_count": 37,
   "metadata": {},
   "outputs": [],
   "source": [
    "import pandas as pd\n",
    "import torch\n",
    "import numpy as np\n",
    "import matplotlib.pyplot as plt\n",
    "import seaborn as sns\n",
    "\n",
    "%matplotlib inline\n",
    "\n",
    "PATH = '../data/'\n",
    "file_name = 'third_data.xlsx'"
   ]
  },
  {
   "cell_type": "code",
   "execution_count": 54,
   "metadata": {},
   "outputs": [],
   "source": [
    "# 진단일자는 전처리를 위해 넣어준다.\n",
    "init_columns = ['연구등록번호','Diagnosis','진단일자','Gender','진단시점나이','CMV IgM[Serum]','CMV IgG[Serum]',\n",
    "'HSV IgM[Serum]','HSV IgG[Serum]','VZV IgM[Serum]','VZV IgG[Serum]','WBC COUNT[Whole blood]','Lymphocyte(#)[Whole blood]',\n",
    "'Lymphocyte(%)[Whole blood]','Monocyte(#)[Whole blood]','Monocyte(%)[Whole blood]','Neutrophil(#)[Whole blood]',\n",
    "'Neutrophil(%)[Whole blood]','ESR[Whole blood]','CRP[Serum]']\n",
    "\n",
    "feature_column = ['Diagnosis','CMV IgM[Serum]','CMV IgG[Serum]',\n",
    "'HSV IgM[Serum]','HSV IgG[Serum]','VZV IgM[Serum]','VZV IgG[Serum]','WBC COUNT[Whole blood]','Lymphocyte(#)[Whole blood]',\n",
    "'Lymphocyte(%)[Whole blood]','Monocyte(#)[Whole blood]','Monocyte(%)[Whole blood]','Neutrophil(#)[Whole blood]',\n",
    "'Neutrophil(%)[Whole blood]','ESR[Whole blood]','CRP[Serum]']"
   ]
  },
  {
   "cell_type": "code",
   "execution_count": 41,
   "metadata": {},
   "outputs": [
    {
     "name": "stdout",
     "output_type": "stream",
     "text": [
      "(9204, 20)\n",
      "<class 'pandas.core.frame.DataFrame'>\n",
      "RangeIndex: 9204 entries, 0 to 9203\n",
      "Data columns (total 20 columns):\n",
      " #   Column                      Non-Null Count  Dtype  \n",
      "---  ------                      --------------  -----  \n",
      " 0   연구등록번호                      9204 non-null   int64  \n",
      " 1   Diagnosis                   9204 non-null   int64  \n",
      " 2   진단일자                        9204 non-null   object \n",
      " 3   Gender                      9204 non-null   int64  \n",
      " 4   진단시점나이                      9204 non-null   int64  \n",
      " 5   CMV IgM[Serum]              858 non-null    float64\n",
      " 6   CMV IgG[Serum]              831 non-null    float64\n",
      " 7   HSV IgM[Serum]              885 non-null    float64\n",
      " 8   HSV IgG[Serum]              0 non-null      float64\n",
      " 9   VZV IgM[Serum]              768 non-null    float64\n",
      " 10  VZV IgG[Serum]              769 non-null    float64\n",
      " 11  WBC COUNT[Whole blood]      8997 non-null   float64\n",
      " 12  Lymphocyte(#)[Whole blood]  9006 non-null   float64\n",
      " 13  Lymphocyte(%)[Whole blood]  9006 non-null   float64\n",
      " 14  Monocyte(#)[Whole blood]    9005 non-null   float64\n",
      " 15  Monocyte(%)[Whole blood]    9006 non-null   float64\n",
      " 16  Neutrophil(#)[Whole blood]  9005 non-null   float64\n",
      " 17  Neutrophil(%)[Whole blood]  7255 non-null   float64\n",
      " 18  ESR[Whole blood]            1378 non-null   float64\n",
      " 19  CRP[Serum]                  79 non-null     float64\n",
      "dtypes: float64(15), int64(4), object(1)\n",
      "memory usage: 1.4+ MB\n",
      "None\n",
      "0    8147\n",
      "2     920\n",
      "1     137\n",
      "Name: Diagnosis, dtype: int64\n"
     ]
    }
   ],
   "source": [
    "# Read data\n",
    "df = pd.read_excel(PATH + file_name)\n",
    "\n",
    "# Total number\n",
    "print(df.shape)\n",
    "\n",
    "# Info\n",
    "print(df.info())\n",
    "\n",
    "# Count Diagnosis 0,1,2 \n",
    "print(df['Diagnosis'].value_counts())"
   ]
  },
  {
   "cell_type": "code",
   "execution_count": 42,
   "metadata": {},
   "outputs": [
    {
     "name": "stdout",
     "output_type": "stream",
     "text": [
      "<class 'pandas.core.frame.DataFrame'>\n",
      "RangeIndex: 9204 entries, 0 to 9203\n",
      "Data columns (total 20 columns):\n",
      " #   Column                      Non-Null Count  Dtype  \n",
      "---  ------                      --------------  -----  \n",
      " 0   연구등록번호                      9204 non-null   int64  \n",
      " 1   Diagnosis                   9204 non-null   int64  \n",
      " 2   진단일자                        9204 non-null   object \n",
      " 3   Gender                      9204 non-null   int64  \n",
      " 4   진단시점나이                      9204 non-null   int64  \n",
      " 5   CMV IgM[Serum]              858 non-null    float64\n",
      " 6   CMV IgG[Serum]              831 non-null    float64\n",
      " 7   HSV IgM[Serum]              885 non-null    float64\n",
      " 8   HSV IgG[Serum]              0 non-null      float64\n",
      " 9   VZV IgM[Serum]              768 non-null    float64\n",
      " 10  VZV IgG[Serum]              769 non-null    float64\n",
      " 11  WBC COUNT[Whole blood]      8997 non-null   float64\n",
      " 12  Lymphocyte(#)[Whole blood]  9006 non-null   float64\n",
      " 13  Lymphocyte(%)[Whole blood]  9006 non-null   float64\n",
      " 14  Monocyte(#)[Whole blood]    9005 non-null   float64\n",
      " 15  Monocyte(%)[Whole blood]    9006 non-null   float64\n",
      " 16  Neutrophil(#)[Whole blood]  9005 non-null   float64\n",
      " 17  Neutrophil(%)[Whole blood]  7255 non-null   float64\n",
      " 18  ESR[Whole blood]            1378 non-null   float64\n",
      " 19  CRP[Serum]                  79 non-null     float64\n",
      "dtypes: float64(15), int64(4), object(1)\n",
      "memory usage: 1.4+ MB\n",
      "None\n"
     ]
    }
   ],
   "source": [
    "# change 'VZV IgM[Serum]' and 'Monocyte(#)[Whole blood]' and 'Neutrophil(#)[Whole blood]' into float64\n",
    "df[['VZV IgM[Serum]','Monocyte(#)[Whole blood]','Neutrophil(#)[Whole blood]']] = df[['VZV IgM[Serum]','Monocyte(#)[Whole blood]','Neutrophil(#)[Whole blood]']].astype(float)\n",
    "\n",
    "print(df.info())\n"
   ]
  },
  {
   "cell_type": "markdown",
   "metadata": {},
   "source": [
    "## 연구등록번호 기준 결측치 처리"
   ]
  },
  {
   "cell_type": "code",
   "execution_count": 43,
   "metadata": {},
   "outputs": [
    {
     "name": "stdout",
     "output_type": "stream",
     "text": [
      "2876\n"
     ]
    }
   ],
   "source": [
    "# group by '연구등록번호' and 'Diagnosis'\n",
    "df_group = df.groupby(['연구등록번호'])\n",
    "print(len(df_group.groups))\n"
   ]
  },
  {
   "cell_type": "code",
   "execution_count": 44,
   "metadata": {},
   "outputs": [
    {
     "name": "stderr",
     "output_type": "stream",
     "text": [
      "/Users/kwontaeyoon/opt/anaconda3/envs/NLP/lib/python3.7/site-packages/ipykernel_launcher.py:1: FutureWarning: Dropping of nuisance columns in DataFrame reductions (with 'numeric_only=None') is deprecated; in a future version this will raise TypeError.  Select only valid columns before calling the reduction.\n",
      "  \"\"\"Entry point for launching an IPython kernel.\n"
     ]
    }
   ],
   "source": [
    "df_fill_group = df_group.apply(lambda x: x.fillna(x.mean()))"
   ]
  },
  {
   "cell_type": "code",
   "execution_count": 45,
   "metadata": {},
   "outputs": [
    {
     "name": "stdout",
     "output_type": "stream",
     "text": [
      "<class 'pandas.core.frame.DataFrame'>\n",
      "MultiIndex: 9204 entries, (104150, 0) to (10719371, 9203)\n",
      "Data columns (total 20 columns):\n",
      " #   Column                      Non-Null Count  Dtype  \n",
      "---  ------                      --------------  -----  \n",
      " 0   연구등록번호                      9204 non-null   int64  \n",
      " 1   Diagnosis                   9204 non-null   int64  \n",
      " 2   진단일자                        9204 non-null   object \n",
      " 3   Gender                      9204 non-null   int64  \n",
      " 4   진단시점나이                      9204 non-null   int64  \n",
      " 5   CMV IgM[Serum]              1972 non-null   float64\n",
      " 6   CMV IgG[Serum]              1926 non-null   float64\n",
      " 7   HSV IgM[Serum]              2177 non-null   float64\n",
      " 8   HSV IgG[Serum]              0 non-null      float64\n",
      " 9   VZV IgM[Serum]              1816 non-null   float64\n",
      " 10  VZV IgG[Serum]              1933 non-null   float64\n",
      " 11  WBC COUNT[Whole blood]      9116 non-null   float64\n",
      " 12  Lymphocyte(#)[Whole blood]  9101 non-null   float64\n",
      " 13  Lymphocyte(%)[Whole blood]  9101 non-null   float64\n",
      " 14  Monocyte(#)[Whole blood]    9100 non-null   float64\n",
      " 15  Monocyte(%)[Whole blood]    9101 non-null   float64\n",
      " 16  Neutrophil(#)[Whole blood]  9100 non-null   float64\n",
      " 17  Neutrophil(%)[Whole blood]  7360 non-null   float64\n",
      " 18  ESR[Whole blood]            1624 non-null   float64\n",
      " 19  CRP[Serum]                  93 non-null     float64\n",
      "dtypes: float64(15), int64(4), object(1)\n",
      "memory usage: 1.8+ MB\n"
     ]
    }
   ],
   "source": [
    "df_fill_group.info()"
   ]
  },
  {
   "cell_type": "code",
   "execution_count": 46,
   "metadata": {},
   "outputs": [],
   "source": [
    "# df 에 df_fill_group 적용하기\n",
    "df = df_fill_group\n",
    "df.to_excel(PATH + 'third_data_fill.xlsx')"
   ]
  },
  {
   "cell_type": "code",
   "execution_count": 47,
   "metadata": {},
   "outputs": [
    {
     "name": "stdout",
     "output_type": "stream",
     "text": [
      "<class 'pandas.core.frame.DataFrame'>\n",
      "MultiIndex: 9204 entries, (104150, 0) to (10719371, 9203)\n",
      "Data columns (total 20 columns):\n",
      " #   Column                      Non-Null Count  Dtype  \n",
      "---  ------                      --------------  -----  \n",
      " 0   연구등록번호                      9204 non-null   int64  \n",
      " 1   Diagnosis                   9204 non-null   int64  \n",
      " 2   진단일자                        9204 non-null   object \n",
      " 3   Gender                      9204 non-null   int64  \n",
      " 4   진단시점나이                      9204 non-null   int64  \n",
      " 5   CMV IgM[Serum]              1972 non-null   float64\n",
      " 6   CMV IgG[Serum]              1926 non-null   float64\n",
      " 7   HSV IgM[Serum]              2177 non-null   float64\n",
      " 8   HSV IgG[Serum]              0 non-null      float64\n",
      " 9   VZV IgM[Serum]              1816 non-null   float64\n",
      " 10  VZV IgG[Serum]              1933 non-null   float64\n",
      " 11  WBC COUNT[Whole blood]      9116 non-null   float64\n",
      " 12  Lymphocyte(#)[Whole blood]  9101 non-null   float64\n",
      " 13  Lymphocyte(%)[Whole blood]  9101 non-null   float64\n",
      " 14  Monocyte(#)[Whole blood]    9100 non-null   float64\n",
      " 15  Monocyte(%)[Whole blood]    9101 non-null   float64\n",
      " 16  Neutrophil(#)[Whole blood]  9100 non-null   float64\n",
      " 17  Neutrophil(%)[Whole blood]  7360 non-null   float64\n",
      " 18  ESR[Whole blood]            1624 non-null   float64\n",
      " 19  CRP[Serum]                  93 non-null     float64\n",
      "dtypes: float64(15), int64(4), object(1)\n",
      "memory usage: 1.8+ MB\n",
      "Index(['연구등록번호', 'Diagnosis', '진단일자', 'Gender', '진단시점나이', 'CMV IgM[Serum]',\n",
      "       'CMV IgG[Serum]', 'HSV IgM[Serum]', 'HSV IgG[Serum]', 'VZV IgM[Serum]',\n",
      "       'VZV IgG[Serum]', 'WBC COUNT[Whole blood]',\n",
      "       'Lymphocyte(#)[Whole blood]', 'Lymphocyte(%)[Whole blood]',\n",
      "       'Monocyte(#)[Whole blood]', 'Monocyte(%)[Whole blood]',\n",
      "       'Neutrophil(#)[Whole blood]', 'Neutrophil(%)[Whole blood]',\n",
      "       'ESR[Whole blood]', 'CRP[Serum]'],\n",
      "      dtype='object')\n"
     ]
    }
   ],
   "source": [
    "df.info()\n",
    "print(df.columns)"
   ]
  },
  {
   "cell_type": "markdown",
   "metadata": {},
   "source": [
    "## Diagnosis 기준 결측치 처리"
   ]
  },
  {
   "cell_type": "code",
   "execution_count": 48,
   "metadata": {},
   "outputs": [
    {
     "name": "stdout",
     "output_type": "stream",
     "text": [
      "3\n"
     ]
    }
   ],
   "source": [
    "df_group = df.groupby('Diagnosis')\n",
    "print(len(df_group.groups))"
   ]
  },
  {
   "cell_type": "code",
   "execution_count": 49,
   "metadata": {},
   "outputs": [
    {
     "data": {
      "text/plain": [
       "10880"
      ]
     },
     "execution_count": 49,
     "metadata": {},
     "output_type": "execute_result"
    }
   ],
   "source": [
    "# 각 Group 마다 mean, median, std, min, max 계산\n",
    "df_group_mean = df_group.mean()\n",
    "df_group_median = df_group.median()\n",
    "df_group_std = df_group.std()\n",
    "df_group_min = df_group.min()\n",
    "df_group_max = df_group.max()\n",
    "\n",
    "# Write all into text file\n",
    "detail_string = '''\n",
    "--------------------Mean--------------------\n",
    "{df_group_mean}\n",
    "--------------------Median--------------------\n",
    "{df_group_median}\n",
    "--------------------Std--------------------\n",
    "{df_group_std}\n",
    "--------------------Min--------------------\n",
    "{df_group_min}\n",
    "--------------------Max--------------------\n",
    "{df_group_max}\n",
    "'''\n",
    "\n",
    "# Write all into text file\n",
    "write_file = open(PATH + 'third_data_detail.txt', 'w')\n",
    "write_file.write(detail_string.format(df_group_mean=df_group_mean,\n",
    "                                        df_group_median=df_group_median,\n",
    "                                        df_group_std=df_group_std,\n",
    "                                        df_group_min=df_group_min,\n",
    "                                        df_group_max=df_group_max))\n"
   ]
  },
  {
   "cell_type": "code",
   "execution_count": 50,
   "metadata": {},
   "outputs": [
    {
     "name": "stdout",
     "output_type": "stream",
     "text": [
      "<class 'pandas.core.frame.DataFrame'>\n",
      "MultiIndex: 9204 entries, (104150, 0) to (10719371, 9203)\n",
      "Data columns (total 20 columns):\n",
      " #   Column                      Non-Null Count  Dtype  \n",
      "---  ------                      --------------  -----  \n",
      " 0   연구등록번호                      9204 non-null   int64  \n",
      " 1   Diagnosis                   9204 non-null   int64  \n",
      " 2   진단일자                        9204 non-null   object \n",
      " 3   Gender                      9204 non-null   int64  \n",
      " 4   진단시점나이                      9204 non-null   int64  \n",
      " 5   CMV IgM[Serum]              9204 non-null   float64\n",
      " 6   CMV IgG[Serum]              9204 non-null   float64\n",
      " 7   HSV IgM[Serum]              9204 non-null   float64\n",
      " 8   HSV IgG[Serum]              0 non-null      float64\n",
      " 9   VZV IgM[Serum]              9204 non-null   float64\n",
      " 10  VZV IgG[Serum]              9204 non-null   float64\n",
      " 11  WBC COUNT[Whole blood]      9204 non-null   float64\n",
      " 12  Lymphocyte(#)[Whole blood]  9204 non-null   float64\n",
      " 13  Lymphocyte(%)[Whole blood]  9204 non-null   float64\n",
      " 14  Monocyte(#)[Whole blood]    9204 non-null   float64\n",
      " 15  Monocyte(%)[Whole blood]    9204 non-null   float64\n",
      " 16  Neutrophil(#)[Whole blood]  9204 non-null   float64\n",
      " 17  Neutrophil(%)[Whole blood]  9204 non-null   float64\n",
      " 18  ESR[Whole blood]            9204 non-null   float64\n",
      " 19  CRP[Serum]                  9204 non-null   float64\n",
      "dtypes: float64(15), int64(4), object(1)\n",
      "memory usage: 2.1+ MB\n",
      "None\n"
     ]
    },
    {
     "name": "stderr",
     "output_type": "stream",
     "text": [
      "/Users/kwontaeyoon/opt/anaconda3/envs/NLP/lib/python3.7/site-packages/ipykernel_launcher.py:2: FutureWarning: Dropping of nuisance columns in DataFrame reductions (with 'numeric_only=None') is deprecated; in a future version this will raise TypeError.  Select only valid columns before calling the reduction.\n",
      "  \n"
     ]
    }
   ],
   "source": [
    "# median 값으로 채우기\n",
    "df_fill_group2 = df_group.apply(lambda x: x.fillna(x.median()))\n",
    "\n",
    "print(df_fill_group2.info())"
   ]
  },
  {
   "cell_type": "code",
   "execution_count": 51,
   "metadata": {},
   "outputs": [],
   "source": [
    "df = df_fill_group2\n",
    "df.to_excel(PATH + 'fourth_data.xlsx')"
   ]
  },
  {
   "cell_type": "markdown",
   "metadata": {},
   "source": [
    "## 결측치 분석"
   ]
  },
  {
   "cell_type": "code",
   "execution_count": 52,
   "metadata": {},
   "outputs": [
    {
     "name": "stderr",
     "output_type": "stream",
     "text": [
      "/Users/kwontaeyoon/opt/anaconda3/envs/NLP/lib/python3.7/site-packages/seaborn/utils.py:95: UserWarning: Glyph 50672 (\\N{HANGUL SYLLABLE YEON}) missing from current font.\n",
      "  fig.canvas.draw()\n",
      "/Users/kwontaeyoon/opt/anaconda3/envs/NLP/lib/python3.7/site-packages/seaborn/utils.py:95: UserWarning: Glyph 44396 (\\N{HANGUL SYLLABLE GU}) missing from current font.\n",
      "  fig.canvas.draw()\n",
      "/Users/kwontaeyoon/opt/anaconda3/envs/NLP/lib/python3.7/site-packages/seaborn/utils.py:95: UserWarning: Glyph 46321 (\\N{HANGUL SYLLABLE DEUNG}) missing from current font.\n",
      "  fig.canvas.draw()\n",
      "/Users/kwontaeyoon/opt/anaconda3/envs/NLP/lib/python3.7/site-packages/seaborn/utils.py:95: UserWarning: Glyph 47197 (\\N{HANGUL SYLLABLE ROG}) missing from current font.\n",
      "  fig.canvas.draw()\n",
      "/Users/kwontaeyoon/opt/anaconda3/envs/NLP/lib/python3.7/site-packages/seaborn/utils.py:95: UserWarning: Glyph 48264 (\\N{HANGUL SYLLABLE BEON}) missing from current font.\n",
      "  fig.canvas.draw()\n",
      "/Users/kwontaeyoon/opt/anaconda3/envs/NLP/lib/python3.7/site-packages/seaborn/utils.py:95: UserWarning: Glyph 54840 (\\N{HANGUL SYLLABLE HO}) missing from current font.\n",
      "  fig.canvas.draw()\n",
      "/Users/kwontaeyoon/opt/anaconda3/envs/NLP/lib/python3.7/site-packages/seaborn/utils.py:95: UserWarning: Glyph 51652 (\\N{HANGUL SYLLABLE JIN}) missing from current font.\n",
      "  fig.canvas.draw()\n",
      "/Users/kwontaeyoon/opt/anaconda3/envs/NLP/lib/python3.7/site-packages/seaborn/utils.py:95: UserWarning: Glyph 45800 (\\N{HANGUL SYLLABLE DAN}) missing from current font.\n",
      "  fig.canvas.draw()\n",
      "/Users/kwontaeyoon/opt/anaconda3/envs/NLP/lib/python3.7/site-packages/seaborn/utils.py:95: UserWarning: Glyph 51068 (\\N{HANGUL SYLLABLE IL}) missing from current font.\n",
      "  fig.canvas.draw()\n",
      "/Users/kwontaeyoon/opt/anaconda3/envs/NLP/lib/python3.7/site-packages/seaborn/utils.py:95: UserWarning: Glyph 51088 (\\N{HANGUL SYLLABLE JA}) missing from current font.\n",
      "  fig.canvas.draw()\n",
      "/Users/kwontaeyoon/opt/anaconda3/envs/NLP/lib/python3.7/site-packages/seaborn/utils.py:95: UserWarning: Glyph 49884 (\\N{HANGUL SYLLABLE SI}) missing from current font.\n",
      "  fig.canvas.draw()\n",
      "/Users/kwontaeyoon/opt/anaconda3/envs/NLP/lib/python3.7/site-packages/seaborn/utils.py:95: UserWarning: Glyph 51216 (\\N{HANGUL SYLLABLE JEOM}) missing from current font.\n",
      "  fig.canvas.draw()\n",
      "/Users/kwontaeyoon/opt/anaconda3/envs/NLP/lib/python3.7/site-packages/seaborn/utils.py:95: UserWarning: Glyph 45208 (\\N{HANGUL SYLLABLE NA}) missing from current font.\n",
      "  fig.canvas.draw()\n",
      "/Users/kwontaeyoon/opt/anaconda3/envs/NLP/lib/python3.7/site-packages/seaborn/utils.py:95: UserWarning: Glyph 51060 (\\N{HANGUL SYLLABLE I}) missing from current font.\n",
      "  fig.canvas.draw()\n"
     ]
    },
    {
     "data": {
      "text/plain": [
       "<AxesSubplot:ylabel='연구등록번호-None'>"
      ]
     },
     "execution_count": 52,
     "metadata": {},
     "output_type": "execute_result"
    },
    {
     "name": "stderr",
     "output_type": "stream",
     "text": [
      "/Users/kwontaeyoon/opt/anaconda3/envs/NLP/lib/python3.7/site-packages/IPython/core/pylabtools.py:151: UserWarning: Glyph 50672 (\\N{HANGUL SYLLABLE YEON}) missing from current font.\n",
      "  fig.canvas.print_figure(bytes_io, **kw)\n",
      "/Users/kwontaeyoon/opt/anaconda3/envs/NLP/lib/python3.7/site-packages/IPython/core/pylabtools.py:151: UserWarning: Glyph 44396 (\\N{HANGUL SYLLABLE GU}) missing from current font.\n",
      "  fig.canvas.print_figure(bytes_io, **kw)\n",
      "/Users/kwontaeyoon/opt/anaconda3/envs/NLP/lib/python3.7/site-packages/IPython/core/pylabtools.py:151: UserWarning: Glyph 46321 (\\N{HANGUL SYLLABLE DEUNG}) missing from current font.\n",
      "  fig.canvas.print_figure(bytes_io, **kw)\n",
      "/Users/kwontaeyoon/opt/anaconda3/envs/NLP/lib/python3.7/site-packages/IPython/core/pylabtools.py:151: UserWarning: Glyph 47197 (\\N{HANGUL SYLLABLE ROG}) missing from current font.\n",
      "  fig.canvas.print_figure(bytes_io, **kw)\n",
      "/Users/kwontaeyoon/opt/anaconda3/envs/NLP/lib/python3.7/site-packages/IPython/core/pylabtools.py:151: UserWarning: Glyph 48264 (\\N{HANGUL SYLLABLE BEON}) missing from current font.\n",
      "  fig.canvas.print_figure(bytes_io, **kw)\n",
      "/Users/kwontaeyoon/opt/anaconda3/envs/NLP/lib/python3.7/site-packages/IPython/core/pylabtools.py:151: UserWarning: Glyph 54840 (\\N{HANGUL SYLLABLE HO}) missing from current font.\n",
      "  fig.canvas.print_figure(bytes_io, **kw)\n",
      "/Users/kwontaeyoon/opt/anaconda3/envs/NLP/lib/python3.7/site-packages/IPython/core/pylabtools.py:151: UserWarning: Glyph 51652 (\\N{HANGUL SYLLABLE JIN}) missing from current font.\n",
      "  fig.canvas.print_figure(bytes_io, **kw)\n",
      "/Users/kwontaeyoon/opt/anaconda3/envs/NLP/lib/python3.7/site-packages/IPython/core/pylabtools.py:151: UserWarning: Glyph 45800 (\\N{HANGUL SYLLABLE DAN}) missing from current font.\n",
      "  fig.canvas.print_figure(bytes_io, **kw)\n",
      "/Users/kwontaeyoon/opt/anaconda3/envs/NLP/lib/python3.7/site-packages/IPython/core/pylabtools.py:151: UserWarning: Glyph 51068 (\\N{HANGUL SYLLABLE IL}) missing from current font.\n",
      "  fig.canvas.print_figure(bytes_io, **kw)\n",
      "/Users/kwontaeyoon/opt/anaconda3/envs/NLP/lib/python3.7/site-packages/IPython/core/pylabtools.py:151: UserWarning: Glyph 51088 (\\N{HANGUL SYLLABLE JA}) missing from current font.\n",
      "  fig.canvas.print_figure(bytes_io, **kw)\n",
      "/Users/kwontaeyoon/opt/anaconda3/envs/NLP/lib/python3.7/site-packages/IPython/core/pylabtools.py:151: UserWarning: Glyph 49884 (\\N{HANGUL SYLLABLE SI}) missing from current font.\n",
      "  fig.canvas.print_figure(bytes_io, **kw)\n",
      "/Users/kwontaeyoon/opt/anaconda3/envs/NLP/lib/python3.7/site-packages/IPython/core/pylabtools.py:151: UserWarning: Glyph 51216 (\\N{HANGUL SYLLABLE JEOM}) missing from current font.\n",
      "  fig.canvas.print_figure(bytes_io, **kw)\n",
      "/Users/kwontaeyoon/opt/anaconda3/envs/NLP/lib/python3.7/site-packages/IPython/core/pylabtools.py:151: UserWarning: Glyph 45208 (\\N{HANGUL SYLLABLE NA}) missing from current font.\n",
      "  fig.canvas.print_figure(bytes_io, **kw)\n",
      "/Users/kwontaeyoon/opt/anaconda3/envs/NLP/lib/python3.7/site-packages/IPython/core/pylabtools.py:151: UserWarning: Glyph 51060 (\\N{HANGUL SYLLABLE I}) missing from current font.\n",
      "  fig.canvas.print_figure(bytes_io, **kw)\n"
     ]
    },
    {
     "data": {
      "image/png": "[encoded data removed]",
      "text/plain": [
       "<Figure size 432x288 with 1 Axes>"
      ]
     },
     "metadata": {
      "needs_background": "light"
     },
     "output_type": "display_data"
    }
   ],
   "source": [
    "# 시각화\n",
    "sns.heatmap(df.isnull(), cbar=False)"
   ]
  },
  {
   "cell_type": "code",
   "execution_count": 53,
   "metadata": {},
   "outputs": [
    {
     "name": "stdout",
     "output_type": "stream",
     "text": [
      "연구등록번호                           0\n",
      "Diagnosis                        0\n",
      "진단일자                             0\n",
      "Gender                           0\n",
      "진단시점나이                           0\n",
      "CMV IgM[Serum]                   0\n",
      "CMV IgG[Serum]                   0\n",
      "HSV IgM[Serum]                   0\n",
      "HSV IgG[Serum]                9204\n",
      "VZV IgM[Serum]                   0\n",
      "VZV IgG[Serum]                   0\n",
      "WBC COUNT[Whole blood]           0\n",
      "Lymphocyte(#)[Whole blood]       0\n",
      "Lymphocyte(%)[Whole blood]       0\n",
      "Monocyte(#)[Whole blood]         0\n",
      "Monocyte(%)[Whole blood]         0\n",
      "Neutrophil(#)[Whole blood]       0\n",
      "Neutrophil(%)[Whole blood]       0\n",
      "ESR[Whole blood]                 0\n",
      "CRP[Serum]                       0\n",
      "dtype: int64\n"
     ]
    }
   ],
   "source": [
    "# 결측치 확인\n",
    "print(df.isnull().sum())"
   ]
  },
  {
   "cell_type": "code",
   "execution_count": 55,
   "metadata": {},
   "outputs": [],
   "source": [
    "final_column = ['Diagnosis','Gender','진단시점나이','CMV IgM[Serum]','CMV IgG[Serum]',\n",
    "'HSV IgM[Serum]','VZV IgM[Serum]','VZV IgG[Serum]','WBC COUNT[Whole blood]','Lymphocyte(#)[Whole blood]',\n",
    "'Lymphocyte(%)[Whole blood]','Monocyte(#)[Whole blood]','Monocyte(%)[Whole blood]','Neutrophil(#)[Whole blood]',\n",
    "'Neutrophil(%)[Whole blood]','ESR[Whole blood]','CRP[Serum]']\n",
    "\n",
    "df_final = df[final_column]"
   ]
  },
  {
   "cell_type": "code",
   "execution_count": 56,
   "metadata": {},
   "outputs": [
    {
     "name": "stdout",
     "output_type": "stream",
     "text": [
      "<class 'pandas.core.frame.DataFrame'>\n",
      "MultiIndex: 9204 entries, (104150, 0) to (10719371, 9203)\n",
      "Data columns (total 17 columns):\n",
      " #   Column                      Non-Null Count  Dtype  \n",
      "---  ------                      --------------  -----  \n",
      " 0   Diagnosis                   9204 non-null   int64  \n",
      " 1   Gender                      9204 non-null   int64  \n",
      " 2   진단시점나이                      9204 non-null   int64  \n",
      " 3   CMV IgM[Serum]              9204 non-null   float64\n",
      " 4   CMV IgG[Serum]              9204 non-null   float64\n",
      " 5   HSV IgM[Serum]              9204 non-null   float64\n",
      " 6   VZV IgM[Serum]              9204 non-null   float64\n",
      " 7   VZV IgG[Serum]              9204 non-null   float64\n",
      " 8   WBC COUNT[Whole blood]      9204 non-null   float64\n",
      " 9   Lymphocyte(#)[Whole blood]  9204 non-null   float64\n",
      " 10  Lymphocyte(%)[Whole blood]  9204 non-null   float64\n",
      " 11  Monocyte(#)[Whole blood]    9204 non-null   float64\n",
      " 12  Monocyte(%)[Whole blood]    9204 non-null   float64\n",
      " 13  Neutrophil(#)[Whole blood]  9204 non-null   float64\n",
      " 14  Neutrophil(%)[Whole blood]  9204 non-null   float64\n",
      " 15  ESR[Whole blood]            9204 non-null   float64\n",
      " 16  CRP[Serum]                  9204 non-null   float64\n",
      "dtypes: float64(14), int64(3)\n",
      "memory usage: 1.9 MB\n",
      "None\n"
     ]
    }
   ],
   "source": [
    "print(df_final.info())\n",
    "df_final.to_excel(PATH + 'final_data.xlsx')\n",
    "\n"
   ]
  },
  {
   "cell_type": "code",
   "execution_count": 58,
   "metadata": {},
   "outputs": [
    {
     "data": {
      "text/plain": [
       "3581"
      ]
     },
     "execution_count": 58,
     "metadata": {},
     "output_type": "execute_result"
    }
   ],
   "source": [
    "# final data mean, median, std, min, max 저장\n",
    "df_final_mean = df_final.mean()\n",
    "df_final_median = df_final.median()\n",
    "df_final_std = df_final.std()\n",
    "df_final_min = df_final.min()\n",
    "df_final_max = df_final.max()\n",
    "\n",
    "# Write all into text file\n",
    "detail_string = '''\n",
    "--------------------Mean--------------------\n",
    "{df_final_mean}\n",
    "--------------------Median--------------------\n",
    "{df_final_median}\n",
    "--------------------Std--------------------\n",
    "{df_final_std}\n",
    "--------------------Min--------------------\n",
    "{df_final_min}\n",
    "--------------------Max--------------------\n",
    "{df_final_max}\n",
    "'''\n",
    "write_file = open(PATH + 'final_data_detail.txt', 'w')\n",
    "write_file.write(detail_string.format(df_final_mean=df_final_mean,\n",
    "                                      df_final_median=df_final_median,\n",
    "                                      df_final_std=df_final_std,\n",
    "                                      df_final_min=df_final_min,\n",
    "                                      df_final_max=df_final_max))\n"
   ]
  },
  {
   "cell_type": "markdown",
   "metadata": {},
   "source": [
    "## 데이터 표준화"
   ]
  },
  {
   "cell_type": "code",
   "execution_count": 59,
   "metadata": {},
   "outputs": [],
   "source": [
    "normalization_feature = ['진단시점나이','CMV IgM[Serum]','CMV IgG[Serum]','HSV IgM[Serum]','VZV IgM[Serum]','VZV IgG[Serum]','WBC COUNT[Whole blood]','Lymphocyte(#)[Whole blood]','Lymphocyte(%)[Whole blood]','Monocyte(#)[Whole blood]','Monocyte(%)[Whole blood]','Neutrophil(#)[Whole blood]','Neutrophil(%)[Whole blood]','ESR[Whole blood]','CRP[Serum]']\n",
    "\n",
    "# normalize features\n",
    "df_normalize = df_final.copy()\n",
    "\n",
    "df_normalize[normalization_feature] = df_normalize[normalization_feature].apply(lambda x: (x - x.mean()) / (x.std()))"
   ]
  },
  {
   "cell_type": "code",
   "execution_count": 60,
   "metadata": {},
   "outputs": [
    {
     "data": {
      "text/html": [
       "<div>\n",
       "<style scoped>\n",
       "    .dataframe tbody tr th:only-of-type {\n",
       "        vertical-align: middle;\n",
       "    }\n",
       "\n",
       "    .dataframe tbody tr th {\n",
       "        vertical-align: top;\n",
       "    }\n",
       "\n",
       "    .dataframe thead th {\n",
       "        text-align: right;\n",
       "    }\n",
       "</style>\n",
       "<table border=\"1\" class=\"dataframe\">\n",
       "  <thead>\n",
       "    <tr style=\"text-align: right;\">\n",
       "      <th></th>\n",
       "      <th></th>\n",
       "      <th>Diagnosis</th>\n",
       "      <th>Gender</th>\n",
       "      <th>진단시점나이</th>\n",
       "      <th>CMV IgM[Serum]</th>\n",
       "      <th>CMV IgG[Serum]</th>\n",
       "      <th>HSV IgM[Serum]</th>\n",
       "      <th>VZV IgM[Serum]</th>\n",
       "      <th>VZV IgG[Serum]</th>\n",
       "      <th>WBC COUNT[Whole blood]</th>\n",
       "      <th>Lymphocyte(#)[Whole blood]</th>\n",
       "      <th>Lymphocyte(%)[Whole blood]</th>\n",
       "      <th>Monocyte(#)[Whole blood]</th>\n",
       "      <th>Monocyte(%)[Whole blood]</th>\n",
       "      <th>Neutrophil(#)[Whole blood]</th>\n",
       "      <th>Neutrophil(%)[Whole blood]</th>\n",
       "      <th>ESR[Whole blood]</th>\n",
       "      <th>CRP[Serum]</th>\n",
       "    </tr>\n",
       "    <tr>\n",
       "      <th>연구등록번호</th>\n",
       "      <th></th>\n",
       "      <th></th>\n",
       "      <th></th>\n",
       "      <th></th>\n",
       "      <th></th>\n",
       "      <th></th>\n",
       "      <th></th>\n",
       "      <th></th>\n",
       "      <th></th>\n",
       "      <th></th>\n",
       "      <th></th>\n",
       "      <th></th>\n",
       "      <th></th>\n",
       "      <th></th>\n",
       "      <th></th>\n",
       "      <th></th>\n",
       "      <th></th>\n",
       "      <th></th>\n",
       "    </tr>\n",
       "  </thead>\n",
       "  <tbody>\n",
       "    <tr>\n",
       "      <th rowspan=\"2\" valign=\"top\">104150</th>\n",
       "      <th>0</th>\n",
       "      <td>0</td>\n",
       "      <td>1</td>\n",
       "      <td>0.523362</td>\n",
       "      <td>-0.129063</td>\n",
       "      <td>-0.141728</td>\n",
       "      <td>-0.173926</td>\n",
       "      <td>-0.173158</td>\n",
       "      <td>-0.071609</td>\n",
       "      <td>0.232926</td>\n",
       "      <td>-1.115800</td>\n",
       "      <td>-1.547929</td>\n",
       "      <td>-0.421460</td>\n",
       "      <td>-0.726479</td>\n",
       "      <td>0.938905</td>\n",
       "      <td>-0.063799</td>\n",
       "      <td>-0.007692</td>\n",
       "      <td>-0.211225</td>\n",
       "    </tr>\n",
       "    <tr>\n",
       "      <th>1</th>\n",
       "      <td>0</td>\n",
       "      <td>1</td>\n",
       "      <td>0.523362</td>\n",
       "      <td>-0.129063</td>\n",
       "      <td>-0.141728</td>\n",
       "      <td>-0.173926</td>\n",
       "      <td>-0.173158</td>\n",
       "      <td>-0.071609</td>\n",
       "      <td>-0.468530</td>\n",
       "      <td>0.155528</td>\n",
       "      <td>0.836789</td>\n",
       "      <td>-0.230419</td>\n",
       "      <td>0.223457</td>\n",
       "      <td>-0.720708</td>\n",
       "      <td>-0.063799</td>\n",
       "      <td>-0.007692</td>\n",
       "      <td>-0.211225</td>\n",
       "    </tr>\n",
       "    <tr>\n",
       "      <th rowspan=\"3\" valign=\"top\">261562</th>\n",
       "      <th>2</th>\n",
       "      <td>1</td>\n",
       "      <td>0</td>\n",
       "      <td>1.580601</td>\n",
       "      <td>0.824021</td>\n",
       "      <td>-1.561817</td>\n",
       "      <td>0.299113</td>\n",
       "      <td>0.935650</td>\n",
       "      <td>-1.296935</td>\n",
       "      <td>1.171360</td>\n",
       "      <td>0.796625</td>\n",
       "      <td>-0.081070</td>\n",
       "      <td>0.533746</td>\n",
       "      <td>0.165885</td>\n",
       "      <td>1.839619</td>\n",
       "      <td>0.174120</td>\n",
       "      <td>0.379050</td>\n",
       "      <td>0.538617</td>\n",
       "    </tr>\n",
       "    <tr>\n",
       "      <th>3</th>\n",
       "      <td>1</td>\n",
       "      <td>0</td>\n",
       "      <td>1.580601</td>\n",
       "      <td>0.824021</td>\n",
       "      <td>-1.561817</td>\n",
       "      <td>0.299113</td>\n",
       "      <td>0.935650</td>\n",
       "      <td>-1.296935</td>\n",
       "      <td>2.624038</td>\n",
       "      <td>-0.931077</td>\n",
       "      <td>-2.079773</td>\n",
       "      <td>0.839412</td>\n",
       "      <td>-0.927980</td>\n",
       "      <td>4.603087</td>\n",
       "      <td>0.174120</td>\n",
       "      <td>0.379050</td>\n",
       "      <td>0.538617</td>\n",
       "    </tr>\n",
       "    <tr>\n",
       "      <th>4</th>\n",
       "      <td>1</td>\n",
       "      <td>0</td>\n",
       "      <td>1.580601</td>\n",
       "      <td>0.824021</td>\n",
       "      <td>-1.561817</td>\n",
       "      <td>0.299113</td>\n",
       "      <td>0.935650</td>\n",
       "      <td>-1.296935</td>\n",
       "      <td>1.332506</td>\n",
       "      <td>-0.159587</td>\n",
       "      <td>-1.367789</td>\n",
       "      <td>0.724787</td>\n",
       "      <td>-0.553763</td>\n",
       "      <td>2.230568</td>\n",
       "      <td>0.174120</td>\n",
       "      <td>0.379050</td>\n",
       "      <td>0.538617</td>\n",
       "    </tr>\n",
       "  </tbody>\n",
       "</table>\n",
       "</div>"
      ],
      "text/plain": [
       "          Diagnosis  Gender    진단시점나이  CMV IgM[Serum]  CMV IgG[Serum]  \\\n",
       "연구등록번호                                                                  \n",
       "104150 0          0       1  0.523362       -0.129063       -0.141728   \n",
       "       1          0       1  0.523362       -0.129063       -0.141728   \n",
       "261562 2          1       0  1.580601        0.824021       -1.561817   \n",
       "       3          1       0  1.580601        0.824021       -1.561817   \n",
       "       4          1       0  1.580601        0.824021       -1.561817   \n",
       "\n",
       "          HSV IgM[Serum]  VZV IgM[Serum]  VZV IgG[Serum]  \\\n",
       "연구등록번호                                                     \n",
       "104150 0       -0.173926       -0.173158       -0.071609   \n",
       "       1       -0.173926       -0.173158       -0.071609   \n",
       "261562 2        0.299113        0.935650       -1.296935   \n",
       "       3        0.299113        0.935650       -1.296935   \n",
       "       4        0.299113        0.935650       -1.296935   \n",
       "\n",
       "          WBC COUNT[Whole blood]  Lymphocyte(#)[Whole blood]  \\\n",
       "연구등록번호                                                         \n",
       "104150 0                0.232926                   -1.115800   \n",
       "       1               -0.468530                    0.155528   \n",
       "261562 2                1.171360                    0.796625   \n",
       "       3                2.624038                   -0.931077   \n",
       "       4                1.332506                   -0.159587   \n",
       "\n",
       "          Lymphocyte(%)[Whole blood]  Monocyte(#)[Whole blood]  \\\n",
       "연구등록번호                                                           \n",
       "104150 0                   -1.547929                 -0.421460   \n",
       "       1                    0.836789                 -0.230419   \n",
       "261562 2                   -0.081070                  0.533746   \n",
       "       3                   -2.079773                  0.839412   \n",
       "       4                   -1.367789                  0.724787   \n",
       "\n",
       "          Monocyte(%)[Whole blood]  Neutrophil(#)[Whole blood]  \\\n",
       "연구등록번호                                                           \n",
       "104150 0                 -0.726479                    0.938905   \n",
       "       1                  0.223457                   -0.720708   \n",
       "261562 2                  0.165885                    1.839619   \n",
       "       3                 -0.927980                    4.603087   \n",
       "       4                 -0.553763                    2.230568   \n",
       "\n",
       "          Neutrophil(%)[Whole blood]  ESR[Whole blood]  CRP[Serum]  \n",
       "연구등록번호                                                              \n",
       "104150 0                   -0.063799         -0.007692   -0.211225  \n",
       "       1                   -0.063799         -0.007692   -0.211225  \n",
       "261562 2                    0.174120          0.379050    0.538617  \n",
       "       3                    0.174120          0.379050    0.538617  \n",
       "       4                    0.174120          0.379050    0.538617  "
      ]
     },
     "execution_count": 60,
     "metadata": {},
     "output_type": "execute_result"
    }
   ],
   "source": [
    "df_normalize.head()"
   ]
  },
  {
   "cell_type": "code",
   "execution_count": 61,
   "metadata": {},
   "outputs": [],
   "source": [
    "df_normalize.to_excel(PATH + 'final_data_normalize.xlsx')"
   ]
  },
  {
   "cell_type": "code",
   "execution_count": null,
   "metadata": {},
   "outputs": [],
   "source": []
  }
 ],
 "metadata": {
  "interpreter": {
   "hash": "b8076bc061f97e3217ad450c1541df79973787e36f6a4169d5d3c6972128daea"
  },
  "kernelspec": {
   "display_name": "Python 3.7.11 ('NLP')",
   "language": "python",
   "name": "python3"
  },
  "language_info": {
   "codemirror_mode": {
    "name": "ipython",
    "version": 3
   },
   "file_extension": ".py",
   "mimetype": "text/x-python",
   "name": "python",
   "nbconvert_exporter": "python",
   "pygments_lexer": "ipython3",
   "version": "3.7.11"
  },
  "orig_nbformat": 4
 },
 "nbformat": 4,
 "nbformat_minor": 2
}
